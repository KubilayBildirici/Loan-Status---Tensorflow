{
 "cells": [
  {
   "metadata": {},
   "cell_type": "markdown",
   "source": [
    "![Credit Score Concept – Loan Status Classification](https://www.nfcc.org/wp-content/uploads/2020/09/bigstock-Credit-Score-Concept-Business-384487778.jpg)\n",
    "\n",
    "# Second Model: Loan Status Classification\n",
    "\n",
    "## 🎯 Objective\n",
    "This model predicts whether a loan application will be **approved** or **rejected** (binary classification) based on the applicant’s demographic and financial features plus the credit score predicted by the first model.\n",
    "\n",
    "---\n",
    "\n",
    "## 📊 Dataset\n",
    "- **Source**: `loan_data.csv`  \n",
    "- **Total samples**: _XX,XXX_  \n",
    "- **Target variable**: `loan_status` (`Yes` = approved, `No` = rejected)  \n",
    "- **Train/Test split**: 80% train / 20% test (`random_state=42`)\n",
    "\n",
    "---\n",
    "\n",
    "## 🔍 Features\n",
    "\n",
    "| Type          | Feature Name                       | Description                                       |\n",
    "|---------------|------------------------------------|---------------------------------------------------|\n",
    "| **Numeric**   | `person_age`                       | Applicant’s age                                   |\n",
    "| **Numeric**   | `person_income`                    | Annual income (USD)                               |\n",
    "| **Numeric**   | `person_emp_exp`                   | Years of employment                               |\n",
    "| **Numeric**   | `loan_amnt`                        | Requested loan amount                             |\n",
    "| **Numeric**   | `loan_int_rate`                    | Interest rate (%)                                 |\n",
    "| **Numeric**   | `loan_percent_income`              | Loan amount as a percentage of income             |\n",
    "| **Numeric**   | `cb_person_cred_hist_length`       | Length of credit history (years)                  |\n",
    "| **Numeric**   | `credit_score`                     | Credit score predicted by the first model         |\n",
    "| **Categorical** | `person_gender`                  | Gender (`female` / `male`)                        |\n",
    "| **Categorical** | `person_education`               | Education level (`High School`, `Bachelor`, etc.) |\n",
    "| **Categorical** | `person_home_ownership`          | Home ownership status (`RENT`, `OWN`, etc.)       |\n",
    "| **Categorical** | `loan_intent`                    | Purpose of loan (`PERSONAL`, `EDUCATION`, etc.)   |\n",
    "| **Categorical** | `previous_loan_defaults_on_file` | Prior default flag (`Yes` / `No`)                 |\n",
    "\n",
    "---"
   ],
   "id": "aad4df94908ac16c"
  },
  {
   "metadata": {},
   "cell_type": "markdown",
   "source": "# 🎯Import of necessary libraries",
   "id": "314e055947ae7b7b"
  },
  {
   "cell_type": "code",
   "id": "initial_id",
   "metadata": {
    "collapsed": true,
    "ExecuteTime": {
     "end_time": "2025-05-17T11:59:54.267698Z",
     "start_time": "2025-05-17T11:59:51.487034Z"
    }
   },
   "source": [
    "import pandas as pd\n",
    "import numpy as np\n",
    "import matplotlib.pyplot as plt\n",
    "import tensorflow as tf"
   ],
   "outputs": [],
   "execution_count": 1
  },
  {
   "metadata": {
    "ExecuteTime": {
     "end_time": "2025-05-17T11:59:56.899177Z",
     "start_time": "2025-05-17T11:59:56.830567Z"
    }
   },
   "cell_type": "code",
   "source": [
    "data = pd.read_csv(\"loan_data.csv\")\n",
    "data.head()"
   ],
   "id": "7033403f8afb2c9b",
   "outputs": [
    {
     "data": {
      "text/plain": [
       "   person_age person_gender person_education  person_income  person_emp_exp  \\\n",
       "0        22.0        female           Master        71948.0               0   \n",
       "1        21.0        female      High School        12282.0               0   \n",
       "2        25.0        female      High School        12438.0               3   \n",
       "3        23.0        female         Bachelor        79753.0               0   \n",
       "4        24.0          male           Master        66135.0               1   \n",
       "\n",
       "  person_home_ownership  loan_amnt loan_intent  loan_int_rate  \\\n",
       "0                  RENT    35000.0    PERSONAL          16.02   \n",
       "1                   OWN     1000.0   EDUCATION          11.14   \n",
       "2              MORTGAGE     5500.0     MEDICAL          12.87   \n",
       "3                  RENT    35000.0     MEDICAL          15.23   \n",
       "4                  RENT    35000.0     MEDICAL          14.27   \n",
       "\n",
       "   loan_percent_income  cb_person_cred_hist_length  credit_score  \\\n",
       "0                 0.49                         3.0           561   \n",
       "1                 0.08                         2.0           504   \n",
       "2                 0.44                         3.0           635   \n",
       "3                 0.44                         2.0           675   \n",
       "4                 0.53                         4.0           586   \n",
       "\n",
       "  previous_loan_defaults_on_file  loan_status  \n",
       "0                             No            1  \n",
       "1                            Yes            0  \n",
       "2                             No            1  \n",
       "3                             No            1  \n",
       "4                             No            1  "
      ],
      "text/html": [
       "<div>\n",
       "<style scoped>\n",
       "    .dataframe tbody tr th:only-of-type {\n",
       "        vertical-align: middle;\n",
       "    }\n",
       "\n",
       "    .dataframe tbody tr th {\n",
       "        vertical-align: top;\n",
       "    }\n",
       "\n",
       "    .dataframe thead th {\n",
       "        text-align: right;\n",
       "    }\n",
       "</style>\n",
       "<table border=\"1\" class=\"dataframe\">\n",
       "  <thead>\n",
       "    <tr style=\"text-align: right;\">\n",
       "      <th></th>\n",
       "      <th>person_age</th>\n",
       "      <th>person_gender</th>\n",
       "      <th>person_education</th>\n",
       "      <th>person_income</th>\n",
       "      <th>person_emp_exp</th>\n",
       "      <th>person_home_ownership</th>\n",
       "      <th>loan_amnt</th>\n",
       "      <th>loan_intent</th>\n",
       "      <th>loan_int_rate</th>\n",
       "      <th>loan_percent_income</th>\n",
       "      <th>cb_person_cred_hist_length</th>\n",
       "      <th>credit_score</th>\n",
       "      <th>previous_loan_defaults_on_file</th>\n",
       "      <th>loan_status</th>\n",
       "    </tr>\n",
       "  </thead>\n",
       "  <tbody>\n",
       "    <tr>\n",
       "      <th>0</th>\n",
       "      <td>22.0</td>\n",
       "      <td>female</td>\n",
       "      <td>Master</td>\n",
       "      <td>71948.0</td>\n",
       "      <td>0</td>\n",
       "      <td>RENT</td>\n",
       "      <td>35000.0</td>\n",
       "      <td>PERSONAL</td>\n",
       "      <td>16.02</td>\n",
       "      <td>0.49</td>\n",
       "      <td>3.0</td>\n",
       "      <td>561</td>\n",
       "      <td>No</td>\n",
       "      <td>1</td>\n",
       "    </tr>\n",
       "    <tr>\n",
       "      <th>1</th>\n",
       "      <td>21.0</td>\n",
       "      <td>female</td>\n",
       "      <td>High School</td>\n",
       "      <td>12282.0</td>\n",
       "      <td>0</td>\n",
       "      <td>OWN</td>\n",
       "      <td>1000.0</td>\n",
       "      <td>EDUCATION</td>\n",
       "      <td>11.14</td>\n",
       "      <td>0.08</td>\n",
       "      <td>2.0</td>\n",
       "      <td>504</td>\n",
       "      <td>Yes</td>\n",
       "      <td>0</td>\n",
       "    </tr>\n",
       "    <tr>\n",
       "      <th>2</th>\n",
       "      <td>25.0</td>\n",
       "      <td>female</td>\n",
       "      <td>High School</td>\n",
       "      <td>12438.0</td>\n",
       "      <td>3</td>\n",
       "      <td>MORTGAGE</td>\n",
       "      <td>5500.0</td>\n",
       "      <td>MEDICAL</td>\n",
       "      <td>12.87</td>\n",
       "      <td>0.44</td>\n",
       "      <td>3.0</td>\n",
       "      <td>635</td>\n",
       "      <td>No</td>\n",
       "      <td>1</td>\n",
       "    </tr>\n",
       "    <tr>\n",
       "      <th>3</th>\n",
       "      <td>23.0</td>\n",
       "      <td>female</td>\n",
       "      <td>Bachelor</td>\n",
       "      <td>79753.0</td>\n",
       "      <td>0</td>\n",
       "      <td>RENT</td>\n",
       "      <td>35000.0</td>\n",
       "      <td>MEDICAL</td>\n",
       "      <td>15.23</td>\n",
       "      <td>0.44</td>\n",
       "      <td>2.0</td>\n",
       "      <td>675</td>\n",
       "      <td>No</td>\n",
       "      <td>1</td>\n",
       "    </tr>\n",
       "    <tr>\n",
       "      <th>4</th>\n",
       "      <td>24.0</td>\n",
       "      <td>male</td>\n",
       "      <td>Master</td>\n",
       "      <td>66135.0</td>\n",
       "      <td>1</td>\n",
       "      <td>RENT</td>\n",
       "      <td>35000.0</td>\n",
       "      <td>MEDICAL</td>\n",
       "      <td>14.27</td>\n",
       "      <td>0.53</td>\n",
       "      <td>4.0</td>\n",
       "      <td>586</td>\n",
       "      <td>No</td>\n",
       "      <td>1</td>\n",
       "    </tr>\n",
       "  </tbody>\n",
       "</table>\n",
       "</div>"
      ]
     },
     "execution_count": 2,
     "metadata": {},
     "output_type": "execute_result"
    }
   ],
   "execution_count": 2
  },
  {
   "metadata": {
    "ExecuteTime": {
     "end_time": "2025-05-17T12:00:02.196110Z",
     "start_time": "2025-05-17T12:00:02.174639Z"
    }
   },
   "cell_type": "code",
   "source": [
    "loan_status_data = data[['credit_score', 'loan_status',]]\n",
    "loan_status_data"
   ],
   "id": "df3b14c53e9d85c7",
   "outputs": [
    {
     "data": {
      "text/plain": [
       "       credit_score  loan_status\n",
       "0               561            1\n",
       "1               504            0\n",
       "2               635            1\n",
       "3               675            1\n",
       "4               586            1\n",
       "...             ...          ...\n",
       "44995           645            1\n",
       "44996           621            1\n",
       "44997           668            1\n",
       "44998           604            1\n",
       "44999           628            1\n",
       "\n",
       "[45000 rows x 2 columns]"
      ],
      "text/html": [
       "<div>\n",
       "<style scoped>\n",
       "    .dataframe tbody tr th:only-of-type {\n",
       "        vertical-align: middle;\n",
       "    }\n",
       "\n",
       "    .dataframe tbody tr th {\n",
       "        vertical-align: top;\n",
       "    }\n",
       "\n",
       "    .dataframe thead th {\n",
       "        text-align: right;\n",
       "    }\n",
       "</style>\n",
       "<table border=\"1\" class=\"dataframe\">\n",
       "  <thead>\n",
       "    <tr style=\"text-align: right;\">\n",
       "      <th></th>\n",
       "      <th>credit_score</th>\n",
       "      <th>loan_status</th>\n",
       "    </tr>\n",
       "  </thead>\n",
       "  <tbody>\n",
       "    <tr>\n",
       "      <th>0</th>\n",
       "      <td>561</td>\n",
       "      <td>1</td>\n",
       "    </tr>\n",
       "    <tr>\n",
       "      <th>1</th>\n",
       "      <td>504</td>\n",
       "      <td>0</td>\n",
       "    </tr>\n",
       "    <tr>\n",
       "      <th>2</th>\n",
       "      <td>635</td>\n",
       "      <td>1</td>\n",
       "    </tr>\n",
       "    <tr>\n",
       "      <th>3</th>\n",
       "      <td>675</td>\n",
       "      <td>1</td>\n",
       "    </tr>\n",
       "    <tr>\n",
       "      <th>4</th>\n",
       "      <td>586</td>\n",
       "      <td>1</td>\n",
       "    </tr>\n",
       "    <tr>\n",
       "      <th>...</th>\n",
       "      <td>...</td>\n",
       "      <td>...</td>\n",
       "    </tr>\n",
       "    <tr>\n",
       "      <th>44995</th>\n",
       "      <td>645</td>\n",
       "      <td>1</td>\n",
       "    </tr>\n",
       "    <tr>\n",
       "      <th>44996</th>\n",
       "      <td>621</td>\n",
       "      <td>1</td>\n",
       "    </tr>\n",
       "    <tr>\n",
       "      <th>44997</th>\n",
       "      <td>668</td>\n",
       "      <td>1</td>\n",
       "    </tr>\n",
       "    <tr>\n",
       "      <th>44998</th>\n",
       "      <td>604</td>\n",
       "      <td>1</td>\n",
       "    </tr>\n",
       "    <tr>\n",
       "      <th>44999</th>\n",
       "      <td>628</td>\n",
       "      <td>1</td>\n",
       "    </tr>\n",
       "  </tbody>\n",
       "</table>\n",
       "<p>45000 rows × 2 columns</p>\n",
       "</div>"
      ]
     },
     "execution_count": 3,
     "metadata": {},
     "output_type": "execute_result"
    }
   ],
   "execution_count": 3
  },
  {
   "metadata": {},
   "cell_type": "markdown",
   "source": [
    "## ☢ Data set imbalance exists\n",
    "* **35000 == 0 -> cannot use credit**\n",
    "* **10000 == 1 -> credit available**"
   ],
   "id": "9335cb045339498d"
  },
  {
   "metadata": {
    "ExecuteTime": {
     "end_time": "2025-05-17T12:00:04.857052Z",
     "start_time": "2025-05-17T12:00:04.845827Z"
    }
   },
   "cell_type": "code",
   "source": "loan_status_data[\"loan_status\"].value_counts()",
   "id": "944b343f25257c4f",
   "outputs": [
    {
     "data": {
      "text/plain": [
       "loan_status\n",
       "0    35000\n",
       "1    10000\n",
       "Name: count, dtype: int64"
      ]
     },
     "execution_count": 4,
     "metadata": {},
     "output_type": "execute_result"
    }
   ],
   "execution_count": 4
  },
  {
   "metadata": {
    "ExecuteTime": {
     "end_time": "2025-05-17T12:03:37.432807Z",
     "start_time": "2025-05-17T12:03:37.414643Z"
    }
   },
   "cell_type": "code",
   "source": [
    "X = loan_status_data.drop('loan_status', axis=1)\n",
    "y = loan_status_data['loan_status']"
   ],
   "id": "c3a7fa786dc4e26a",
   "outputs": [],
   "execution_count": 5
  },
  {
   "metadata": {
    "ExecuteTime": {
     "end_time": "2025-05-17T12:03:38.959885Z",
     "start_time": "2025-05-17T12:03:38.948062Z"
    }
   },
   "cell_type": "code",
   "source": "X  #features",
   "id": "f0ea932847508044",
   "outputs": [
    {
     "data": {
      "text/plain": [
       "       credit_score\n",
       "0               561\n",
       "1               504\n",
       "2               635\n",
       "3               675\n",
       "4               586\n",
       "...             ...\n",
       "44995           645\n",
       "44996           621\n",
       "44997           668\n",
       "44998           604\n",
       "44999           628\n",
       "\n",
       "[45000 rows x 1 columns]"
      ],
      "text/html": [
       "<div>\n",
       "<style scoped>\n",
       "    .dataframe tbody tr th:only-of-type {\n",
       "        vertical-align: middle;\n",
       "    }\n",
       "\n",
       "    .dataframe tbody tr th {\n",
       "        vertical-align: top;\n",
       "    }\n",
       "\n",
       "    .dataframe thead th {\n",
       "        text-align: right;\n",
       "    }\n",
       "</style>\n",
       "<table border=\"1\" class=\"dataframe\">\n",
       "  <thead>\n",
       "    <tr style=\"text-align: right;\">\n",
       "      <th></th>\n",
       "      <th>credit_score</th>\n",
       "    </tr>\n",
       "  </thead>\n",
       "  <tbody>\n",
       "    <tr>\n",
       "      <th>0</th>\n",
       "      <td>561</td>\n",
       "    </tr>\n",
       "    <tr>\n",
       "      <th>1</th>\n",
       "      <td>504</td>\n",
       "    </tr>\n",
       "    <tr>\n",
       "      <th>2</th>\n",
       "      <td>635</td>\n",
       "    </tr>\n",
       "    <tr>\n",
       "      <th>3</th>\n",
       "      <td>675</td>\n",
       "    </tr>\n",
       "    <tr>\n",
       "      <th>4</th>\n",
       "      <td>586</td>\n",
       "    </tr>\n",
       "    <tr>\n",
       "      <th>...</th>\n",
       "      <td>...</td>\n",
       "    </tr>\n",
       "    <tr>\n",
       "      <th>44995</th>\n",
       "      <td>645</td>\n",
       "    </tr>\n",
       "    <tr>\n",
       "      <th>44996</th>\n",
       "      <td>621</td>\n",
       "    </tr>\n",
       "    <tr>\n",
       "      <th>44997</th>\n",
       "      <td>668</td>\n",
       "    </tr>\n",
       "    <tr>\n",
       "      <th>44998</th>\n",
       "      <td>604</td>\n",
       "    </tr>\n",
       "    <tr>\n",
       "      <th>44999</th>\n",
       "      <td>628</td>\n",
       "    </tr>\n",
       "  </tbody>\n",
       "</table>\n",
       "<p>45000 rows × 1 columns</p>\n",
       "</div>"
      ]
     },
     "execution_count": 6,
     "metadata": {},
     "output_type": "execute_result"
    }
   ],
   "execution_count": 6
  },
  {
   "metadata": {
    "ExecuteTime": {
     "end_time": "2025-05-17T12:03:40.829483Z",
     "start_time": "2025-05-17T12:03:40.818418Z"
    }
   },
   "cell_type": "code",
   "source": "y ",
   "id": "e6e29ccb451565d2",
   "outputs": [
    {
     "data": {
      "text/plain": [
       "0        1\n",
       "1        0\n",
       "2        1\n",
       "3        1\n",
       "4        1\n",
       "        ..\n",
       "44995    1\n",
       "44996    1\n",
       "44997    1\n",
       "44998    1\n",
       "44999    1\n",
       "Name: loan_status, Length: 45000, dtype: int64"
      ]
     },
     "execution_count": 7,
     "metadata": {},
     "output_type": "execute_result"
    }
   ],
   "execution_count": 7
  },
  {
   "metadata": {},
   "cell_type": "markdown",
   "source": [
    "## Train - Test - Split\n",
    "* **%80 train**\n",
    "* **%20 Test**"
   ],
   "id": "374831795bd3e4ae"
  },
  {
   "metadata": {
    "ExecuteTime": {
     "end_time": "2025-05-17T12:04:52.365583Z",
     "start_time": "2025-05-17T12:04:52.284855Z"
    }
   },
   "cell_type": "code",
   "source": [
    "from sklearn.model_selection import train_test_split\n",
    "\n",
    "X_train,X_test,y_train,y_test = train_test_split(X,y,test_size=0.2,random_state=42)"
   ],
   "id": "2604c06db2c0c3a",
   "outputs": [],
   "execution_count": 8
  },
  {
   "metadata": {
    "ExecuteTime": {
     "end_time": "2025-05-17T12:04:53.757723Z",
     "start_time": "2025-05-17T12:04:53.742723Z"
    }
   },
   "cell_type": "code",
   "source": [
    "print(f\"X_train shape: {X_train.shape}\")\n",
    "print(f\"y_train shape: {y_train.shape}\")\n",
    "print(f\"X_test shape: {X_test.shape}\")\n",
    "print(f\"y_test shape: {y_test.shape}\")"
   ],
   "id": "21cabdf0655e6b87",
   "outputs": [
    {
     "name": "stdout",
     "output_type": "stream",
     "text": [
      "X_train shape: (36000, 1)\n",
      "y_train shape: (36000,)\n",
      "X_test shape: (9000, 1)\n",
      "y_test shape: (9000,)\n"
     ]
    }
   ],
   "execution_count": 9
  },
  {
   "metadata": {
    "ExecuteTime": {
     "end_time": "2025-05-17T12:04:55.296727Z",
     "start_time": "2025-05-17T12:04:55.282422Z"
    }
   },
   "cell_type": "code",
   "source": "X_train",
   "id": "fa693ea67699a222",
   "outputs": [
    {
     "data": {
      "text/plain": [
       "       credit_score\n",
       "25180           631\n",
       "12555           659\n",
       "29153           683\n",
       "23838           641\n",
       "35686           706\n",
       "...             ...\n",
       "11284           559\n",
       "44732           647\n",
       "38158           652\n",
       "860             604\n",
       "15795           664\n",
       "\n",
       "[36000 rows x 1 columns]"
      ],
      "text/html": [
       "<div>\n",
       "<style scoped>\n",
       "    .dataframe tbody tr th:only-of-type {\n",
       "        vertical-align: middle;\n",
       "    }\n",
       "\n",
       "    .dataframe tbody tr th {\n",
       "        vertical-align: top;\n",
       "    }\n",
       "\n",
       "    .dataframe thead th {\n",
       "        text-align: right;\n",
       "    }\n",
       "</style>\n",
       "<table border=\"1\" class=\"dataframe\">\n",
       "  <thead>\n",
       "    <tr style=\"text-align: right;\">\n",
       "      <th></th>\n",
       "      <th>credit_score</th>\n",
       "    </tr>\n",
       "  </thead>\n",
       "  <tbody>\n",
       "    <tr>\n",
       "      <th>25180</th>\n",
       "      <td>631</td>\n",
       "    </tr>\n",
       "    <tr>\n",
       "      <th>12555</th>\n",
       "      <td>659</td>\n",
       "    </tr>\n",
       "    <tr>\n",
       "      <th>29153</th>\n",
       "      <td>683</td>\n",
       "    </tr>\n",
       "    <tr>\n",
       "      <th>23838</th>\n",
       "      <td>641</td>\n",
       "    </tr>\n",
       "    <tr>\n",
       "      <th>35686</th>\n",
       "      <td>706</td>\n",
       "    </tr>\n",
       "    <tr>\n",
       "      <th>...</th>\n",
       "      <td>...</td>\n",
       "    </tr>\n",
       "    <tr>\n",
       "      <th>11284</th>\n",
       "      <td>559</td>\n",
       "    </tr>\n",
       "    <tr>\n",
       "      <th>44732</th>\n",
       "      <td>647</td>\n",
       "    </tr>\n",
       "    <tr>\n",
       "      <th>38158</th>\n",
       "      <td>652</td>\n",
       "    </tr>\n",
       "    <tr>\n",
       "      <th>860</th>\n",
       "      <td>604</td>\n",
       "    </tr>\n",
       "    <tr>\n",
       "      <th>15795</th>\n",
       "      <td>664</td>\n",
       "    </tr>\n",
       "  </tbody>\n",
       "</table>\n",
       "<p>36000 rows × 1 columns</p>\n",
       "</div>"
      ]
     },
     "execution_count": 10,
     "metadata": {},
     "output_type": "execute_result"
    }
   ],
   "execution_count": 10
  },
  {
   "metadata": {},
   "cell_type": "markdown",
   "source": "### 🧬 First Simple Model - Model-1 - Classification",
   "id": "4d0bcd5ec6b7bf28"
  },
  {
   "metadata": {
    "ExecuteTime": {
     "end_time": "2025-05-17T12:05:52.129844Z",
     "start_time": "2025-05-17T12:05:43.238553Z"
    }
   },
   "cell_type": "code",
   "source": [
    "#create basic model\n",
    "\n",
    "tf.random.set_seed(42)\n",
    "\n",
    "model_1 = tf.keras.Sequential([    \n",
    "    tf.keras.layers.Input(shape=(1,)),\n",
    "    tf.keras.layers.Flatten(),\n",
    "    tf.keras.layers.Dense(4, activation='relu'),\n",
    "    tf.keras.layers.Dense(1, activation='sigmoid')\n",
    "])\n",
    "\n",
    "model_1.compile(loss=tf.keras.losses.BinaryCrossentropy(),\n",
    "                optimizer=tf.keras.optimizers.Adam(),\n",
    "                metrics=['accuracy'])\n",
    "\n",
    "history_1 = model_1.fit(X_train,y_train,epochs=10)"
   ],
   "id": "5345c77ba35d51b",
   "outputs": [
    {
     "name": "stdout",
     "output_type": "stream",
     "text": [
      "Epoch 1/10\n",
      "\u001B[1m1125/1125\u001B[0m \u001B[32m━━━━━━━━━━━━━━━━━━━━\u001B[0m\u001B[37m\u001B[0m \u001B[1m1s\u001B[0m 710us/step - accuracy: 0.7762 - loss: 18.8552\n",
      "Epoch 2/10\n",
      "\u001B[1m1125/1125\u001B[0m \u001B[32m━━━━━━━━━━━━━━━━━━━━\u001B[0m\u001B[37m\u001B[0m \u001B[1m1s\u001B[0m 689us/step - accuracy: 0.7762 - loss: 0.5342\n",
      "Epoch 3/10\n",
      "\u001B[1m1125/1125\u001B[0m \u001B[32m━━━━━━━━━━━━━━━━━━━━\u001B[0m\u001B[37m\u001B[0m \u001B[1m1s\u001B[0m 697us/step - accuracy: 0.7762 - loss: 0.5346\n",
      "Epoch 4/10\n",
      "\u001B[1m1125/1125\u001B[0m \u001B[32m━━━━━━━━━━━━━━━━━━━━\u001B[0m\u001B[37m\u001B[0m \u001B[1m1s\u001B[0m 726us/step - accuracy: 0.7762 - loss: 0.5348\n",
      "Epoch 5/10\n",
      "\u001B[1m1125/1125\u001B[0m \u001B[32m━━━━━━━━━━━━━━━━━━━━\u001B[0m\u001B[37m\u001B[0m \u001B[1m1s\u001B[0m 697us/step - accuracy: 0.7762 - loss: 0.5348\n",
      "Epoch 6/10\n",
      "\u001B[1m1125/1125\u001B[0m \u001B[32m━━━━━━━━━━━━━━━━━━━━\u001B[0m\u001B[37m\u001B[0m \u001B[1m1s\u001B[0m 694us/step - accuracy: 0.7762 - loss: 0.5347\n",
      "Epoch 7/10\n",
      "\u001B[1m1125/1125\u001B[0m \u001B[32m━━━━━━━━━━━━━━━━━━━━\u001B[0m\u001B[37m\u001B[0m \u001B[1m1s\u001B[0m 713us/step - accuracy: 0.7762 - loss: 0.5345\n",
      "Epoch 8/10\n",
      "\u001B[1m1125/1125\u001B[0m \u001B[32m━━━━━━━━━━━━━━━━━━━━\u001B[0m\u001B[37m\u001B[0m \u001B[1m1s\u001B[0m 727us/step - accuracy: 0.7762 - loss: 0.5344\n",
      "Epoch 9/10\n",
      "\u001B[1m1125/1125\u001B[0m \u001B[32m━━━━━━━━━━━━━━━━━━━━\u001B[0m\u001B[37m\u001B[0m \u001B[1m1s\u001B[0m 745us/step - accuracy: 0.7762 - loss: 0.5343\n",
      "Epoch 10/10\n",
      "\u001B[1m1125/1125\u001B[0m \u001B[32m━━━━━━━━━━━━━━━━━━━━\u001B[0m\u001B[37m\u001B[0m \u001B[1m1s\u001B[0m 748us/step - accuracy: 0.7762 - loss: 0.5342\n"
     ]
    }
   ],
   "execution_count": 11
  },
  {
   "metadata": {},
   "cell_type": "markdown",
   "source": "### Loss - Accuracy",
   "id": "f0bd62464882fdc1"
  },
  {
   "metadata": {
    "ExecuteTime": {
     "end_time": "2025-05-17T12:06:28.300732Z",
     "start_time": "2025-05-17T12:06:28.168833Z"
    }
   },
   "cell_type": "code",
   "source": "pd.DataFrame(history_1.history).plot(figsize=(8,5))",
   "id": "26bb8e8b06ae79e7",
   "outputs": [
    {
     "data": {
      "text/plain": [
       "<Axes: >"
      ]
     },
     "execution_count": 12,
     "metadata": {},
     "output_type": "execute_result"
    },
    {
     "data": {
      "text/plain": [
       "<Figure size 800x500 with 1 Axes>"
      ],
      "image/png": "[encoded data removed]"
     },
     "metadata": {},
     "output_type": "display_data"
    }
   ],
   "execution_count": 12
  },
  {
   "metadata": {
    "ExecuteTime": {
     "end_time": "2025-05-17T12:06:30.421378Z",
     "start_time": "2025-05-17T12:06:30.407140Z"
    }
   },
   "cell_type": "code",
   "source": "y_test",
   "id": "2984fd49096873d3",
   "outputs": [
    {
     "data": {
      "text/plain": [
       "37979    0\n",
       "9911     0\n",
       "43386    1\n",
       "13822    0\n",
       "44810    1\n",
       "        ..\n",
       "14572    0\n",
       "30384    0\n",
       "36665    0\n",
       "30569    0\n",
       "5321     0\n",
       "Name: loan_status, Length: 9000, dtype: int64"
      ]
     },
     "execution_count": 13,
     "metadata": {},
     "output_type": "execute_result"
    }
   ],
   "execution_count": 13
  },
  {
   "metadata": {},
   "cell_type": "markdown",
   "source": "## Model-1 Predict",
   "id": "f416fa3e35025591"
  },
  {
   "metadata": {
    "ExecuteTime": {
     "end_time": "2025-05-17T12:06:50.191074Z",
     "start_time": "2025-05-17T12:06:49.893437Z"
    }
   },
   "cell_type": "code",
   "source": [
    "y_pred_1 = model_1.predict(X_test)\n",
    "y_preds_1 = (y_pred_1 > 0.5).astype(int)\n",
    "y_preds_1"
   ],
   "id": "f8c2cb32a9dc1814",
   "outputs": [
    {
     "name": "stdout",
     "output_type": "stream",
     "text": [
      "\u001B[1m282/282\u001B[0m \u001B[32m━━━━━━━━━━━━━━━━━━━━\u001B[0m\u001B[37m\u001B[0m \u001B[1m0s\u001B[0m 524us/step\n"
     ]
    },
    {
     "data": {
      "text/plain": [
       "array([[0],\n",
       "       [0],\n",
       "       [0],\n",
       "       ...,\n",
       "       [0],\n",
       "       [0],\n",
       "       [0]])"
      ]
     },
     "execution_count": 14,
     "metadata": {},
     "output_type": "execute_result"
    }
   ],
   "execution_count": 14
  },
  {
   "metadata": {
    "ExecuteTime": {
     "end_time": "2025-05-17T12:06:52.114255Z",
     "start_time": "2025-05-17T12:06:51.780810Z"
    }
   },
   "cell_type": "code",
   "source": "model_1.evaluate(X_test,y_test)",
   "id": "61bb0058d8b1f4e",
   "outputs": [
    {
     "name": "stdout",
     "output_type": "stream",
     "text": [
      "\u001B[1m282/282\u001B[0m \u001B[32m━━━━━━━━━━━━━━━━━━━━\u001B[0m\u001B[37m\u001B[0m \u001B[1m0s\u001B[0m 709us/step - accuracy: 0.7656 - loss: 0.5451\n"
     ]
    },
    {
     "data": {
      "text/plain": [
       "[0.5320031642913818, 0.7766666412353516]"
      ]
     },
     "execution_count": 15,
     "metadata": {},
     "output_type": "execute_result"
    }
   ],
   "execution_count": 15
  },
  {
   "metadata": {},
   "cell_type": "markdown",
   "source": [
    "### **Confusion Matrix**\n",
    "![Confusion Matrix – Loan Status Classification](https://th.bing.com/th/id/OIP.4zdxbFqxAooB3EWlEIozjwHaHc?rs=1&pid=ImgDetMain)\n"
   ],
   "id": "e7f1fce92553a726"
  },
  {
   "metadata": {
    "ExecuteTime": {
     "end_time": "2025-05-17T12:09:52.292267Z",
     "start_time": "2025-05-17T12:09:52.284642Z"
    }
   },
   "cell_type": "code",
   "source": [
    "from sklearn.metrics import confusion_matrix\n",
    "\n",
    "confusion_matrix(y_test,y_preds_1)"
   ],
   "id": "30407ebc0cc11ce",
   "outputs": [
    {
     "data": {
      "text/plain": [
       "array([[6990,    0],\n",
       "       [2010,    0]])"
      ]
     },
     "execution_count": 16,
     "metadata": {},
     "output_type": "execute_result"
    }
   ],
   "execution_count": 16
  },
  {
   "metadata": {
    "ExecuteTime": {
     "end_time": "2025-05-17T12:10:17.695906Z",
     "start_time": "2025-05-17T12:10:17.692487Z"
    }
   },
   "cell_type": "code",
   "source": [
    "# Confusion Matrix Function\n",
    "\n",
    "from sklearn.metrics import confusion_matrix as sk_confusion_matrix\n",
    "import seaborn as sns\n",
    "\n",
    "def plot_confusion_matrix(y_true, y_pred):\n",
    "    cm = sk_confusion_matrix(y_true, y_pred)\n",
    "\n",
    "    plt.figure(figsize=(5,4))\n",
    "    sns.heatmap(cm, annot=True, fmt='d', cmap='Blues',\n",
    "                xticklabels=[0,1], yticklabels=[0,1])\n",
    "    plt.xlabel(\"Tahmin Edilen\")\n",
    "    plt.ylabel(\"Gerçek\")\n",
    "    plt.title(\"Confusion Matrix\")\n",
    "    plt.show()\n"
   ],
   "id": "1dc115ac0911c6a3",
   "outputs": [],
   "execution_count": 18
  },
  {
   "metadata": {},
   "cell_type": "markdown",
   "source": [
    "### Model-1 calculates all the values that it should calculate as '1' as zero.\n",
    "* insufficient data\n",
    "* A deeper model may need to be built\n",
    "* It needs to be normalized data"
   ],
   "id": "7aa158420f846aff"
  },
  {
   "metadata": {
    "ExecuteTime": {
     "end_time": "2025-05-17T12:13:37.452443Z",
     "start_time": "2025-05-17T12:13:37.348357Z"
    }
   },
   "cell_type": "code",
   "source": "plot_confusion_matrix(y_test,y_preds_1)",
   "id": "bcf592d7b581f3f5",
   "outputs": [
    {
     "data": {
      "text/plain": [
       "<Figure size 500x400 with 2 Axes>"
      ],
      "image/png": "[encoded data removed]"
     },
     "metadata": {},
     "output_type": "display_data"
    }
   ],
   "execution_count": 19
  },
  {
   "metadata": {},
   "cell_type": "markdown",
   "source": "### 🧬 Second Simple Model - Model-2 - Classification",
   "id": "5be77c9d83e5f63"
  },
  {
   "metadata": {
    "ExecuteTime": {
     "end_time": "2025-05-17T12:14:23.172777Z",
     "start_time": "2025-05-17T12:14:13.847992Z"
    }
   },
   "cell_type": "code",
   "source": [
    "#evaluate the model\n",
    "tf.random.set_seed(42)\n",
    "\n",
    "model_2 = tf.keras.Sequential([\n",
    "    tf.keras.layers.Input(shape=(1,)),\n",
    "    tf.keras.layers.Flatten(),\n",
    "    \n",
    "    tf.keras.layers.Dense(4, activation='relu'),\n",
    "    tf.keras.layers.Dense(4, activation='relu'),\n",
    "    tf.keras.layers.Dense(1, activation='sigmoid')\n",
    "])\n",
    "\n",
    "model_2.compile(loss=tf.keras.losses.BinaryCrossentropy(),\n",
    "                optimizer=tf.keras.optimizers.Adam(),\n",
    "                metrics=['accuracy'])\n",
    "\n",
    "history_2 = model_2.fit(X_train,y_train,epochs=10)"
   ],
   "id": "e8064cf250eccdd1",
   "outputs": [
    {
     "name": "stdout",
     "output_type": "stream",
     "text": [
      "Epoch 1/10\n",
      "\u001B[1m1125/1125\u001B[0m \u001B[32m━━━━━━━━━━━━━━━━━━━━\u001B[0m\u001B[37m\u001B[0m \u001B[1m2s\u001B[0m 749us/step - accuracy: 0.6542 - loss: 14.8484\n",
      "Epoch 2/10\n",
      "\u001B[1m1125/1125\u001B[0m \u001B[32m━━━━━━━━━━━━━━━━━━━━\u001B[0m\u001B[37m\u001B[0m \u001B[1m1s\u001B[0m 728us/step - accuracy: 0.7736 - loss: 0.5591\n",
      "Epoch 3/10\n",
      "\u001B[1m1125/1125\u001B[0m \u001B[32m━━━━━━━━━━━━━━━━━━━━\u001B[0m\u001B[37m\u001B[0m \u001B[1m1s\u001B[0m 726us/step - accuracy: 0.7706 - loss: 0.5668\n",
      "Epoch 4/10\n",
      "\u001B[1m1125/1125\u001B[0m \u001B[32m━━━━━━━━━━━━━━━━━━━━\u001B[0m\u001B[37m\u001B[0m \u001B[1m1s\u001B[0m 726us/step - accuracy: 0.7696 - loss: 0.5685\n",
      "Epoch 5/10\n",
      "\u001B[1m1125/1125\u001B[0m \u001B[32m━━━━━━━━━━━━━━━━━━━━\u001B[0m\u001B[37m\u001B[0m \u001B[1m1s\u001B[0m 735us/step - accuracy: 0.7700 - loss: 0.5680\n",
      "Epoch 6/10\n",
      "\u001B[1m1125/1125\u001B[0m \u001B[32m━━━━━━━━━━━━━━━━━━━━\u001B[0m\u001B[37m\u001B[0m \u001B[1m1s\u001B[0m 731us/step - accuracy: 0.7705 - loss: 0.5672\n",
      "Epoch 7/10\n",
      "\u001B[1m1125/1125\u001B[0m \u001B[32m━━━━━━━━━━━━━━━━━━━━\u001B[0m\u001B[37m\u001B[0m \u001B[1m1s\u001B[0m 735us/step - accuracy: 0.7713 - loss: 0.5662\n",
      "Epoch 8/10\n",
      "\u001B[1m1125/1125\u001B[0m \u001B[32m━━━━━━━━━━━━━━━━━━━━\u001B[0m\u001B[37m\u001B[0m \u001B[1m1s\u001B[0m 746us/step - accuracy: 0.7716 - loss: 0.5652\n",
      "Epoch 9/10\n",
      "\u001B[1m1125/1125\u001B[0m \u001B[32m━━━━━━━━━━━━━━━━━━━━\u001B[0m\u001B[37m\u001B[0m \u001B[1m1s\u001B[0m 739us/step - accuracy: 0.7717 - loss: 0.5642\n",
      "Epoch 10/10\n",
      "\u001B[1m1125/1125\u001B[0m \u001B[32m━━━━━━━━━━━━━━━━━━━━\u001B[0m\u001B[37m\u001B[0m \u001B[1m1s\u001B[0m 744us/step - accuracy: 0.7717 - loss: 0.5633\n"
     ]
    }
   ],
   "execution_count": 20
  },
  {
   "metadata": {
    "ExecuteTime": {
     "end_time": "2025-05-17T12:15:00.467123Z",
     "start_time": "2025-05-17T12:15:00.365942Z"
    }
   },
   "cell_type": "code",
   "source": "pd.DataFrame(history_2.history).plot(figsize=(8,5))",
   "id": "75f2ea30ade29224",
   "outputs": [
    {
     "data": {
      "text/plain": [
       "<Axes: >"
      ]
     },
     "execution_count": 21,
     "metadata": {},
     "output_type": "execute_result"
    },
    {
     "data": {
      "text/plain": [
       "<Figure size 800x500 with 1 Axes>"
      ],
      "image/png": "[encoded data removed]"
     },
     "metadata": {},
     "output_type": "display_data"
    }
   ],
   "execution_count": 21
  },
  {
   "metadata": {},
   "cell_type": "markdown",
   "source": "## Model-2 Predict",
   "id": "e3a2588e44c9ae8f"
  },
  {
   "metadata": {
    "ExecuteTime": {
     "end_time": "2025-05-17T12:15:21.846055Z",
     "start_time": "2025-05-17T12:15:21.541902Z"
    }
   },
   "cell_type": "code",
   "source": [
    "y_preds_2 = model_2.predict(X_test)\n",
    "y_preds_2 = (y_preds_2 > 0.5).astype(int)\n",
    "y_preds_2"
   ],
   "id": "86dba1bd4970ddd6",
   "outputs": [
    {
     "name": "stdout",
     "output_type": "stream",
     "text": [
      "\u001B[1m282/282\u001B[0m \u001B[32m━━━━━━━━━━━━━━━━━━━━\u001B[0m\u001B[37m\u001B[0m \u001B[1m0s\u001B[0m 545us/step\n"
     ]
    },
    {
     "data": {
      "text/plain": [
       "array([[0],\n",
       "       [0],\n",
       "       [0],\n",
       "       ...,\n",
       "       [0],\n",
       "       [0],\n",
       "       [0]])"
      ]
     },
     "execution_count": 22,
     "metadata": {},
     "output_type": "execute_result"
    }
   ],
   "execution_count": 22
  },
  {
   "metadata": {
    "ExecuteTime": {
     "end_time": "2025-05-17T12:15:24.678882Z",
     "start_time": "2025-05-17T12:15:24.587474Z"
    }
   },
   "cell_type": "code",
   "source": "plot_confusion_matrix(y_test,y_preds_2)",
   "id": "d72e07a552359c7c",
   "outputs": [
    {
     "data": {
      "text/plain": [
       "<Figure size 500x400 with 2 Axes>"
      ],
      "image/png": "[encoded data removed]"
     },
     "metadata": {},
     "output_type": "display_data"
    }
   ],
   "execution_count": 23
  },
  {
   "metadata": {},
   "cell_type": "markdown",
   "source": "### 🧬 Third Model - Model-3 - Classification",
   "id": "a142fa7728d5a2bd"
  },
  {
   "metadata": {
    "ExecuteTime": {
     "end_time": "2025-05-17T12:17:52.315798Z",
     "start_time": "2025-05-17T12:16:21.166105Z"
    }
   },
   "cell_type": "code",
   "source": [
    "tf.random.set_seed(42)\n",
    "\n",
    "model_3 = tf.keras.Sequential([\n",
    "    tf.keras.layers.Input(shape=(1,)),\n",
    "    tf.keras.layers.Flatten(),\n",
    "    \n",
    "    tf.keras.layers.Dense(64, activation='relu'),\n",
    "    tf.keras.layers.Dense(16, activation='relu'),\n",
    "    tf.keras.layers.Dense(4, activation='relu'),\n",
    "    tf.keras.layers.Dense(1, activation='sigmoid')\n",
    "])\n",
    "\n",
    "model_3.compile(loss=tf.keras.losses.BinaryCrossentropy(),\n",
    "                optimizer=tf.keras.optimizers.Adam(learning_rate=0.0001),\n",
    "                metrics=['accuracy'])\n",
    "\n",
    "history_3 = model_3.fit(X_train,y_train,epochs=100)"
   ],
   "id": "b3d3ad4e1986ff05",
   "outputs": [
    {
     "name": "stdout",
     "output_type": "stream",
     "text": [
      "Epoch 1/100\n",
      "\u001B[1m1125/1125\u001B[0m \u001B[32m━━━━━━━━━━━━━━━━━━━━\u001B[0m\u001B[37m\u001B[0m \u001B[1m2s\u001B[0m 785us/step - accuracy: 0.4211 - loss: 38.0953\n",
      "Epoch 2/100\n",
      "\u001B[1m1125/1125\u001B[0m \u001B[32m━━━━━━━━━━━━━━━━━━━━\u001B[0m\u001B[37m\u001B[0m \u001B[1m1s\u001B[0m 774us/step - accuracy: 0.7762 - loss: 0.6687\n",
      "Epoch 3/100\n",
      "\u001B[1m1125/1125\u001B[0m \u001B[32m━━━━━━━━━━━━━━━━━━━━\u001B[0m\u001B[37m\u001B[0m \u001B[1m1s\u001B[0m 775us/step - accuracy: 0.7762 - loss: 0.6481\n",
      "Epoch 4/100\n",
      "\u001B[1m1125/1125\u001B[0m \u001B[32m━━━━━━━━━━━━━━━━━━━━\u001B[0m\u001B[37m\u001B[0m \u001B[1m1s\u001B[0m 769us/step - accuracy: 0.7762 - loss: 0.6276\n",
      "Epoch 5/100\n",
      "\u001B[1m1125/1125\u001B[0m \u001B[32m━━━━━━━━━━━━━━━━━━━━\u001B[0m\u001B[37m\u001B[0m \u001B[1m1s\u001B[0m 775us/step - accuracy: 0.7762 - loss: 0.6090\n",
      "Epoch 6/100\n",
      "\u001B[1m1125/1125\u001B[0m \u001B[32m━━━━━━━━━━━━━━━━━━━━\u001B[0m\u001B[37m\u001B[0m \u001B[1m1s\u001B[0m 775us/step - accuracy: 0.7762 - loss: 0.5927\n",
      "Epoch 7/100\n",
      "\u001B[1m1125/1125\u001B[0m \u001B[32m━━━━━━━━━━━━━━━━━━━━\u001B[0m\u001B[37m\u001B[0m \u001B[1m1s\u001B[0m 777us/step - accuracy: 0.7762 - loss: 0.5788\n",
      "Epoch 8/100\n",
      "\u001B[1m1125/1125\u001B[0m \u001B[32m━━━━━━━━━━━━━━━━━━━━\u001B[0m\u001B[37m\u001B[0m \u001B[1m1s\u001B[0m 783us/step - accuracy: 0.7762 - loss: 0.5672\n",
      "Epoch 9/100\n",
      "\u001B[1m1125/1125\u001B[0m \u001B[32m━━━━━━━━━━━━━━━━━━━━\u001B[0m\u001B[37m\u001B[0m \u001B[1m1s\u001B[0m 780us/step - accuracy: 0.7762 - loss: 0.5577\n",
      "Epoch 10/100\n",
      "\u001B[1m1125/1125\u001B[0m \u001B[32m━━━━━━━━━━━━━━━━━━━━\u001B[0m\u001B[37m\u001B[0m \u001B[1m1s\u001B[0m 788us/step - accuracy: 0.7762 - loss: 0.5502\n",
      "Epoch 11/100\n",
      "\u001B[1m1125/1125\u001B[0m \u001B[32m━━━━━━━━━━━━━━━━━━━━\u001B[0m\u001B[37m\u001B[0m \u001B[1m1s\u001B[0m 789us/step - accuracy: 0.7762 - loss: 0.5444\n",
      "Epoch 12/100\n",
      "\u001B[1m1125/1125\u001B[0m \u001B[32m━━━━━━━━━━━━━━━━━━━━\u001B[0m\u001B[37m\u001B[0m \u001B[1m1s\u001B[0m 786us/step - accuracy: 0.7762 - loss: 0.5402\n",
      "Epoch 13/100\n",
      "\u001B[1m1125/1125\u001B[0m \u001B[32m━━━━━━━━━━━━━━━━━━━━\u001B[0m\u001B[37m\u001B[0m \u001B[1m1s\u001B[0m 788us/step - accuracy: 0.7762 - loss: 0.5371\n",
      "Epoch 14/100\n",
      "\u001B[1m1125/1125\u001B[0m \u001B[32m━━━━━━━━━━━━━━━━━━━━\u001B[0m\u001B[37m\u001B[0m \u001B[1m1s\u001B[0m 788us/step - accuracy: 0.7762 - loss: 0.5351\n",
      "Epoch 15/100\n",
      "\u001B[1m1125/1125\u001B[0m \u001B[32m━━━━━━━━━━━━━━━━━━━━\u001B[0m\u001B[37m\u001B[0m \u001B[1m1s\u001B[0m 784us/step - accuracy: 0.7762 - loss: 0.5337\n",
      "Epoch 16/100\n",
      "\u001B[1m1125/1125\u001B[0m \u001B[32m━━━━━━━━━━━━━━━━━━━━\u001B[0m\u001B[37m\u001B[0m \u001B[1m1s\u001B[0m 785us/step - accuracy: 0.7762 - loss: 0.5329\n",
      "Epoch 17/100\n",
      "\u001B[1m1125/1125\u001B[0m \u001B[32m━━━━━━━━━━━━━━━━━━━━\u001B[0m\u001B[37m\u001B[0m \u001B[1m1s\u001B[0m 782us/step - accuracy: 0.7762 - loss: 0.5324\n",
      "Epoch 18/100\n",
      "\u001B[1m1125/1125\u001B[0m \u001B[32m━━━━━━━━━━━━━━━━━━━━\u001B[0m\u001B[37m\u001B[0m \u001B[1m1s\u001B[0m 823us/step - accuracy: 0.7762 - loss: 0.5321\n",
      "Epoch 19/100\n",
      "\u001B[1m1125/1125\u001B[0m \u001B[32m━━━━━━━━━━━━━━━━━━━━\u001B[0m\u001B[37m\u001B[0m \u001B[1m1s\u001B[0m 787us/step - accuracy: 0.7762 - loss: 0.5319\n",
      "Epoch 20/100\n",
      "\u001B[1m1125/1125\u001B[0m \u001B[32m━━━━━━━━━━━━━━━━━━━━\u001B[0m\u001B[37m\u001B[0m \u001B[1m1s\u001B[0m 783us/step - accuracy: 0.7762 - loss: 0.5318\n",
      "Epoch 21/100\n",
      "\u001B[1m1125/1125\u001B[0m \u001B[32m━━━━━━━━━━━━━━━━━━━━\u001B[0m\u001B[37m\u001B[0m \u001B[1m1s\u001B[0m 785us/step - accuracy: 0.7762 - loss: 0.5318\n",
      "Epoch 22/100\n",
      "\u001B[1m1125/1125\u001B[0m \u001B[32m━━━━━━━━━━━━━━━━━━━━\u001B[0m\u001B[37m\u001B[0m \u001B[1m1s\u001B[0m 785us/step - accuracy: 0.7762 - loss: 0.5317\n",
      "Epoch 23/100\n",
      "\u001B[1m1125/1125\u001B[0m \u001B[32m━━━━━━━━━━━━━━━━━━━━\u001B[0m\u001B[37m\u001B[0m \u001B[1m1s\u001B[0m 786us/step - accuracy: 0.7762 - loss: 0.5317\n",
      "Epoch 24/100\n",
      "\u001B[1m1125/1125\u001B[0m \u001B[32m━━━━━━━━━━━━━━━━━━━━\u001B[0m\u001B[37m\u001B[0m \u001B[1m1s\u001B[0m 780us/step - accuracy: 0.7762 - loss: 0.5317\n",
      "Epoch 25/100\n",
      "\u001B[1m1125/1125\u001B[0m \u001B[32m━━━━━━━━━━━━━━━━━━━━\u001B[0m\u001B[37m\u001B[0m \u001B[1m1s\u001B[0m 780us/step - accuracy: 0.7762 - loss: 0.5317\n",
      "Epoch 26/100\n",
      "\u001B[1m1125/1125\u001B[0m \u001B[32m━━━━━━━━━━━━━━━━━━━━\u001B[0m\u001B[37m\u001B[0m \u001B[1m1s\u001B[0m 780us/step - accuracy: 0.7762 - loss: 0.5317\n",
      "Epoch 27/100\n",
      "\u001B[1m1125/1125\u001B[0m \u001B[32m━━━━━━━━━━━━━━━━━━━━\u001B[0m\u001B[37m\u001B[0m \u001B[1m1s\u001B[0m 784us/step - accuracy: 0.7762 - loss: 0.5317\n",
      "Epoch 28/100\n",
      "\u001B[1m1125/1125\u001B[0m \u001B[32m━━━━━━━━━━━━━━━━━━━━\u001B[0m\u001B[37m\u001B[0m \u001B[1m1s\u001B[0m 782us/step - accuracy: 0.7762 - loss: 0.5317\n",
      "Epoch 29/100\n",
      "\u001B[1m1125/1125\u001B[0m \u001B[32m━━━━━━━━━━━━━━━━━━━━\u001B[0m\u001B[37m\u001B[0m \u001B[1m1s\u001B[0m 784us/step - accuracy: 0.7762 - loss: 0.5317\n",
      "Epoch 30/100\n",
      "\u001B[1m1125/1125\u001B[0m \u001B[32m━━━━━━━━━━━━━━━━━━━━\u001B[0m\u001B[37m\u001B[0m \u001B[1m1s\u001B[0m 788us/step - accuracy: 0.7762 - loss: 0.5317\n",
      "Epoch 31/100\n",
      "\u001B[1m1125/1125\u001B[0m \u001B[32m━━━━━━━━━━━━━━━━━━━━\u001B[0m\u001B[37m\u001B[0m \u001B[1m1s\u001B[0m 786us/step - accuracy: 0.7762 - loss: 0.5317\n",
      "Epoch 32/100\n",
      "\u001B[1m1125/1125\u001B[0m \u001B[32m━━━━━━━━━━━━━━━━━━━━\u001B[0m\u001B[37m\u001B[0m \u001B[1m1s\u001B[0m 783us/step - accuracy: 0.7762 - loss: 0.5317\n",
      "Epoch 33/100\n",
      "\u001B[1m1125/1125\u001B[0m \u001B[32m━━━━━━━━━━━━━━━━━━━━\u001B[0m\u001B[37m\u001B[0m \u001B[1m1s\u001B[0m 788us/step - accuracy: 0.7762 - loss: 0.5317\n",
      "Epoch 34/100\n",
      "\u001B[1m1125/1125\u001B[0m \u001B[32m━━━━━━━━━━━━━━━━━━━━\u001B[0m\u001B[37m\u001B[0m \u001B[1m1s\u001B[0m 781us/step - accuracy: 0.7762 - loss: 0.5317\n",
      "Epoch 35/100\n",
      "\u001B[1m1125/1125\u001B[0m \u001B[32m━━━━━━━━━━━━━━━━━━━━\u001B[0m\u001B[37m\u001B[0m \u001B[1m1s\u001B[0m 788us/step - accuracy: 0.7762 - loss: 0.5317\n",
      "Epoch 36/100\n",
      "\u001B[1m1125/1125\u001B[0m \u001B[32m━━━━━━━━━━━━━━━━━━━━\u001B[0m\u001B[37m\u001B[0m \u001B[1m1s\u001B[0m 781us/step - accuracy: 0.7762 - loss: 0.5317\n",
      "Epoch 37/100\n",
      "\u001B[1m1125/1125\u001B[0m \u001B[32m━━━━━━━━━━━━━━━━━━━━\u001B[0m\u001B[37m\u001B[0m \u001B[1m1s\u001B[0m 783us/step - accuracy: 0.7762 - loss: 0.5317\n",
      "Epoch 38/100\n",
      "\u001B[1m1125/1125\u001B[0m \u001B[32m━━━━━━━━━━━━━━━━━━━━\u001B[0m\u001B[37m\u001B[0m \u001B[1m1s\u001B[0m 779us/step - accuracy: 0.7762 - loss: 0.5317\n",
      "Epoch 39/100\n",
      "\u001B[1m1125/1125\u001B[0m \u001B[32m━━━━━━━━━━━━━━━━━━━━\u001B[0m\u001B[37m\u001B[0m \u001B[1m1s\u001B[0m 777us/step - accuracy: 0.7762 - loss: 0.5317\n",
      "Epoch 40/100\n",
      "\u001B[1m1125/1125\u001B[0m \u001B[32m━━━━━━━━━━━━━━━━━━━━\u001B[0m\u001B[37m\u001B[0m \u001B[1m1s\u001B[0m 798us/step - accuracy: 0.7762 - loss: 0.5317\n",
      "Epoch 41/100\n",
      "\u001B[1m1125/1125\u001B[0m \u001B[32m━━━━━━━━━━━━━━━━━━━━\u001B[0m\u001B[37m\u001B[0m \u001B[1m1s\u001B[0m 784us/step - accuracy: 0.7762 - loss: 0.5317\n",
      "Epoch 42/100\n",
      "\u001B[1m1125/1125\u001B[0m \u001B[32m━━━━━━━━━━━━━━━━━━━━\u001B[0m\u001B[37m\u001B[0m \u001B[1m1s\u001B[0m 779us/step - accuracy: 0.7762 - loss: 0.5317\n",
      "Epoch 43/100\n",
      "\u001B[1m1125/1125\u001B[0m \u001B[32m━━━━━━━━━━━━━━━━━━━━\u001B[0m\u001B[37m\u001B[0m \u001B[1m1s\u001B[0m 784us/step - accuracy: 0.7762 - loss: 0.5317\n",
      "Epoch 44/100\n",
      "\u001B[1m1125/1125\u001B[0m \u001B[32m━━━━━━━━━━━━━━━━━━━━\u001B[0m\u001B[37m\u001B[0m \u001B[1m1s\u001B[0m 781us/step - accuracy: 0.7762 - loss: 0.5317\n",
      "Epoch 45/100\n",
      "\u001B[1m1125/1125\u001B[0m \u001B[32m━━━━━━━━━━━━━━━━━━━━\u001B[0m\u001B[37m\u001B[0m \u001B[1m1s\u001B[0m 784us/step - accuracy: 0.7762 - loss: 0.5317\n",
      "Epoch 46/100\n",
      "\u001B[1m1125/1125\u001B[0m \u001B[32m━━━━━━━━━━━━━━━━━━━━\u001B[0m\u001B[37m\u001B[0m \u001B[1m1s\u001B[0m 781us/step - accuracy: 0.7762 - loss: 0.5317\n",
      "Epoch 47/100\n",
      "\u001B[1m1125/1125\u001B[0m \u001B[32m━━━━━━━━━━━━━━━━━━━━\u001B[0m\u001B[37m\u001B[0m \u001B[1m1s\u001B[0m 780us/step - accuracy: 0.7762 - loss: 0.5317\n",
      "Epoch 48/100\n",
      "\u001B[1m1125/1125\u001B[0m \u001B[32m━━━━━━━━━━━━━━━━━━━━\u001B[0m\u001B[37m\u001B[0m \u001B[1m1s\u001B[0m 784us/step - accuracy: 0.7762 - loss: 0.5317\n",
      "Epoch 49/100\n",
      "\u001B[1m1125/1125\u001B[0m \u001B[32m━━━━━━━━━━━━━━━━━━━━\u001B[0m\u001B[37m\u001B[0m \u001B[1m1s\u001B[0m 784us/step - accuracy: 0.7762 - loss: 0.5317\n",
      "Epoch 50/100\n",
      "\u001B[1m1125/1125\u001B[0m \u001B[32m━━━━━━━━━━━━━━━━━━━━\u001B[0m\u001B[37m\u001B[0m \u001B[1m1s\u001B[0m 786us/step - accuracy: 0.7762 - loss: 0.5317\n",
      "Epoch 51/100\n",
      "\u001B[1m1125/1125\u001B[0m \u001B[32m━━━━━━━━━━━━━━━━━━━━\u001B[0m\u001B[37m\u001B[0m \u001B[1m1s\u001B[0m 780us/step - accuracy: 0.7762 - loss: 0.5317\n",
      "Epoch 52/100\n",
      "\u001B[1m1125/1125\u001B[0m \u001B[32m━━━━━━━━━━━━━━━━━━━━\u001B[0m\u001B[37m\u001B[0m \u001B[1m1s\u001B[0m 836us/step - accuracy: 0.7762 - loss: 0.5317\n",
      "Epoch 53/100\n",
      "\u001B[1m1125/1125\u001B[0m \u001B[32m━━━━━━━━━━━━━━━━━━━━\u001B[0m\u001B[37m\u001B[0m \u001B[1m1s\u001B[0m 798us/step - accuracy: 0.7762 - loss: 0.5317\n",
      "Epoch 54/100\n",
      "\u001B[1m1125/1125\u001B[0m \u001B[32m━━━━━━━━━━━━━━━━━━━━\u001B[0m\u001B[37m\u001B[0m \u001B[1m1s\u001B[0m 801us/step - accuracy: 0.7762 - loss: 0.5317\n",
      "Epoch 55/100\n",
      "\u001B[1m1125/1125\u001B[0m \u001B[32m━━━━━━━━━━━━━━━━━━━━\u001B[0m\u001B[37m\u001B[0m \u001B[1m1s\u001B[0m 783us/step - accuracy: 0.7762 - loss: 0.5317\n",
      "Epoch 56/100\n",
      "\u001B[1m1125/1125\u001B[0m \u001B[32m━━━━━━━━━━━━━━━━━━━━\u001B[0m\u001B[37m\u001B[0m \u001B[1m1s\u001B[0m 793us/step - accuracy: 0.7762 - loss: 0.5317\n",
      "Epoch 57/100\n",
      "\u001B[1m1125/1125\u001B[0m \u001B[32m━━━━━━━━━━━━━━━━━━━━\u001B[0m\u001B[37m\u001B[0m \u001B[1m1s\u001B[0m 796us/step - accuracy: 0.7762 - loss: 0.5317\n",
      "Epoch 58/100\n",
      "\u001B[1m1125/1125\u001B[0m \u001B[32m━━━━━━━━━━━━━━━━━━━━\u001B[0m\u001B[37m\u001B[0m \u001B[1m1s\u001B[0m 786us/step - accuracy: 0.7762 - loss: 0.5317\n",
      "Epoch 59/100\n",
      "\u001B[1m1125/1125\u001B[0m \u001B[32m━━━━━━━━━━━━━━━━━━━━\u001B[0m\u001B[37m\u001B[0m \u001B[1m1s\u001B[0m 788us/step - accuracy: 0.7762 - loss: 0.5317\n",
      "Epoch 60/100\n",
      "\u001B[1m1125/1125\u001B[0m \u001B[32m━━━━━━━━━━━━━━━━━━━━\u001B[0m\u001B[37m\u001B[0m \u001B[1m1s\u001B[0m 786us/step - accuracy: 0.7762 - loss: 0.5317\n",
      "Epoch 61/100\n",
      "\u001B[1m1125/1125\u001B[0m \u001B[32m━━━━━━━━━━━━━━━━━━━━\u001B[0m\u001B[37m\u001B[0m \u001B[1m1s\u001B[0m 784us/step - accuracy: 0.7762 - loss: 0.5317\n",
      "Epoch 62/100\n",
      "\u001B[1m1125/1125\u001B[0m \u001B[32m━━━━━━━━━━━━━━━━━━━━\u001B[0m\u001B[37m\u001B[0m \u001B[1m1s\u001B[0m 775us/step - accuracy: 0.7762 - loss: 0.5317\n",
      "Epoch 63/100\n",
      "\u001B[1m1125/1125\u001B[0m \u001B[32m━━━━━━━━━━━━━━━━━━━━\u001B[0m\u001B[37m\u001B[0m \u001B[1m1s\u001B[0m 800us/step - accuracy: 0.7762 - loss: 0.5317\n",
      "Epoch 64/100\n",
      "\u001B[1m1125/1125\u001B[0m \u001B[32m━━━━━━━━━━━━━━━━━━━━\u001B[0m\u001B[37m\u001B[0m \u001B[1m1s\u001B[0m 782us/step - accuracy: 0.7762 - loss: 0.5317\n",
      "Epoch 65/100\n",
      "\u001B[1m1125/1125\u001B[0m \u001B[32m━━━━━━━━━━━━━━━━━━━━\u001B[0m\u001B[37m\u001B[0m \u001B[1m1s\u001B[0m 780us/step - accuracy: 0.7762 - loss: 0.5317\n",
      "Epoch 66/100\n",
      "\u001B[1m1125/1125\u001B[0m \u001B[32m━━━━━━━━━━━━━━━━━━━━\u001B[0m\u001B[37m\u001B[0m \u001B[1m1s\u001B[0m 814us/step - accuracy: 0.7762 - loss: 0.5317\n",
      "Epoch 67/100\n",
      "\u001B[1m1125/1125\u001B[0m \u001B[32m━━━━━━━━━━━━━━━━━━━━\u001B[0m\u001B[37m\u001B[0m \u001B[1m1s\u001B[0m 779us/step - accuracy: 0.7762 - loss: 0.5317\n",
      "Epoch 68/100\n",
      "\u001B[1m1125/1125\u001B[0m \u001B[32m━━━━━━━━━━━━━━━━━━━━\u001B[0m\u001B[37m\u001B[0m \u001B[1m1s\u001B[0m 779us/step - accuracy: 0.7762 - loss: 0.5317\n",
      "Epoch 69/100\n",
      "\u001B[1m1125/1125\u001B[0m \u001B[32m━━━━━━━━━━━━━━━━━━━━\u001B[0m\u001B[37m\u001B[0m \u001B[1m1s\u001B[0m 781us/step - accuracy: 0.7762 - loss: 0.5317\n",
      "Epoch 70/100\n",
      "\u001B[1m1125/1125\u001B[0m \u001B[32m━━━━━━━━━━━━━━━━━━━━\u001B[0m\u001B[37m\u001B[0m \u001B[1m1s\u001B[0m 779us/step - accuracy: 0.7762 - loss: 0.5317\n",
      "Epoch 71/100\n",
      "\u001B[1m1125/1125\u001B[0m \u001B[32m━━━━━━━━━━━━━━━━━━━━\u001B[0m\u001B[37m\u001B[0m \u001B[1m1s\u001B[0m 795us/step - accuracy: 0.7762 - loss: 0.5317\n",
      "Epoch 72/100\n",
      "\u001B[1m1125/1125\u001B[0m \u001B[32m━━━━━━━━━━━━━━━━━━━━\u001B[0m\u001B[37m\u001B[0m \u001B[1m1s\u001B[0m 781us/step - accuracy: 0.7762 - loss: 0.5317\n",
      "Epoch 73/100\n",
      "\u001B[1m1125/1125\u001B[0m \u001B[32m━━━━━━━━━━━━━━━━━━━━\u001B[0m\u001B[37m\u001B[0m \u001B[1m1s\u001B[0m 783us/step - accuracy: 0.7762 - loss: 0.5317\n",
      "Epoch 74/100\n",
      "\u001B[1m1125/1125\u001B[0m \u001B[32m━━━━━━━━━━━━━━━━━━━━\u001B[0m\u001B[37m\u001B[0m \u001B[1m1s\u001B[0m 780us/step - accuracy: 0.7762 - loss: 0.5317\n",
      "Epoch 75/100\n",
      "\u001B[1m1125/1125\u001B[0m \u001B[32m━━━━━━━━━━━━━━━━━━━━\u001B[0m\u001B[37m\u001B[0m \u001B[1m1s\u001B[0m 780us/step - accuracy: 0.7762 - loss: 0.5317\n",
      "Epoch 76/100\n",
      "\u001B[1m1125/1125\u001B[0m \u001B[32m━━━━━━━━━━━━━━━━━━━━\u001B[0m\u001B[37m\u001B[0m \u001B[1m1s\u001B[0m 782us/step - accuracy: 0.7762 - loss: 0.5317\n",
      "Epoch 77/100\n",
      "\u001B[1m1125/1125\u001B[0m \u001B[32m━━━━━━━━━━━━━━━━━━━━\u001B[0m\u001B[37m\u001B[0m \u001B[1m1s\u001B[0m 782us/step - accuracy: 0.7762 - loss: 0.5317\n",
      "Epoch 78/100\n",
      "\u001B[1m1125/1125\u001B[0m \u001B[32m━━━━━━━━━━━━━━━━━━━━\u001B[0m\u001B[37m\u001B[0m \u001B[1m1s\u001B[0m 786us/step - accuracy: 0.7762 - loss: 0.5317\n",
      "Epoch 79/100\n",
      "\u001B[1m1125/1125\u001B[0m \u001B[32m━━━━━━━━━━━━━━━━━━━━\u001B[0m\u001B[37m\u001B[0m \u001B[1m1s\u001B[0m 777us/step - accuracy: 0.7762 - loss: 0.5317\n",
      "Epoch 80/100\n",
      "\u001B[1m1125/1125\u001B[0m \u001B[32m━━━━━━━━━━━━━━━━━━━━\u001B[0m\u001B[37m\u001B[0m \u001B[1m1s\u001B[0m 784us/step - accuracy: 0.7762 - loss: 0.5317\n",
      "Epoch 81/100\n",
      "\u001B[1m1125/1125\u001B[0m \u001B[32m━━━━━━━━━━━━━━━━━━━━\u001B[0m\u001B[37m\u001B[0m \u001B[1m1s\u001B[0m 784us/step - accuracy: 0.7762 - loss: 0.5317\n",
      "Epoch 82/100\n",
      "\u001B[1m1125/1125\u001B[0m \u001B[32m━━━━━━━━━━━━━━━━━━━━\u001B[0m\u001B[37m\u001B[0m \u001B[1m1s\u001B[0m 789us/step - accuracy: 0.7762 - loss: 0.5317\n",
      "Epoch 83/100\n",
      "\u001B[1m1125/1125\u001B[0m \u001B[32m━━━━━━━━━━━━━━━━━━━━\u001B[0m\u001B[37m\u001B[0m \u001B[1m1s\u001B[0m 780us/step - accuracy: 0.7762 - loss: 0.5317\n",
      "Epoch 84/100\n",
      "\u001B[1m1125/1125\u001B[0m \u001B[32m━━━━━━━━━━━━━━━━━━━━\u001B[0m\u001B[37m\u001B[0m \u001B[1m1s\u001B[0m 780us/step - accuracy: 0.7762 - loss: 0.5317\n",
      "Epoch 85/100\n",
      "\u001B[1m1125/1125\u001B[0m \u001B[32m━━━━━━━━━━━━━━━━━━━━\u001B[0m\u001B[37m\u001B[0m \u001B[1m1s\u001B[0m 781us/step - accuracy: 0.7762 - loss: 0.5317\n",
      "Epoch 86/100\n",
      "\u001B[1m1125/1125\u001B[0m \u001B[32m━━━━━━━━━━━━━━━━━━━━\u001B[0m\u001B[37m\u001B[0m \u001B[1m1s\u001B[0m 785us/step - accuracy: 0.7762 - loss: 0.5317\n",
      "Epoch 87/100\n",
      "\u001B[1m1125/1125\u001B[0m \u001B[32m━━━━━━━━━━━━━━━━━━━━\u001B[0m\u001B[37m\u001B[0m \u001B[1m1s\u001B[0m 790us/step - accuracy: 0.7762 - loss: 0.5317\n",
      "Epoch 88/100\n",
      "\u001B[1m1125/1125\u001B[0m \u001B[32m━━━━━━━━━━━━━━━━━━━━\u001B[0m\u001B[37m\u001B[0m \u001B[1m1s\u001B[0m 782us/step - accuracy: 0.7762 - loss: 0.5317\n",
      "Epoch 89/100\n",
      "\u001B[1m1125/1125\u001B[0m \u001B[32m━━━━━━━━━━━━━━━━━━━━\u001B[0m\u001B[37m\u001B[0m \u001B[1m1s\u001B[0m 780us/step - accuracy: 0.7762 - loss: 0.5317\n",
      "Epoch 90/100\n",
      "\u001B[1m1125/1125\u001B[0m \u001B[32m━━━━━━━━━━━━━━━━━━━━\u001B[0m\u001B[37m\u001B[0m \u001B[1m1s\u001B[0m 785us/step - accuracy: 0.7762 - loss: 0.5317\n",
      "Epoch 91/100\n",
      "\u001B[1m1125/1125\u001B[0m \u001B[32m━━━━━━━━━━━━━━━━━━━━\u001B[0m\u001B[37m\u001B[0m \u001B[1m1s\u001B[0m 779us/step - accuracy: 0.7762 - loss: 0.5317\n",
      "Epoch 92/100\n",
      "\u001B[1m1125/1125\u001B[0m \u001B[32m━━━━━━━━━━━━━━━━━━━━\u001B[0m\u001B[37m\u001B[0m \u001B[1m1s\u001B[0m 779us/step - accuracy: 0.7762 - loss: 0.5317\n",
      "Epoch 93/100\n",
      "\u001B[1m1125/1125\u001B[0m \u001B[32m━━━━━━━━━━━━━━━━━━━━\u001B[0m\u001B[37m\u001B[0m \u001B[1m1s\u001B[0m 781us/step - accuracy: 0.7762 - loss: 0.5317\n",
      "Epoch 94/100\n",
      "\u001B[1m1125/1125\u001B[0m \u001B[32m━━━━━━━━━━━━━━━━━━━━\u001B[0m\u001B[37m\u001B[0m \u001B[1m1s\u001B[0m 786us/step - accuracy: 0.7762 - loss: 0.5317\n",
      "Epoch 95/100\n",
      "\u001B[1m1125/1125\u001B[0m \u001B[32m━━━━━━━━━━━━━━━━━━━━\u001B[0m\u001B[37m\u001B[0m \u001B[1m1s\u001B[0m 781us/step - accuracy: 0.7762 - loss: 0.5317\n",
      "Epoch 96/100\n",
      "\u001B[1m1125/1125\u001B[0m \u001B[32m━━━━━━━━━━━━━━━━━━━━\u001B[0m\u001B[37m\u001B[0m \u001B[1m1s\u001B[0m 780us/step - accuracy: 0.7762 - loss: 0.5317\n",
      "Epoch 97/100\n",
      "\u001B[1m1125/1125\u001B[0m \u001B[32m━━━━━━━━━━━━━━━━━━━━\u001B[0m\u001B[37m\u001B[0m \u001B[1m1s\u001B[0m 778us/step - accuracy: 0.7762 - loss: 0.5317\n",
      "Epoch 98/100\n",
      "\u001B[1m1125/1125\u001B[0m \u001B[32m━━━━━━━━━━━━━━━━━━━━\u001B[0m\u001B[37m\u001B[0m \u001B[1m1s\u001B[0m 784us/step - accuracy: 0.7762 - loss: 0.5317\n",
      "Epoch 99/100\n",
      "\u001B[1m1125/1125\u001B[0m \u001B[32m━━━━━━━━━━━━━━━━━━━━\u001B[0m\u001B[37m\u001B[0m \u001B[1m1s\u001B[0m 786us/step - accuracy: 0.7762 - loss: 0.5317\n",
      "Epoch 100/100\n",
      "\u001B[1m1125/1125\u001B[0m \u001B[32m━━━━━━━━━━━━━━━━━━━━\u001B[0m\u001B[37m\u001B[0m \u001B[1m1s\u001B[0m 781us/step - accuracy: 0.7762 - loss: 0.5317\n"
     ]
    }
   ],
   "execution_count": 24
  },
  {
   "metadata": {},
   "cell_type": "markdown",
   "source": [
    "### Class Weight\n",
    "  * Class weighting is a technique used especially in classification problems with unbalanced classes. Its purpose is to make the model consider minority classes “more important” and penalize errors more severely in these classes.\n",
    "  * If you have, for example, 90% “negative” examples and 10% “positive” examples, the model can achieve 90% accuracy even by always predicting “negative”.\n",
    "\n",
    "  * This prevents it from correctly learning the minority class that really matters (e.g. approved customers in a credit situation).\n",
    "\n",
    "  * Class weight gives different weights to instances of each class when calculating loss during training:\n",
    "\n",
    "  * Weight for rare classes ↑ ⇒ loss function takes larger penalty when incorrectly predicted\n",
    "\n",
    "  * Weight for common classes ↓ ⇒ loss function is penalized more lightly when incorrectly estimated\n",
    "\n",
    "  * Translated with DeepL.com (free version)"
   ],
   "id": "129fd2824cc5f90e"
  },
  {
   "metadata": {
    "ExecuteTime": {
     "end_time": "2025-05-17T12:25:00.116088Z",
     "start_time": "2025-05-17T12:25:00.107895Z"
    }
   },
   "cell_type": "code",
   "source": [
    "from sklearn.utils.class_weight import compute_class_weight\n",
    "\n",
    "classes = np.array([0,1])\n",
    "class_weights = compute_class_weight(\n",
    "    class_weight='balanced',\n",
    "    classes=classes,\n",
    "    y=y_train.astype(int)\n",
    ")\n",
    "\n",
    "class_weight_dict = dict(zip(classes,class_weights))\n",
    "print(class_weight_dict)"
   ],
   "id": "fd80d0d1d07240c5",
   "outputs": [
    {
     "name": "stdout",
     "output_type": "stream",
     "text": [
      "{np.int64(0): np.float64(0.6426276329882185), np.int64(1): np.float64(2.252816020025031)}\n"
     ]
    }
   ],
   "execution_count": 25
  },
  {
   "metadata": {},
   "cell_type": "markdown",
   "source": "### 🧬 Fourth Model - Model-4 - Classification",
   "id": "eabb0fa5189282d4"
  },
  {
   "metadata": {
    "ExecuteTime": {
     "end_time": "2025-05-17T12:27:33.761408Z",
     "start_time": "2025-05-17T12:25:39.798382Z"
    }
   },
   "cell_type": "code",
   "source": [
    "#set seed\n",
    "tf.random.set_seed(42)\n",
    "\n",
    "# create model-4\n",
    "model_4 = tf.keras.Sequential([\n",
    "    tf.keras.layers.Input(shape=(1,)),\n",
    "    tf.keras.layers.Flatten(),\n",
    "    \n",
    "    tf.keras.layers.Dense(64, activation='relu'),\n",
    "    tf.keras.layers.Dense(16, activation='relu'),\n",
    "    tf.keras.layers.Dense(4, activation='relu'),\n",
    "    tf.keras.layers.Dense(1, activation='sigmoid')\n",
    "])\n",
    "\n",
    "model_4.compile(loss=tf.keras.losses.BinaryCrossentropy(),\n",
    "                optimizer=tf.keras.optimizers.Adam(learning_rate=0.001),\n",
    "                metrics=['accuracy'])\n",
    "\n",
    "history_4 = model_4.fit(X_train,y_train,epochs=100,validation_data=(X_test,y_test),class_weight=class_weight_dict)"
   ],
   "id": "c02d07fef48eb7",
   "outputs": [
    {
     "name": "stdout",
     "output_type": "stream",
     "text": [
      "Epoch 1/100\n",
      "\u001B[1m1125/1125\u001B[0m \u001B[32m━━━━━━━━━━━━━━━━━━━━\u001B[0m\u001B[37m\u001B[0m \u001B[1m2s\u001B[0m 1ms/step - accuracy: 0.4331 - loss: 0.7211 - val_accuracy: 0.7767 - val_loss: 0.6828\n",
      "Epoch 2/100\n",
      "\u001B[1m1125/1125\u001B[0m \u001B[32m━━━━━━━━━━━━━━━━━━━━\u001B[0m\u001B[37m\u001B[0m \u001B[1m1s\u001B[0m 987us/step - accuracy: 0.5061 - loss: 0.6956 - val_accuracy: 0.7767 - val_loss: 0.6848\n",
      "Epoch 3/100\n",
      "\u001B[1m1125/1125\u001B[0m \u001B[32m━━━━━━━━━━━━━━━━━━━━\u001B[0m\u001B[37m\u001B[0m \u001B[1m1s\u001B[0m 979us/step - accuracy: 0.6652 - loss: 0.6954 - val_accuracy: 0.7767 - val_loss: 0.6887\n",
      "Epoch 4/100\n",
      "\u001B[1m1125/1125\u001B[0m \u001B[32m━━━━━━━━━━━━━━━━━━━━\u001B[0m\u001B[37m\u001B[0m \u001B[1m1s\u001B[0m 985us/step - accuracy: 0.6349 - loss: 0.6953 - val_accuracy: 0.7767 - val_loss: 0.6889\n",
      "Epoch 5/100\n",
      "\u001B[1m1125/1125\u001B[0m \u001B[32m━━━━━━━━━━━━━━━━━━━━\u001B[0m\u001B[37m\u001B[0m \u001B[1m1s\u001B[0m 971us/step - accuracy: 0.6263 - loss: 0.6953 - val_accuracy: 0.7767 - val_loss: 0.6890\n",
      "Epoch 6/100\n",
      "\u001B[1m1125/1125\u001B[0m \u001B[32m━━━━━━━━━━━━━━━━━━━━\u001B[0m\u001B[37m\u001B[0m \u001B[1m1s\u001B[0m 967us/step - accuracy: 0.6262 - loss: 0.6953 - val_accuracy: 0.7767 - val_loss: 0.6890\n",
      "Epoch 7/100\n",
      "\u001B[1m1125/1125\u001B[0m \u001B[32m━━━━━━━━━━━━━━━━━━━━\u001B[0m\u001B[37m\u001B[0m \u001B[1m1s\u001B[0m 982us/step - accuracy: 0.6262 - loss: 0.6953 - val_accuracy: 0.7767 - val_loss: 0.6889\n",
      "Epoch 8/100\n",
      "\u001B[1m1125/1125\u001B[0m \u001B[32m━━━━━━━━━━━━━━━━━━━━\u001B[0m\u001B[37m\u001B[0m \u001B[1m1s\u001B[0m 974us/step - accuracy: 0.6262 - loss: 0.6953 - val_accuracy: 0.7767 - val_loss: 0.6889\n",
      "Epoch 9/100\n",
      "\u001B[1m1125/1125\u001B[0m \u001B[32m━━━━━━━━━━━━━━━━━━━━\u001B[0m\u001B[37m\u001B[0m \u001B[1m1s\u001B[0m 971us/step - accuracy: 0.6262 - loss: 0.6953 - val_accuracy: 0.7767 - val_loss: 0.6889\n",
      "Epoch 10/100\n",
      "\u001B[1m1125/1125\u001B[0m \u001B[32m━━━━━━━━━━━━━━━━━━━━\u001B[0m\u001B[37m\u001B[0m \u001B[1m1s\u001B[0m 996us/step - accuracy: 0.6262 - loss: 0.6953 - val_accuracy: 0.7767 - val_loss: 0.6889\n",
      "Epoch 11/100\n",
      "\u001B[1m1125/1125\u001B[0m \u001B[32m━━━━━━━━━━━━━━━━━━━━\u001B[0m\u001B[37m\u001B[0m \u001B[1m1s\u001B[0m 974us/step - accuracy: 0.6262 - loss: 0.6953 - val_accuracy: 0.7767 - val_loss: 0.6889\n",
      "Epoch 12/100\n",
      "\u001B[1m1125/1125\u001B[0m \u001B[32m━━━━━━━━━━━━━━━━━━━━\u001B[0m\u001B[37m\u001B[0m \u001B[1m1s\u001B[0m 982us/step - accuracy: 0.6262 - loss: 0.6953 - val_accuracy: 0.7767 - val_loss: 0.6889\n",
      "Epoch 13/100\n",
      "\u001B[1m1125/1125\u001B[0m \u001B[32m━━━━━━━━━━━━━━━━━━━━\u001B[0m\u001B[37m\u001B[0m \u001B[1m1s\u001B[0m 986us/step - accuracy: 0.6262 - loss: 0.6953 - val_accuracy: 0.7767 - val_loss: 0.6889\n",
      "Epoch 14/100\n",
      "\u001B[1m1125/1125\u001B[0m \u001B[32m━━━━━━━━━━━━━━━━━━━━\u001B[0m\u001B[37m\u001B[0m \u001B[1m1s\u001B[0m 992us/step - accuracy: 0.6262 - loss: 0.6953 - val_accuracy: 0.7767 - val_loss: 0.6889\n",
      "Epoch 15/100\n",
      "\u001B[1m1125/1125\u001B[0m \u001B[32m━━━━━━━━━━━━━━━━━━━━\u001B[0m\u001B[37m\u001B[0m \u001B[1m1s\u001B[0m 984us/step - accuracy: 0.6262 - loss: 0.6953 - val_accuracy: 0.7767 - val_loss: 0.6889\n",
      "Epoch 16/100\n",
      "\u001B[1m1125/1125\u001B[0m \u001B[32m━━━━━━━━━━━━━━━━━━━━\u001B[0m\u001B[37m\u001B[0m \u001B[1m1s\u001B[0m 1ms/step - accuracy: 0.6262 - loss: 0.6953 - val_accuracy: 0.7767 - val_loss: 0.6889\n",
      "Epoch 17/100\n",
      "\u001B[1m1125/1125\u001B[0m \u001B[32m━━━━━━━━━━━━━━━━━━━━\u001B[0m\u001B[37m\u001B[0m \u001B[1m1s\u001B[0m 982us/step - accuracy: 0.6262 - loss: 0.6953 - val_accuracy: 0.7767 - val_loss: 0.6889\n",
      "Epoch 18/100\n",
      "\u001B[1m1125/1125\u001B[0m \u001B[32m━━━━━━━━━━━━━━━━━━━━\u001B[0m\u001B[37m\u001B[0m \u001B[1m1s\u001B[0m 990us/step - accuracy: 0.6262 - loss: 0.6953 - val_accuracy: 0.7767 - val_loss: 0.6889\n",
      "Epoch 19/100\n",
      "\u001B[1m1125/1125\u001B[0m \u001B[32m━━━━━━━━━━━━━━━━━━━━\u001B[0m\u001B[37m\u001B[0m \u001B[1m1s\u001B[0m 1ms/step - accuracy: 0.6262 - loss: 0.6953 - val_accuracy: 0.7767 - val_loss: 0.6889\n",
      "Epoch 20/100\n",
      "\u001B[1m1125/1125\u001B[0m \u001B[32m━━━━━━━━━━━━━━━━━━━━\u001B[0m\u001B[37m\u001B[0m \u001B[1m1s\u001B[0m 978us/step - accuracy: 0.6262 - loss: 0.6953 - val_accuracy: 0.7767 - val_loss: 0.6889\n",
      "Epoch 21/100\n",
      "\u001B[1m1125/1125\u001B[0m \u001B[32m━━━━━━━━━━━━━━━━━━━━\u001B[0m\u001B[37m\u001B[0m \u001B[1m1s\u001B[0m 981us/step - accuracy: 0.6262 - loss: 0.6953 - val_accuracy: 0.7767 - val_loss: 0.6889\n",
      "Epoch 22/100\n",
      "\u001B[1m1125/1125\u001B[0m \u001B[32m━━━━━━━━━━━━━━━━━━━━\u001B[0m\u001B[37m\u001B[0m \u001B[1m1s\u001B[0m 986us/step - accuracy: 0.6262 - loss: 0.6953 - val_accuracy: 0.7767 - val_loss: 0.6889\n",
      "Epoch 23/100\n",
      "\u001B[1m1125/1125\u001B[0m \u001B[32m━━━━━━━━━━━━━━━━━━━━\u001B[0m\u001B[37m\u001B[0m \u001B[1m1s\u001B[0m 1ms/step - accuracy: 0.6262 - loss: 0.6953 - val_accuracy: 0.7767 - val_loss: 0.6889\n",
      "Epoch 24/100\n",
      "\u001B[1m1125/1125\u001B[0m \u001B[32m━━━━━━━━━━━━━━━━━━━━\u001B[0m\u001B[37m\u001B[0m \u001B[1m1s\u001B[0m 993us/step - accuracy: 0.6262 - loss: 0.6953 - val_accuracy: 0.7767 - val_loss: 0.6889\n",
      "Epoch 25/100\n",
      "\u001B[1m1125/1125\u001B[0m \u001B[32m━━━━━━━━━━━━━━━━━━━━\u001B[0m\u001B[37m\u001B[0m \u001B[1m1s\u001B[0m 988us/step - accuracy: 0.6262 - loss: 0.6953 - val_accuracy: 0.7767 - val_loss: 0.6889\n",
      "Epoch 26/100\n",
      "\u001B[1m1125/1125\u001B[0m \u001B[32m━━━━━━━━━━━━━━━━━━━━\u001B[0m\u001B[37m\u001B[0m \u001B[1m1s\u001B[0m 986us/step - accuracy: 0.6262 - loss: 0.6953 - val_accuracy: 0.7767 - val_loss: 0.6889\n",
      "Epoch 27/100\n",
      "\u001B[1m1125/1125\u001B[0m \u001B[32m━━━━━━━━━━━━━━━━━━━━\u001B[0m\u001B[37m\u001B[0m \u001B[1m1s\u001B[0m 979us/step - accuracy: 0.6262 - loss: 0.6953 - val_accuracy: 0.7767 - val_loss: 0.6889\n",
      "Epoch 28/100\n",
      "\u001B[1m1125/1125\u001B[0m \u001B[32m━━━━━━━━━━━━━━━━━━━━\u001B[0m\u001B[37m\u001B[0m \u001B[1m1s\u001B[0m 979us/step - accuracy: 0.6262 - loss: 0.6953 - val_accuracy: 0.7767 - val_loss: 0.6889\n",
      "Epoch 29/100\n",
      "\u001B[1m1125/1125\u001B[0m \u001B[32m━━━━━━━━━━━━━━━━━━━━\u001B[0m\u001B[37m\u001B[0m \u001B[1m1s\u001B[0m 981us/step - accuracy: 0.6262 - loss: 0.6953 - val_accuracy: 0.7767 - val_loss: 0.6889\n",
      "Epoch 30/100\n",
      "\u001B[1m1125/1125\u001B[0m \u001B[32m━━━━━━━━━━━━━━━━━━━━\u001B[0m\u001B[37m\u001B[0m \u001B[1m1s\u001B[0m 987us/step - accuracy: 0.6262 - loss: 0.6953 - val_accuracy: 0.7767 - val_loss: 0.6889\n",
      "Epoch 31/100\n",
      "\u001B[1m1125/1125\u001B[0m \u001B[32m━━━━━━━━━━━━━━━━━━━━\u001B[0m\u001B[37m\u001B[0m \u001B[1m1s\u001B[0m 994us/step - accuracy: 0.6262 - loss: 0.6953 - val_accuracy: 0.7767 - val_loss: 0.6889\n",
      "Epoch 32/100\n",
      "\u001B[1m1125/1125\u001B[0m \u001B[32m━━━━━━━━━━━━━━━━━━━━\u001B[0m\u001B[37m\u001B[0m \u001B[1m1s\u001B[0m 982us/step - accuracy: 0.6262 - loss: 0.6953 - val_accuracy: 0.7767 - val_loss: 0.6889\n",
      "Epoch 33/100\n",
      "\u001B[1m1125/1125\u001B[0m \u001B[32m━━━━━━━━━━━━━━━━━━━━\u001B[0m\u001B[37m\u001B[0m \u001B[1m1s\u001B[0m 973us/step - accuracy: 0.6262 - loss: 0.6953 - val_accuracy: 0.7767 - val_loss: 0.6889\n",
      "Epoch 34/100\n",
      "\u001B[1m1125/1125\u001B[0m \u001B[32m━━━━━━━━━━━━━━━━━━━━\u001B[0m\u001B[37m\u001B[0m \u001B[1m1s\u001B[0m 985us/step - accuracy: 0.6262 - loss: 0.6953 - val_accuracy: 0.7767 - val_loss: 0.6889\n",
      "Epoch 35/100\n",
      "\u001B[1m1125/1125\u001B[0m \u001B[32m━━━━━━━━━━━━━━━━━━━━\u001B[0m\u001B[37m\u001B[0m \u001B[1m1s\u001B[0m 989us/step - accuracy: 0.6262 - loss: 0.6953 - val_accuracy: 0.7767 - val_loss: 0.6889\n",
      "Epoch 36/100\n",
      "\u001B[1m1125/1125\u001B[0m \u001B[32m━━━━━━━━━━━━━━━━━━━━\u001B[0m\u001B[37m\u001B[0m \u001B[1m1s\u001B[0m 978us/step - accuracy: 0.6262 - loss: 0.6953 - val_accuracy: 0.7767 - val_loss: 0.6889\n",
      "Epoch 37/100\n",
      "\u001B[1m1125/1125\u001B[0m \u001B[32m━━━━━━━━━━━━━━━━━━━━\u001B[0m\u001B[37m\u001B[0m \u001B[1m1s\u001B[0m 982us/step - accuracy: 0.6262 - loss: 0.6953 - val_accuracy: 0.7767 - val_loss: 0.6889\n",
      "Epoch 38/100\n",
      "\u001B[1m1125/1125\u001B[0m \u001B[32m━━━━━━━━━━━━━━━━━━━━\u001B[0m\u001B[37m\u001B[0m \u001B[1m1s\u001B[0m 988us/step - accuracy: 0.6262 - loss: 0.6953 - val_accuracy: 0.7767 - val_loss: 0.6889\n",
      "Epoch 39/100\n",
      "\u001B[1m1125/1125\u001B[0m \u001B[32m━━━━━━━━━━━━━━━━━━━━\u001B[0m\u001B[37m\u001B[0m \u001B[1m1s\u001B[0m 983us/step - accuracy: 0.6262 - loss: 0.6953 - val_accuracy: 0.7767 - val_loss: 0.6889\n",
      "Epoch 40/100\n",
      "\u001B[1m1125/1125\u001B[0m \u001B[32m━━━━━━━━━━━━━━━━━━━━\u001B[0m\u001B[37m\u001B[0m \u001B[1m1s\u001B[0m 993us/step - accuracy: 0.6262 - loss: 0.6953 - val_accuracy: 0.7767 - val_loss: 0.6889\n",
      "Epoch 41/100\n",
      "\u001B[1m1125/1125\u001B[0m \u001B[32m━━━━━━━━━━━━━━━━━━━━\u001B[0m\u001B[37m\u001B[0m \u001B[1m1s\u001B[0m 986us/step - accuracy: 0.6262 - loss: 0.6953 - val_accuracy: 0.7767 - val_loss: 0.6889\n",
      "Epoch 42/100\n",
      "\u001B[1m1125/1125\u001B[0m \u001B[32m━━━━━━━━━━━━━━━━━━━━\u001B[0m\u001B[37m\u001B[0m \u001B[1m1s\u001B[0m 984us/step - accuracy: 0.6262 - loss: 0.6953 - val_accuracy: 0.7767 - val_loss: 0.6889\n",
      "Epoch 43/100\n",
      "\u001B[1m1125/1125\u001B[0m \u001B[32m━━━━━━━━━━━━━━━━━━━━\u001B[0m\u001B[37m\u001B[0m \u001B[1m1s\u001B[0m 993us/step - accuracy: 0.6262 - loss: 0.6953 - val_accuracy: 0.7767 - val_loss: 0.6889\n",
      "Epoch 44/100\n",
      "\u001B[1m1125/1125\u001B[0m \u001B[32m━━━━━━━━━━━━━━━━━━━━\u001B[0m\u001B[37m\u001B[0m \u001B[1m1s\u001B[0m 989us/step - accuracy: 0.6262 - loss: 0.6953 - val_accuracy: 0.7767 - val_loss: 0.6889\n",
      "Epoch 45/100\n",
      "\u001B[1m1125/1125\u001B[0m \u001B[32m━━━━━━━━━━━━━━━━━━━━\u001B[0m\u001B[37m\u001B[0m \u001B[1m1s\u001B[0m 984us/step - accuracy: 0.6262 - loss: 0.6953 - val_accuracy: 0.7767 - val_loss: 0.6889\n",
      "Epoch 46/100\n",
      "\u001B[1m1125/1125\u001B[0m \u001B[32m━━━━━━━━━━━━━━━━━━━━\u001B[0m\u001B[37m\u001B[0m \u001B[1m1s\u001B[0m 993us/step - accuracy: 0.6262 - loss: 0.6953 - val_accuracy: 0.7767 - val_loss: 0.6889\n",
      "Epoch 47/100\n",
      "\u001B[1m1125/1125\u001B[0m \u001B[32m━━━━━━━━━━━━━━━━━━━━\u001B[0m\u001B[37m\u001B[0m \u001B[1m1s\u001B[0m 988us/step - accuracy: 0.6262 - loss: 0.6953 - val_accuracy: 0.7767 - val_loss: 0.6889\n",
      "Epoch 48/100\n",
      "\u001B[1m1125/1125\u001B[0m \u001B[32m━━━━━━━━━━━━━━━━━━━━\u001B[0m\u001B[37m\u001B[0m \u001B[1m1s\u001B[0m 990us/step - accuracy: 0.6262 - loss: 0.6953 - val_accuracy: 0.7767 - val_loss: 0.6889\n",
      "Epoch 49/100\n",
      "\u001B[1m1125/1125\u001B[0m \u001B[32m━━━━━━━━━━━━━━━━━━━━\u001B[0m\u001B[37m\u001B[0m \u001B[1m1s\u001B[0m 988us/step - accuracy: 0.6262 - loss: 0.6953 - val_accuracy: 0.7767 - val_loss: 0.6889\n",
      "Epoch 50/100\n",
      "\u001B[1m1125/1125\u001B[0m \u001B[32m━━━━━━━━━━━━━━━━━━━━\u001B[0m\u001B[37m\u001B[0m \u001B[1m1s\u001B[0m 980us/step - accuracy: 0.6262 - loss: 0.6953 - val_accuracy: 0.7767 - val_loss: 0.6889\n",
      "Epoch 51/100\n",
      "\u001B[1m1125/1125\u001B[0m \u001B[32m━━━━━━━━━━━━━━━━━━━━\u001B[0m\u001B[37m\u001B[0m \u001B[1m1s\u001B[0m 1ms/step - accuracy: 0.6262 - loss: 0.6953 - val_accuracy: 0.7767 - val_loss: 0.6889\n",
      "Epoch 52/100\n",
      "\u001B[1m1125/1125\u001B[0m \u001B[32m━━━━━━━━━━━━━━━━━━━━\u001B[0m\u001B[37m\u001B[0m \u001B[1m1s\u001B[0m 987us/step - accuracy: 0.6262 - loss: 0.6953 - val_accuracy: 0.7767 - val_loss: 0.6889\n",
      "Epoch 53/100\n",
      "\u001B[1m1125/1125\u001B[0m \u001B[32m━━━━━━━━━━━━━━━━━━━━\u001B[0m\u001B[37m\u001B[0m \u001B[1m1s\u001B[0m 990us/step - accuracy: 0.6262 - loss: 0.6953 - val_accuracy: 0.7767 - val_loss: 0.6889\n",
      "Epoch 54/100\n",
      "\u001B[1m1125/1125\u001B[0m \u001B[32m━━━━━━━━━━━━━━━━━━━━\u001B[0m\u001B[37m\u001B[0m \u001B[1m1s\u001B[0m 976us/step - accuracy: 0.6262 - loss: 0.6953 - val_accuracy: 0.7767 - val_loss: 0.6889\n",
      "Epoch 55/100\n",
      "\u001B[1m1125/1125\u001B[0m \u001B[32m━━━━━━━━━━━━━━━━━━━━\u001B[0m\u001B[37m\u001B[0m \u001B[1m1s\u001B[0m 982us/step - accuracy: 0.6262 - loss: 0.6953 - val_accuracy: 0.7767 - val_loss: 0.6889\n",
      "Epoch 56/100\n",
      "\u001B[1m1125/1125\u001B[0m \u001B[32m━━━━━━━━━━━━━━━━━━━━\u001B[0m\u001B[37m\u001B[0m \u001B[1m1s\u001B[0m 991us/step - accuracy: 0.6262 - loss: 0.6953 - val_accuracy: 0.7767 - val_loss: 0.6889\n",
      "Epoch 57/100\n",
      "\u001B[1m1125/1125\u001B[0m \u001B[32m━━━━━━━━━━━━━━━━━━━━\u001B[0m\u001B[37m\u001B[0m \u001B[1m1s\u001B[0m 984us/step - accuracy: 0.6262 - loss: 0.6953 - val_accuracy: 0.7767 - val_loss: 0.6889\n",
      "Epoch 58/100\n",
      "\u001B[1m1125/1125\u001B[0m \u001B[32m━━━━━━━━━━━━━━━━━━━━\u001B[0m\u001B[37m\u001B[0m \u001B[1m1s\u001B[0m 978us/step - accuracy: 0.6262 - loss: 0.6953 - val_accuracy: 0.7767 - val_loss: 0.6889\n",
      "Epoch 59/100\n",
      "\u001B[1m1125/1125\u001B[0m \u001B[32m━━━━━━━━━━━━━━━━━━━━\u001B[0m\u001B[37m\u001B[0m \u001B[1m1s\u001B[0m 982us/step - accuracy: 0.6262 - loss: 0.6953 - val_accuracy: 0.7767 - val_loss: 0.6889\n",
      "Epoch 60/100\n",
      "\u001B[1m1125/1125\u001B[0m \u001B[32m━━━━━━━━━━━━━━━━━━━━\u001B[0m\u001B[37m\u001B[0m \u001B[1m1s\u001B[0m 983us/step - accuracy: 0.6262 - loss: 0.6953 - val_accuracy: 0.7767 - val_loss: 0.6889\n",
      "Epoch 61/100\n",
      "\u001B[1m1125/1125\u001B[0m \u001B[32m━━━━━━━━━━━━━━━━━━━━\u001B[0m\u001B[37m\u001B[0m \u001B[1m1s\u001B[0m 986us/step - accuracy: 0.6262 - loss: 0.6953 - val_accuracy: 0.7767 - val_loss: 0.6889\n",
      "Epoch 62/100\n",
      "\u001B[1m1125/1125\u001B[0m \u001B[32m━━━━━━━━━━━━━━━━━━━━\u001B[0m\u001B[37m\u001B[0m \u001B[1m1s\u001B[0m 987us/step - accuracy: 0.6262 - loss: 0.6953 - val_accuracy: 0.7767 - val_loss: 0.6889\n",
      "Epoch 63/100\n",
      "\u001B[1m1125/1125\u001B[0m \u001B[32m━━━━━━━━━━━━━━━━━━━━\u001B[0m\u001B[37m\u001B[0m \u001B[1m1s\u001B[0m 983us/step - accuracy: 0.6262 - loss: 0.6953 - val_accuracy: 0.7767 - val_loss: 0.6889\n",
      "Epoch 64/100\n",
      "\u001B[1m1125/1125\u001B[0m \u001B[32m━━━━━━━━━━━━━━━━━━━━\u001B[0m\u001B[37m\u001B[0m \u001B[1m1s\u001B[0m 985us/step - accuracy: 0.6262 - loss: 0.6953 - val_accuracy: 0.7767 - val_loss: 0.6889\n",
      "Epoch 65/100\n",
      "\u001B[1m1125/1125\u001B[0m \u001B[32m━━━━━━━━━━━━━━━━━━━━\u001B[0m\u001B[37m\u001B[0m \u001B[1m1s\u001B[0m 986us/step - accuracy: 0.6262 - loss: 0.6953 - val_accuracy: 0.7767 - val_loss: 0.6889\n",
      "Epoch 66/100\n",
      "\u001B[1m1125/1125\u001B[0m \u001B[32m━━━━━━━━━━━━━━━━━━━━\u001B[0m\u001B[37m\u001B[0m \u001B[1m1s\u001B[0m 983us/step - accuracy: 0.6262 - loss: 0.6953 - val_accuracy: 0.7767 - val_loss: 0.6889\n",
      "Epoch 67/100\n",
      "\u001B[1m1125/1125\u001B[0m \u001B[32m━━━━━━━━━━━━━━━━━━━━\u001B[0m\u001B[37m\u001B[0m \u001B[1m1s\u001B[0m 984us/step - accuracy: 0.6262 - loss: 0.6953 - val_accuracy: 0.7767 - val_loss: 0.6889\n",
      "Epoch 68/100\n",
      "\u001B[1m1125/1125\u001B[0m \u001B[32m━━━━━━━━━━━━━━━━━━━━\u001B[0m\u001B[37m\u001B[0m \u001B[1m1s\u001B[0m 979us/step - accuracy: 0.6262 - loss: 0.6953 - val_accuracy: 0.7767 - val_loss: 0.6889\n",
      "Epoch 69/100\n",
      "\u001B[1m1125/1125\u001B[0m \u001B[32m━━━━━━━━━━━━━━━━━━━━\u001B[0m\u001B[37m\u001B[0m \u001B[1m1s\u001B[0m 986us/step - accuracy: 0.6262 - loss: 0.6953 - val_accuracy: 0.7767 - val_loss: 0.6889\n",
      "Epoch 70/100\n",
      "\u001B[1m1125/1125\u001B[0m \u001B[32m━━━━━━━━━━━━━━━━━━━━\u001B[0m\u001B[37m\u001B[0m \u001B[1m1s\u001B[0m 981us/step - accuracy: 0.6262 - loss: 0.6953 - val_accuracy: 0.7767 - val_loss: 0.6889\n",
      "Epoch 71/100\n",
      "\u001B[1m1125/1125\u001B[0m \u001B[32m━━━━━━━━━━━━━━━━━━━━\u001B[0m\u001B[37m\u001B[0m \u001B[1m1s\u001B[0m 980us/step - accuracy: 0.6262 - loss: 0.6953 - val_accuracy: 0.7767 - val_loss: 0.6889\n",
      "Epoch 72/100\n",
      "\u001B[1m1125/1125\u001B[0m \u001B[32m━━━━━━━━━━━━━━━━━━━━\u001B[0m\u001B[37m\u001B[0m \u001B[1m1s\u001B[0m 976us/step - accuracy: 0.6262 - loss: 0.6953 - val_accuracy: 0.7767 - val_loss: 0.6889\n",
      "Epoch 73/100\n",
      "\u001B[1m1125/1125\u001B[0m \u001B[32m━━━━━━━━━━━━━━━━━━━━\u001B[0m\u001B[37m\u001B[0m \u001B[1m1s\u001B[0m 986us/step - accuracy: 0.6262 - loss: 0.6953 - val_accuracy: 0.7767 - val_loss: 0.6889\n",
      "Epoch 74/100\n",
      "\u001B[1m1125/1125\u001B[0m \u001B[32m━━━━━━━━━━━━━━━━━━━━\u001B[0m\u001B[37m\u001B[0m \u001B[1m1s\u001B[0m 980us/step - accuracy: 0.6262 - loss: 0.6953 - val_accuracy: 0.7767 - val_loss: 0.6889\n",
      "Epoch 75/100\n",
      "\u001B[1m1125/1125\u001B[0m \u001B[32m━━━━━━━━━━━━━━━━━━━━\u001B[0m\u001B[37m\u001B[0m \u001B[1m1s\u001B[0m 978us/step - accuracy: 0.6262 - loss: 0.6953 - val_accuracy: 0.7767 - val_loss: 0.6889\n",
      "Epoch 76/100\n",
      "\u001B[1m1125/1125\u001B[0m \u001B[32m━━━━━━━━━━━━━━━━━━━━\u001B[0m\u001B[37m\u001B[0m \u001B[1m1s\u001B[0m 982us/step - accuracy: 0.6262 - loss: 0.6953 - val_accuracy: 0.7767 - val_loss: 0.6889\n",
      "Epoch 77/100\n",
      "\u001B[1m1125/1125\u001B[0m \u001B[32m━━━━━━━━━━━━━━━━━━━━\u001B[0m\u001B[37m\u001B[0m \u001B[1m1s\u001B[0m 979us/step - accuracy: 0.6262 - loss: 0.6953 - val_accuracy: 0.7767 - val_loss: 0.6889\n",
      "Epoch 78/100\n",
      "\u001B[1m1125/1125\u001B[0m \u001B[32m━━━━━━━━━━━━━━━━━━━━\u001B[0m\u001B[37m\u001B[0m \u001B[1m1s\u001B[0m 980us/step - accuracy: 0.6262 - loss: 0.6953 - val_accuracy: 0.7767 - val_loss: 0.6889\n",
      "Epoch 79/100\n",
      "\u001B[1m1125/1125\u001B[0m \u001B[32m━━━━━━━━━━━━━━━━━━━━\u001B[0m\u001B[37m\u001B[0m \u001B[1m1s\u001B[0m 977us/step - accuracy: 0.6262 - loss: 0.6953 - val_accuracy: 0.7767 - val_loss: 0.6889\n",
      "Epoch 80/100\n",
      "\u001B[1m1125/1125\u001B[0m \u001B[32m━━━━━━━━━━━━━━━━━━━━\u001B[0m\u001B[37m\u001B[0m \u001B[1m1s\u001B[0m 1ms/step - accuracy: 0.6262 - loss: 0.6953 - val_accuracy: 0.7767 - val_loss: 0.6889\n",
      "Epoch 81/100\n",
      "\u001B[1m1125/1125\u001B[0m \u001B[32m━━━━━━━━━━━━━━━━━━━━\u001B[0m\u001B[37m\u001B[0m \u001B[1m1s\u001B[0m 1ms/step - accuracy: 0.6262 - loss: 0.6953 - val_accuracy: 0.7767 - val_loss: 0.6889\n",
      "Epoch 82/100\n",
      "\u001B[1m1125/1125\u001B[0m \u001B[32m━━━━━━━━━━━━━━━━━━━━\u001B[0m\u001B[37m\u001B[0m \u001B[1m1s\u001B[0m 1ms/step - accuracy: 0.6262 - loss: 0.6953 - val_accuracy: 0.7767 - val_loss: 0.6889\n",
      "Epoch 83/100\n",
      "\u001B[1m1125/1125\u001B[0m \u001B[32m━━━━━━━━━━━━━━━━━━━━\u001B[0m\u001B[37m\u001B[0m \u001B[1m1s\u001B[0m 982us/step - accuracy: 0.6262 - loss: 0.6953 - val_accuracy: 0.7767 - val_loss: 0.6889\n",
      "Epoch 84/100\n",
      "\u001B[1m1125/1125\u001B[0m \u001B[32m━━━━━━━━━━━━━━━━━━━━\u001B[0m\u001B[37m\u001B[0m \u001B[1m1s\u001B[0m 977us/step - accuracy: 0.6262 - loss: 0.6953 - val_accuracy: 0.7767 - val_loss: 0.6889\n",
      "Epoch 85/100\n",
      "\u001B[1m1125/1125\u001B[0m \u001B[32m━━━━━━━━━━━━━━━━━━━━\u001B[0m\u001B[37m\u001B[0m \u001B[1m1s\u001B[0m 980us/step - accuracy: 0.6262 - loss: 0.6953 - val_accuracy: 0.7767 - val_loss: 0.6889\n",
      "Epoch 86/100\n",
      "\u001B[1m1125/1125\u001B[0m \u001B[32m━━━━━━━━━━━━━━━━━━━━\u001B[0m\u001B[37m\u001B[0m \u001B[1m1s\u001B[0m 988us/step - accuracy: 0.6262 - loss: 0.6953 - val_accuracy: 0.7767 - val_loss: 0.6889\n",
      "Epoch 87/100\n",
      "\u001B[1m1125/1125\u001B[0m \u001B[32m━━━━━━━━━━━━━━━━━━━━\u001B[0m\u001B[37m\u001B[0m \u001B[1m1s\u001B[0m 980us/step - accuracy: 0.6262 - loss: 0.6953 - val_accuracy: 0.7767 - val_loss: 0.6889\n",
      "Epoch 88/100\n",
      "\u001B[1m1125/1125\u001B[0m \u001B[32m━━━━━━━━━━━━━━━━━━━━\u001B[0m\u001B[37m\u001B[0m \u001B[1m1s\u001B[0m 984us/step - accuracy: 0.6262 - loss: 0.6953 - val_accuracy: 0.7767 - val_loss: 0.6889\n",
      "Epoch 89/100\n",
      "\u001B[1m1125/1125\u001B[0m \u001B[32m━━━━━━━━━━━━━━━━━━━━\u001B[0m\u001B[37m\u001B[0m \u001B[1m1s\u001B[0m 983us/step - accuracy: 0.6262 - loss: 0.6953 - val_accuracy: 0.7767 - val_loss: 0.6889\n",
      "Epoch 90/100\n",
      "\u001B[1m1125/1125\u001B[0m \u001B[32m━━━━━━━━━━━━━━━━━━━━\u001B[0m\u001B[37m\u001B[0m \u001B[1m1s\u001B[0m 973us/step - accuracy: 0.6262 - loss: 0.6953 - val_accuracy: 0.7767 - val_loss: 0.6889\n",
      "Epoch 91/100\n",
      "\u001B[1m1125/1125\u001B[0m \u001B[32m━━━━━━━━━━━━━━━━━━━━\u001B[0m\u001B[37m\u001B[0m \u001B[1m1s\u001B[0m 986us/step - accuracy: 0.6262 - loss: 0.6953 - val_accuracy: 0.7767 - val_loss: 0.6889\n",
      "Epoch 92/100\n",
      "\u001B[1m1125/1125\u001B[0m \u001B[32m━━━━━━━━━━━━━━━━━━━━\u001B[0m\u001B[37m\u001B[0m \u001B[1m1s\u001B[0m 979us/step - accuracy: 0.6262 - loss: 0.6953 - val_accuracy: 0.7767 - val_loss: 0.6889\n",
      "Epoch 93/100\n",
      "\u001B[1m1125/1125\u001B[0m \u001B[32m━━━━━━━━━━━━━━━━━━━━\u001B[0m\u001B[37m\u001B[0m \u001B[1m1s\u001B[0m 977us/step - accuracy: 0.6262 - loss: 0.6953 - val_accuracy: 0.7767 - val_loss: 0.6889\n",
      "Epoch 94/100\n",
      "\u001B[1m1125/1125\u001B[0m \u001B[32m━━━━━━━━━━━━━━━━━━━━\u001B[0m\u001B[37m\u001B[0m \u001B[1m1s\u001B[0m 986us/step - accuracy: 0.6262 - loss: 0.6953 - val_accuracy: 0.7767 - val_loss: 0.6889\n",
      "Epoch 95/100\n",
      "\u001B[1m1125/1125\u001B[0m \u001B[32m━━━━━━━━━━━━━━━━━━━━\u001B[0m\u001B[37m\u001B[0m \u001B[1m1s\u001B[0m 977us/step - accuracy: 0.6262 - loss: 0.6953 - val_accuracy: 0.7767 - val_loss: 0.6889\n",
      "Epoch 96/100\n",
      "\u001B[1m1125/1125\u001B[0m \u001B[32m━━━━━━━━━━━━━━━━━━━━\u001B[0m\u001B[37m\u001B[0m \u001B[1m1s\u001B[0m 984us/step - accuracy: 0.6262 - loss: 0.6953 - val_accuracy: 0.7767 - val_loss: 0.6889\n",
      "Epoch 97/100\n",
      "\u001B[1m1125/1125\u001B[0m \u001B[32m━━━━━━━━━━━━━━━━━━━━\u001B[0m\u001B[37m\u001B[0m \u001B[1m1s\u001B[0m 986us/step - accuracy: 0.6262 - loss: 0.6953 - val_accuracy: 0.7767 - val_loss: 0.6889\n",
      "Epoch 98/100\n",
      "\u001B[1m1125/1125\u001B[0m \u001B[32m━━━━━━━━━━━━━━━━━━━━\u001B[0m\u001B[37m\u001B[0m \u001B[1m1s\u001B[0m 979us/step - accuracy: 0.6262 - loss: 0.6953 - val_accuracy: 0.7767 - val_loss: 0.6889\n",
      "Epoch 99/100\n",
      "\u001B[1m1125/1125\u001B[0m \u001B[32m━━━━━━━━━━━━━━━━━━━━\u001B[0m\u001B[37m\u001B[0m \u001B[1m1s\u001B[0m 978us/step - accuracy: 0.6262 - loss: 0.6953 - val_accuracy: 0.7767 - val_loss: 0.6889\n",
      "Epoch 100/100\n",
      "\u001B[1m1125/1125\u001B[0m \u001B[32m━━━━━━━━━━━━━━━━━━━━\u001B[0m\u001B[37m\u001B[0m \u001B[1m1s\u001B[0m 983us/step - accuracy: 0.6262 - loss: 0.6953 - val_accuracy: 0.7767 - val_loss: 0.6889\n"
     ]
    }
   ],
   "execution_count": 26
  },
  {
   "metadata": {
    "ExecuteTime": {
     "end_time": "2025-05-17T12:33:53.466479Z",
     "start_time": "2025-05-17T12:33:53.348563Z"
    }
   },
   "cell_type": "code",
   "source": "pd.DataFrame(history_4.history).plot(figsize=(8,5))",
   "id": "8cdbf7330674152",
   "outputs": [
    {
     "data": {
      "text/plain": [
       "<Axes: >"
      ]
     },
     "execution_count": 27,
     "metadata": {},
     "output_type": "execute_result"
    },
    {
     "data": {
      "text/plain": [
       "<Figure size 800x500 with 1 Axes>"
      ],
      "image/png": "[encoded data removed]"
     },
     "metadata": {},
     "output_type": "display_data"
    }
   ],
   "execution_count": 27
  },
  {
   "metadata": {
    "ExecuteTime": {
     "end_time": "2025-05-17T12:33:56.523016Z",
     "start_time": "2025-05-17T12:33:56.277109Z"
    }
   },
   "cell_type": "code",
   "source": "model_4.evaluate(X_test,y_test)",
   "id": "b7ec4a6cba52663e",
   "outputs": [
    {
     "name": "stdout",
     "output_type": "stream",
     "text": [
      "\u001B[1m282/282\u001B[0m \u001B[32m━━━━━━━━━━━━━━━━━━━━\u001B[0m\u001B[37m\u001B[0m \u001B[1m0s\u001B[0m 698us/step - accuracy: 0.7656 - loss: 0.6891\n"
     ]
    },
    {
     "data": {
      "text/plain": [
       "[0.6889491081237793, 0.7766666412353516]"
      ]
     },
     "execution_count": 28,
     "metadata": {},
     "output_type": "execute_result"
    }
   ],
   "execution_count": 28
  },
  {
   "metadata": {},
   "cell_type": "markdown",
   "source": "## Model-4 Predict",
   "id": "b62839840adaba2c"
  },
  {
   "metadata": {
    "ExecuteTime": {
     "end_time": "2025-05-17T12:34:13.153401Z",
     "start_time": "2025-05-17T12:34:12.841070Z"
    }
   },
   "cell_type": "code",
   "source": [
    "y_preds_4 = model_4.predict(X_test)\n",
    "y_preds_4 = (y_preds_4 > 0.5).astype(int)\n",
    "y_preds_4"
   ],
   "id": "b4cd82c501da38fe",
   "outputs": [
    {
     "name": "stdout",
     "output_type": "stream",
     "text": [
      "\u001B[1m282/282\u001B[0m \u001B[32m━━━━━━━━━━━━━━━━━━━━\u001B[0m\u001B[37m\u001B[0m \u001B[1m0s\u001B[0m 580us/step\n"
     ]
    },
    {
     "data": {
      "text/plain": [
       "array([[0],\n",
       "       [0],\n",
       "       [0],\n",
       "       ...,\n",
       "       [0],\n",
       "       [0],\n",
       "       [0]])"
      ]
     },
     "execution_count": 29,
     "metadata": {},
     "output_type": "execute_result"
    }
   ],
   "execution_count": 29
  },
  {
   "metadata": {
    "ExecuteTime": {
     "end_time": "2025-05-17T12:34:15.702997Z",
     "start_time": "2025-05-17T12:34:15.609828Z"
    }
   },
   "cell_type": "code",
   "source": "plot_confusion_matrix(y_test,y_preds_4)",
   "id": "ac3937e0449b4dbe",
   "outputs": [
    {
     "data": {
      "text/plain": [
       "<Figure size 500x400 with 2 Axes>"
      ],
      "image/png": "[encoded data removed]"
     },
     "metadata": {},
     "output_type": "display_data"
    }
   ],
   "execution_count": 30
  },
  {
   "metadata": {},
   "cell_type": "markdown",
   "source": [
    "## Why Use a Data-Driven Threshold?\n",
    "\n",
    "We do this to pick a decision threshold that’s **data-driven** rather than arbitrarily fixed at 0.5. The default 0.5 cutoff isn’t always optimal—especially when:\n",
    "\n",
    "- Your classes are **imbalanced** (very different numbers of positive vs. negative samples).  \n",
    "- The cost of a **false positive** and a **false negative** aren’t equal.  \n",
    "- You care more about **sensitivity** (recall) or **specificity** than raw accuracy.  \n",
    "\n",
    "---\n",
    "\n",
    "### Youden’s J Statistic\n",
    "\n",
    "By maximizing Youden’s J statistic:\n",
    "\n",
    "$$\n",
    "J(\\tau) = \\mathrm{TPR}(\\tau) - \\mathrm{FPR}(\\tau)\n",
    "$$\n",
    "\n",
    "we find the threshold \\(\\tau^*\\) that best balances true positive rate and false positive rate.\n",
    "\n",
    "---\n",
    "\n",
    "### Benefits of an Optimal Threshold\n",
    "\n",
    "1. **Higher sensitivity** without letting the false‐alarm rate run wild.  \n",
    "2. **Better trade‐off** given your real‐world costs of misclassification.  \n",
    "3. **Tailored “approve vs. reject” rule** aligned with your data and business needs.\n",
    "\n",
    "---\n",
    "\n",
    "> Selecting the optimal threshold via Youden’s J makes your model’s binary decisions more effective and aligned with practical requirements.\n"
   ],
   "id": "af0315fe4e1d34b4"
  },
  {
   "metadata": {
    "ExecuteTime": {
     "end_time": "2025-05-17T12:37:47.624265Z",
     "start_time": "2025-05-17T12:37:47.451638Z"
    }
   },
   "cell_type": "code",
   "source": [
    "from sklearn.linear_model import LogisticRegression\n",
    "from sklearn.metrics import (\n",
    "    roc_curve, auc, confusion_matrix, classification_report\n",
    ")\n",
    "\n",
    "clf = LogisticRegression(random_state=42)\n",
    "clf.fit(X_train,y_train)\n",
    "\n",
    "y_prob = clf.predict_proba(X_test)[:,1]\n",
    "\n",
    "fpr,tpr,thresholds = roc_curve(y_test,y_prob)\n",
    "j_scores = tpr - fpr\n",
    "best_idx = np.argmax(j_scores)\n",
    "best_threshold = thresholds[best_idx]\n",
    "print(f\"Best Threshold: {best_threshold:.2f}\")\n"
   ],
   "id": "f054f2eee023821d",
   "outputs": [
    {
     "name": "stdout",
     "output_type": "stream",
     "text": [
      "Best Threshold: 0.22\n"
     ]
    }
   ],
   "execution_count": 31
  },
  {
   "metadata": {
    "ExecuteTime": {
     "end_time": "2025-05-17T12:37:49.980242Z",
     "start_time": "2025-05-17T12:37:49.969429Z"
    }
   },
   "cell_type": "code",
   "source": [
    "y_pred = (y_prob >= best_threshold).astype(int)\n",
    "# 5) Performans raporu\n",
    "print(\"Confusion Matrix:\\n\", confusion_matrix(y_test, y_pred))\n",
    "print(\"\\nClassification Report:\\n\", classification_report(y_test, y_pred))"
   ],
   "id": "8e5bf3c84a17e096",
   "outputs": [
    {
     "name": "stdout",
     "output_type": "stream",
     "text": [
      "Confusion Matrix:\n",
      " [[3644 3346]\n",
      " [ 995 1015]]\n",
      "\n",
      "Classification Report:\n",
      "               precision    recall  f1-score   support\n",
      "\n",
      "           0       0.79      0.52      0.63      6990\n",
      "           1       0.23      0.50      0.32      2010\n",
      "\n",
      "    accuracy                           0.52      9000\n",
      "   macro avg       0.51      0.51      0.47      9000\n",
      "weighted avg       0.66      0.52      0.56      9000\n",
      "\n"
     ]
    }
   ],
   "execution_count": 32
  },
  {
   "metadata": {
    "ExecuteTime": {
     "end_time": "2025-05-17T12:37:53.201357Z",
     "start_time": "2025-05-17T12:37:53.092066Z"
    }
   },
   "cell_type": "code",
   "source": [
    "# 6) ROC eğrisini çiz (opsiyonel)\n",
    "plt.figure()\n",
    "plt.plot(fpr, tpr, label=f\"AUC = {auc(fpr,tpr):.3f}\")\n",
    "plt.scatter(fpr[best_idx], tpr[best_idx],\n",
    "            label=f\"Best thresh = {best_threshold:.2f}\", color='red')\n",
    "plt.plot([0,1],[0,1],'k--')\n",
    "plt.xlabel(\"False Positive Rate\")\n",
    "plt.ylabel(\"True Positive Rate\")\n",
    "plt.legend()\n",
    "plt.title(\"ROC Curve\")\n",
    "plt.show()"
   ],
   "id": "12dfc6c1208665bb",
   "outputs": [
    {
     "data": {
      "text/plain": [
       "<Figure size 640x480 with 1 Axes>"
      ],
      "image/png": "[encoded data removed]"
     },
     "metadata": {},
     "output_type": "display_data"
    }
   ],
   "execution_count": 33
  },
  {
   "metadata": {
    "ExecuteTime": {
     "end_time": "2025-05-17T12:37:56.290349Z",
     "start_time": "2025-05-17T12:37:56.195470Z"
    }
   },
   "cell_type": "code",
   "source": "plot_confusion_matrix(y_test,y_pred)",
   "id": "999c4a02d050997b",
   "outputs": [
    {
     "data": {
      "text/plain": [
       "<Figure size 500x400 with 2 Axes>"
      ],
      "image/png": "[encoded data removed]"
     },
     "metadata": {},
     "output_type": "display_data"
    }
   ],
   "execution_count": 34
  },
  {
   "metadata": {},
   "cell_type": "markdown",
   "source": "### 🧬 fifth Model - Model-5 - Classification\n",
   "id": "f15b26847231d2e7"
  },
  {
   "metadata": {
    "ExecuteTime": {
     "end_time": "2025-05-17T12:39:59.570078Z",
     "start_time": "2025-05-17T12:39:25.417890Z"
    }
   },
   "cell_type": "code",
   "source": [
    "from imblearn.over_sampling import RandomOverSampler\n",
    "\n",
    "ros = RandomOverSampler(random_state=42)\n",
    "X_res, y_res = ros.fit_resample(X_train, y_train)\n",
    "\n",
    "# Aynı model mimarisiyle\n",
    "tf.random.set_seed(42)\n",
    "model_5 = tf.keras.Sequential([\n",
    "    tf.keras.layers.Input(shape=(1,)),\n",
    "    tf.keras.layers.Flatten(),\n",
    "    tf.keras.layers.Dense(16, activation='relu'),\n",
    "    tf.keras.layers.Dense(8, activation='relu'),\n",
    "    tf.keras.layers.Dense(1, activation='sigmoid')\n",
    "])\n",
    "model_5.compile(loss=tf.keras.losses.BinaryCrossentropy(),\n",
    "                optimizer=tf.keras.optimizers.Adam(),\n",
    "                metrics=['accuracy'])\n",
    "\n",
    "history_os = model_5.fit(\n",
    "    X_train, y_train,\n",
    "    epochs=30,\n",
    "    validation_data=(X_test, y_test)\n",
    ")\n"
   ],
   "id": "3acf65ba53a9dba5",
   "outputs": [
    {
     "name": "stdout",
     "output_type": "stream",
     "text": [
      "Epoch 1/30\n",
      "\u001B[1m1125/1125\u001B[0m \u001B[32m━━━━━━━━━━━━━━━━━━━━\u001B[0m\u001B[37m\u001B[0m \u001B[1m2s\u001B[0m 1ms/step - accuracy: 0.7489 - loss: 0.6449 - val_accuracy: 0.7767 - val_loss: 0.5316\n",
      "Epoch 2/30\n",
      "\u001B[1m1125/1125\u001B[0m \u001B[32m━━━━━━━━━━━━━━━━━━━━\u001B[0m\u001B[37m\u001B[0m \u001B[1m1s\u001B[0m 955us/step - accuracy: 0.7762 - loss: 0.5347 - val_accuracy: 0.7767 - val_loss: 0.5316\n",
      "Epoch 3/30\n",
      "\u001B[1m1125/1125\u001B[0m \u001B[32m━━━━━━━━━━━━━━━━━━━━\u001B[0m\u001B[37m\u001B[0m \u001B[1m1s\u001B[0m 946us/step - accuracy: 0.7762 - loss: 0.5348 - val_accuracy: 0.7767 - val_loss: 0.5315\n",
      "Epoch 4/30\n",
      "\u001B[1m1125/1125\u001B[0m \u001B[32m━━━━━━━━━━━━━━━━━━━━\u001B[0m\u001B[37m\u001B[0m \u001B[1m1s\u001B[0m 935us/step - accuracy: 0.7762 - loss: 0.5348 - val_accuracy: 0.7767 - val_loss: 0.5315\n",
      "Epoch 5/30\n",
      "\u001B[1m1125/1125\u001B[0m \u001B[32m━━━━━━━━━━━━━━━━━━━━\u001B[0m\u001B[37m\u001B[0m \u001B[1m1s\u001B[0m 950us/step - accuracy: 0.7762 - loss: 0.5348 - val_accuracy: 0.7767 - val_loss: 0.5314\n",
      "Epoch 6/30\n",
      "\u001B[1m1125/1125\u001B[0m \u001B[32m━━━━━━━━━━━━━━━━━━━━\u001B[0m\u001B[37m\u001B[0m \u001B[1m1s\u001B[0m 942us/step - accuracy: 0.7762 - loss: 0.5347 - val_accuracy: 0.7767 - val_loss: 0.5314\n",
      "Epoch 7/30\n",
      "\u001B[1m1125/1125\u001B[0m \u001B[32m━━━━━━━━━━━━━━━━━━━━\u001B[0m\u001B[37m\u001B[0m \u001B[1m1s\u001B[0m 947us/step - accuracy: 0.7762 - loss: 0.5346 - val_accuracy: 0.7767 - val_loss: 0.5314\n",
      "Epoch 8/30\n",
      "\u001B[1m1125/1125\u001B[0m \u001B[32m━━━━━━━━━━━━━━━━━━━━\u001B[0m\u001B[37m\u001B[0m \u001B[1m1s\u001B[0m 955us/step - accuracy: 0.7762 - loss: 0.5345 - val_accuracy: 0.7767 - val_loss: 0.5314\n",
      "Epoch 9/30\n",
      "\u001B[1m1125/1125\u001B[0m \u001B[32m━━━━━━━━━━━━━━━━━━━━\u001B[0m\u001B[37m\u001B[0m \u001B[1m1s\u001B[0m 946us/step - accuracy: 0.7762 - loss: 0.5344 - val_accuracy: 0.7767 - val_loss: 0.5314\n",
      "Epoch 10/30\n",
      "\u001B[1m1125/1125\u001B[0m \u001B[32m━━━━━━━━━━━━━━━━━━━━\u001B[0m\u001B[37m\u001B[0m \u001B[1m1s\u001B[0m 970us/step - accuracy: 0.7762 - loss: 0.5343 - val_accuracy: 0.7767 - val_loss: 0.5314\n",
      "Epoch 11/30\n",
      "\u001B[1m1125/1125\u001B[0m \u001B[32m━━━━━━━━━━━━━━━━━━━━\u001B[0m\u001B[37m\u001B[0m \u001B[1m1s\u001B[0m 950us/step - accuracy: 0.7762 - loss: 0.5342 - val_accuracy: 0.7767 - val_loss: 0.5314\n",
      "Epoch 12/30\n",
      "\u001B[1m1125/1125\u001B[0m \u001B[32m━━━━━━━━━━━━━━━━━━━━\u001B[0m\u001B[37m\u001B[0m \u001B[1m1s\u001B[0m 966us/step - accuracy: 0.7762 - loss: 0.5342 - val_accuracy: 0.7767 - val_loss: 0.5314\n",
      "Epoch 13/30\n",
      "\u001B[1m1125/1125\u001B[0m \u001B[32m━━━━━━━━━━━━━━━━━━━━\u001B[0m\u001B[37m\u001B[0m \u001B[1m1s\u001B[0m 944us/step - accuracy: 0.7762 - loss: 0.5339 - val_accuracy: 0.7767 - val_loss: 0.5314\n",
      "Epoch 14/30\n",
      "\u001B[1m1125/1125\u001B[0m \u001B[32m━━━━━━━━━━━━━━━━━━━━\u001B[0m\u001B[37m\u001B[0m \u001B[1m1s\u001B[0m 943us/step - accuracy: 0.7762 - loss: 0.5339 - val_accuracy: 0.7767 - val_loss: 0.5314\n",
      "Epoch 15/30\n",
      "\u001B[1m1125/1125\u001B[0m \u001B[32m━━━━━━━━━━━━━━━━━━━━\u001B[0m\u001B[37m\u001B[0m \u001B[1m1s\u001B[0m 964us/step - accuracy: 0.7762 - loss: 0.5338 - val_accuracy: 0.7767 - val_loss: 0.5314\n",
      "Epoch 16/30\n",
      "\u001B[1m1125/1125\u001B[0m \u001B[32m━━━━━━━━━━━━━━━━━━━━\u001B[0m\u001B[37m\u001B[0m \u001B[1m1s\u001B[0m 948us/step - accuracy: 0.7762 - loss: 0.5337 - val_accuracy: 0.7767 - val_loss: 0.5314\n",
      "Epoch 17/30\n",
      "\u001B[1m1125/1125\u001B[0m \u001B[32m━━━━━━━━━━━━━━━━━━━━\u001B[0m\u001B[37m\u001B[0m \u001B[1m1s\u001B[0m 951us/step - accuracy: 0.7762 - loss: 0.5336 - val_accuracy: 0.7767 - val_loss: 0.5314\n",
      "Epoch 18/30\n",
      "\u001B[1m1125/1125\u001B[0m \u001B[32m━━━━━━━━━━━━━━━━━━━━\u001B[0m\u001B[37m\u001B[0m \u001B[1m1s\u001B[0m 945us/step - accuracy: 0.7762 - loss: 0.5336 - val_accuracy: 0.7767 - val_loss: 0.5314\n",
      "Epoch 19/30\n",
      "\u001B[1m1125/1125\u001B[0m \u001B[32m━━━━━━━━━━━━━━━━━━━━\u001B[0m\u001B[37m\u001B[0m \u001B[1m1s\u001B[0m 945us/step - accuracy: 0.7762 - loss: 0.5335 - val_accuracy: 0.7767 - val_loss: 0.5315\n",
      "Epoch 20/30\n",
      "\u001B[1m1125/1125\u001B[0m \u001B[32m━━━━━━━━━━━━━━━━━━━━\u001B[0m\u001B[37m\u001B[0m \u001B[1m1s\u001B[0m 915us/step - accuracy: 0.7762 - loss: 0.5334 - val_accuracy: 0.7767 - val_loss: 0.5315\n",
      "Epoch 21/30\n",
      "\u001B[1m1125/1125\u001B[0m \u001B[32m━━━━━━━━━━━━━━━━━━━━\u001B[0m\u001B[37m\u001B[0m \u001B[1m1s\u001B[0m 938us/step - accuracy: 0.7762 - loss: 0.5333 - val_accuracy: 0.7767 - val_loss: 0.5315\n",
      "Epoch 22/30\n",
      "\u001B[1m1125/1125\u001B[0m \u001B[32m━━━━━━━━━━━━━━━━━━━━\u001B[0m\u001B[37m\u001B[0m \u001B[1m1s\u001B[0m 938us/step - accuracy: 0.7762 - loss: 0.5332 - val_accuracy: 0.7767 - val_loss: 0.5315\n",
      "Epoch 23/30\n",
      "\u001B[1m1125/1125\u001B[0m \u001B[32m━━━━━━━━━━━━━━━━━━━━\u001B[0m\u001B[37m\u001B[0m \u001B[1m1s\u001B[0m 977us/step - accuracy: 0.7762 - loss: 0.5331 - val_accuracy: 0.7767 - val_loss: 0.5315\n",
      "Epoch 24/30\n",
      "\u001B[1m1125/1125\u001B[0m \u001B[32m━━━━━━━━━━━━━━━━━━━━\u001B[0m\u001B[37m\u001B[0m \u001B[1m1s\u001B[0m 963us/step - accuracy: 0.7762 - loss: 0.5331 - val_accuracy: 0.7767 - val_loss: 0.5315\n",
      "Epoch 25/30\n",
      "\u001B[1m1125/1125\u001B[0m \u001B[32m━━━━━━━━━━━━━━━━━━━━\u001B[0m\u001B[37m\u001B[0m \u001B[1m1s\u001B[0m 943us/step - accuracy: 0.7762 - loss: 0.5330 - val_accuracy: 0.7767 - val_loss: 0.5314\n",
      "Epoch 26/30\n",
      "\u001B[1m1125/1125\u001B[0m \u001B[32m━━━━━━━━━━━━━━━━━━━━\u001B[0m\u001B[37m\u001B[0m \u001B[1m1s\u001B[0m 929us/step - accuracy: 0.7762 - loss: 0.5329 - val_accuracy: 0.7767 - val_loss: 0.5314\n",
      "Epoch 27/30\n",
      "\u001B[1m1125/1125\u001B[0m \u001B[32m━━━━━━━━━━━━━━━━━━━━\u001B[0m\u001B[37m\u001B[0m \u001B[1m1s\u001B[0m 945us/step - accuracy: 0.7762 - loss: 0.5328 - val_accuracy: 0.7767 - val_loss: 0.5314\n",
      "Epoch 28/30\n",
      "\u001B[1m1125/1125\u001B[0m \u001B[32m━━━━━━━━━━━━━━━━━━━━\u001B[0m\u001B[37m\u001B[0m \u001B[1m1s\u001B[0m 966us/step - accuracy: 0.7762 - loss: 0.5328 - val_accuracy: 0.7767 - val_loss: 0.5314\n",
      "Epoch 29/30\n",
      "\u001B[1m1125/1125\u001B[0m \u001B[32m━━━━━━━━━━━━━━━━━━━━\u001B[0m\u001B[37m\u001B[0m \u001B[1m1s\u001B[0m 960us/step - accuracy: 0.7762 - loss: 0.5327 - val_accuracy: 0.7767 - val_loss: 0.5314\n",
      "Epoch 30/30\n",
      "\u001B[1m1125/1125\u001B[0m \u001B[32m━━━━━━━━━━━━━━━━━━━━\u001B[0m\u001B[37m\u001B[0m \u001B[1m1s\u001B[0m 1ms/step - accuracy: 0.7762 - loss: 0.5326 - val_accuracy: 0.7767 - val_loss: 0.5313\n"
     ]
    }
   ],
   "execution_count": 35
  },
  {
   "metadata": {
    "ExecuteTime": {
     "end_time": "2025-05-17T12:40:01.121214Z",
     "start_time": "2025-05-17T12:40:01.003918Z"
    }
   },
   "cell_type": "code",
   "source": "pd.DataFrame(history_os.history).plot(figsize=(8,5))",
   "id": "524af25b56aa08c4",
   "outputs": [
    {
     "data": {
      "text/plain": [
       "<Axes: >"
      ]
     },
     "execution_count": 36,
     "metadata": {},
     "output_type": "execute_result"
    },
    {
     "data": {
      "text/plain": [
       "<Figure size 800x500 with 1 Axes>"
      ],
      "image/png": "[encoded data removed]"
     },
     "metadata": {},
     "output_type": "display_data"
    }
   ],
   "execution_count": 36
  },
  {
   "metadata": {},
   "cell_type": "markdown",
   "source": "## Model-5 Predict",
   "id": "b19e7bfaf7d51b71"
  },
  {
   "metadata": {
    "ExecuteTime": {
     "end_time": "2025-05-17T12:40:03.714901Z",
     "start_time": "2025-05-17T12:40:03.411015Z"
    }
   },
   "cell_type": "code",
   "source": [
    "y_preds_5 = model_5.predict(X_test)\n",
    "y_preds_5 = (y_preds_5 > 0.5).astype(int)\n",
    "y_preds_5"
   ],
   "id": "cfd5d3fe148dacf0",
   "outputs": [
    {
     "name": "stdout",
     "output_type": "stream",
     "text": [
      "\u001B[1m282/282\u001B[0m \u001B[32m━━━━━━━━━━━━━━━━━━━━\u001B[0m\u001B[37m\u001B[0m \u001B[1m0s\u001B[0m 552us/step\n"
     ]
    },
    {
     "data": {
      "text/plain": [
       "array([[0],\n",
       "       [0],\n",
       "       [0],\n",
       "       ...,\n",
       "       [0],\n",
       "       [0],\n",
       "       [0]])"
      ]
     },
     "execution_count": 37,
     "metadata": {},
     "output_type": "execute_result"
    }
   ],
   "execution_count": 37
  },
  {
   "metadata": {
    "ExecuteTime": {
     "end_time": "2025-05-17T12:40:05.171970Z",
     "start_time": "2025-05-17T12:40:05.074974Z"
    }
   },
   "cell_type": "code",
   "source": "plot_confusion_matrix(y_test,y_preds_5)",
   "id": "f26e48f984759162",
   "outputs": [
    {
     "data": {
      "text/plain": [
       "<Figure size 500x400 with 2 Axes>"
      ],
      "image/png": "[encoded data removed]"
     },
     "metadata": {},
     "output_type": "display_data"
    }
   ],
   "execution_count": 38
  },
  {
   "metadata": {
    "ExecuteTime": {
     "end_time": "2025-05-17T12:40:09.092604Z",
     "start_time": "2025-05-17T12:40:09.066839Z"
    }
   },
   "cell_type": "code",
   "source": [
    "from sklearn.preprocessing import MinMaxScaler\n",
    "from sklearn.linear_model import LogisticRegression\n",
    "from sklearn.metrics import classification_report\n",
    "\n",
    "scaler =MinMaxScaler(feature_range=(0,1))\n",
    "X_train_scaled = scaler.fit_transform(X_train)\n",
    "X_test_scaled = scaler.transform(X_test)\n",
    "\n",
    "clf = LogisticRegression(max_iter=1000)\n",
    "clf.fit(X_train_scaled,y_train)\n",
    "y_pred = clf.predict(X_test_scaled)\n",
    "print(classification_report(y_test,y_pred))"
   ],
   "id": "5fe442b142482bf5",
   "outputs": [
    {
     "name": "stdout",
     "output_type": "stream",
     "text": [
      "              precision    recall  f1-score   support\n",
      "\n",
      "           0       0.78      1.00      0.87      6990\n",
      "           1       0.00      0.00      0.00      2010\n",
      "\n",
      "    accuracy                           0.78      9000\n",
      "   macro avg       0.39      0.50      0.44      9000\n",
      "weighted avg       0.60      0.78      0.68      9000\n",
      "\n"
     ]
    },
    {
     "name": "stderr",
     "output_type": "stream",
     "text": [
      "C:\\Users\\kubilay\\miniconda3\\Lib\\site-packages\\sklearn\\metrics\\_classification.py:1565: UndefinedMetricWarning: Precision is ill-defined and being set to 0.0 in labels with no predicted samples. Use `zero_division` parameter to control this behavior.\n",
      "  _warn_prf(average, modifier, f\"{metric.capitalize()} is\", len(result))\n",
      "C:\\Users\\kubilay\\miniconda3\\Lib\\site-packages\\sklearn\\metrics\\_classification.py:1565: UndefinedMetricWarning: Precision is ill-defined and being set to 0.0 in labels with no predicted samples. Use `zero_division` parameter to control this behavior.\n",
      "  _warn_prf(average, modifier, f\"{metric.capitalize()} is\", len(result))\n",
      "C:\\Users\\kubilay\\miniconda3\\Lib\\site-packages\\sklearn\\metrics\\_classification.py:1565: UndefinedMetricWarning: Precision is ill-defined and being set to 0.0 in labels with no predicted samples. Use `zero_division` parameter to control this behavior.\n",
      "  _warn_prf(average, modifier, f\"{metric.capitalize()} is\", len(result))\n"
     ]
    }
   ],
   "execution_count": 39
  },
  {
   "metadata": {},
   "cell_type": "markdown",
   "source": "### 🧬 sixth Model - Model-6 - Classification",
   "id": "78d9fac1513e8d85"
  },
  {
   "metadata": {
    "ExecuteTime": {
     "end_time": "2025-05-17T12:41:25.326221Z",
     "start_time": "2025-05-17T12:40:51.390299Z"
    }
   },
   "cell_type": "code",
   "source": [
    "tf.random.set_seed(42)\n",
    "\n",
    "model_6 = tf.keras.Sequential([\n",
    "    tf.keras.layers.Input(shape=(1,)),\n",
    "    tf.keras.layers.Flatten(),\n",
    "    tf.keras.layers.Dense(16, activation='relu'),\n",
    "    tf.keras.layers.Dense(8, activation='relu'),\n",
    "    tf.keras.layers.Dense(1, activation='sigmoid')\n",
    "])\n",
    "\n",
    "\n",
    "model_6.compile(loss=tf.keras.losses.BinaryCrossentropy(),\n",
    "                optimizer=tf.keras.optimizers.Adam(),\n",
    "                metrics=['accuracy'])\n",
    "\n",
    "history_6 = model_6.fit(\n",
    "    X_train_scaled, y_train,\n",
    "    epochs=30,\n",
    "    validation_data=(X_test_scaled, y_test),\n",
    "    class_weight=class_weight_dict\n",
    ")"
   ],
   "id": "ac57fa643b3db191",
   "outputs": [
    {
     "name": "stdout",
     "output_type": "stream",
     "text": [
      "Epoch 1/30\n",
      "\u001B[1m1125/1125\u001B[0m \u001B[32m━━━━━━━━━━━━━━━━━━━━\u001B[0m\u001B[37m\u001B[0m \u001B[1m2s\u001B[0m 1ms/step - accuracy: 0.5007 - loss: 0.6956 - val_accuracy: 0.7766 - val_loss: 0.6850\n",
      "Epoch 2/30\n",
      "\u001B[1m1125/1125\u001B[0m \u001B[32m━━━━━━━━━━━━━━━━━━━━\u001B[0m\u001B[37m\u001B[0m \u001B[1m1s\u001B[0m 966us/step - accuracy: 0.5139 - loss: 0.6954 - val_accuracy: 0.7767 - val_loss: 0.6851\n",
      "Epoch 3/30\n",
      "\u001B[1m1125/1125\u001B[0m \u001B[32m━━━━━━━━━━━━━━━━━━━━\u001B[0m\u001B[37m\u001B[0m \u001B[1m1s\u001B[0m 971us/step - accuracy: 0.5258 - loss: 0.6954 - val_accuracy: 0.7767 - val_loss: 0.6877\n",
      "Epoch 4/30\n",
      "\u001B[1m1125/1125\u001B[0m \u001B[32m━━━━━━━━━━━━━━━━━━━━\u001B[0m\u001B[37m\u001B[0m \u001B[1m1s\u001B[0m 970us/step - accuracy: 0.5532 - loss: 0.6953 - val_accuracy: 0.7767 - val_loss: 0.6871\n",
      "Epoch 5/30\n",
      "\u001B[1m1125/1125\u001B[0m \u001B[32m━━━━━━━━━━━━━━━━━━━━\u001B[0m\u001B[37m\u001B[0m \u001B[1m1s\u001B[0m 951us/step - accuracy: 0.5672 - loss: 0.6953 - val_accuracy: 0.7767 - val_loss: 0.6871\n",
      "Epoch 6/30\n",
      "\u001B[1m1125/1125\u001B[0m \u001B[32m━━━━━━━━━━━━━━━━━━━━\u001B[0m\u001B[37m\u001B[0m \u001B[1m1s\u001B[0m 960us/step - accuracy: 0.5637 - loss: 0.6953 - val_accuracy: 0.7767 - val_loss: 0.6871\n",
      "Epoch 7/30\n",
      "\u001B[1m1125/1125\u001B[0m \u001B[32m━━━━━━━━━━━━━━━━━━━━\u001B[0m\u001B[37m\u001B[0m \u001B[1m1s\u001B[0m 948us/step - accuracy: 0.5625 - loss: 0.6953 - val_accuracy: 0.7767 - val_loss: 0.6872\n",
      "Epoch 8/30\n",
      "\u001B[1m1125/1125\u001B[0m \u001B[32m━━━━━━━━━━━━━━━━━━━━\u001B[0m\u001B[37m\u001B[0m \u001B[1m1s\u001B[0m 966us/step - accuracy: 0.5627 - loss: 0.6953 - val_accuracy: 0.7767 - val_loss: 0.6872\n",
      "Epoch 9/30\n",
      "\u001B[1m1125/1125\u001B[0m \u001B[32m━━━━━━━━━━━━━━━━━━━━\u001B[0m\u001B[37m\u001B[0m \u001B[1m1s\u001B[0m 966us/step - accuracy: 0.5600 - loss: 0.6953 - val_accuracy: 0.7767 - val_loss: 0.6892\n",
      "Epoch 10/30\n",
      "\u001B[1m1125/1125\u001B[0m \u001B[32m━━━━━━━━━━━━━━━━━━━━\u001B[0m\u001B[37m\u001B[0m \u001B[1m1s\u001B[0m 964us/step - accuracy: 0.6134 - loss: 0.6953 - val_accuracy: 0.7767 - val_loss: 0.6874\n",
      "Epoch 11/30\n",
      "\u001B[1m1125/1125\u001B[0m \u001B[32m━━━━━━━━━━━━━━━━━━━━\u001B[0m\u001B[37m\u001B[0m \u001B[1m1s\u001B[0m 953us/step - accuracy: 0.5772 - loss: 0.6953 - val_accuracy: 0.7767 - val_loss: 0.6884\n",
      "Epoch 12/30\n",
      "\u001B[1m1125/1125\u001B[0m \u001B[32m━━━━━━━━━━━━━━━━━━━━\u001B[0m\u001B[37m\u001B[0m \u001B[1m1s\u001B[0m 966us/step - accuracy: 0.6002 - loss: 0.6953 - val_accuracy: 0.7767 - val_loss: 0.6890\n",
      "Epoch 13/30\n",
      "\u001B[1m1125/1125\u001B[0m \u001B[32m━━━━━━━━━━━━━━━━━━━━\u001B[0m\u001B[37m\u001B[0m \u001B[1m1s\u001B[0m 954us/step - accuracy: 0.6215 - loss: 0.6953 - val_accuracy: 0.7767 - val_loss: 0.6890\n",
      "Epoch 14/30\n",
      "\u001B[1m1125/1125\u001B[0m \u001B[32m━━━━━━━━━━━━━━━━━━━━\u001B[0m\u001B[37m\u001B[0m \u001B[1m1s\u001B[0m 946us/step - accuracy: 0.6241 - loss: 0.6953 - val_accuracy: 0.7767 - val_loss: 0.6890\n",
      "Epoch 15/30\n",
      "\u001B[1m1125/1125\u001B[0m \u001B[32m━━━━━━━━━━━━━━━━━━━━\u001B[0m\u001B[37m\u001B[0m \u001B[1m1s\u001B[0m 962us/step - accuracy: 0.6253 - loss: 0.6953 - val_accuracy: 0.7767 - val_loss: 0.6889\n",
      "Epoch 16/30\n",
      "\u001B[1m1125/1125\u001B[0m \u001B[32m━━━━━━━━━━━━━━━━━━━━\u001B[0m\u001B[37m\u001B[0m \u001B[1m1s\u001B[0m 950us/step - accuracy: 0.6262 - loss: 0.6953 - val_accuracy: 0.7767 - val_loss: 0.6889\n",
      "Epoch 17/30\n",
      "\u001B[1m1125/1125\u001B[0m \u001B[32m━━━━━━━━━━━━━━━━━━━━\u001B[0m\u001B[37m\u001B[0m \u001B[1m1s\u001B[0m 948us/step - accuracy: 0.6262 - loss: 0.6953 - val_accuracy: 0.7767 - val_loss: 0.6889\n",
      "Epoch 18/30\n",
      "\u001B[1m1125/1125\u001B[0m \u001B[32m━━━━━━━━━━━━━━━━━━━━\u001B[0m\u001B[37m\u001B[0m \u001B[1m1s\u001B[0m 952us/step - accuracy: 0.6262 - loss: 0.6953 - val_accuracy: 0.7767 - val_loss: 0.6889\n",
      "Epoch 19/30\n",
      "\u001B[1m1125/1125\u001B[0m \u001B[32m━━━━━━━━━━━━━━━━━━━━\u001B[0m\u001B[37m\u001B[0m \u001B[1m1s\u001B[0m 955us/step - accuracy: 0.6262 - loss: 0.6953 - val_accuracy: 0.7767 - val_loss: 0.6889\n",
      "Epoch 20/30\n",
      "\u001B[1m1125/1125\u001B[0m \u001B[32m━━━━━━━━━━━━━━━━━━━━\u001B[0m\u001B[37m\u001B[0m \u001B[1m1s\u001B[0m 982us/step - accuracy: 0.6288 - loss: 0.6953 - val_accuracy: 0.7767 - val_loss: 0.6890\n",
      "Epoch 21/30\n",
      "\u001B[1m1125/1125\u001B[0m \u001B[32m━━━━━━━━━━━━━━━━━━━━\u001B[0m\u001B[37m\u001B[0m \u001B[1m1s\u001B[0m 960us/step - accuracy: 0.6235 - loss: 0.6953 - val_accuracy: 0.7767 - val_loss: 0.6890\n",
      "Epoch 22/30\n",
      "\u001B[1m1125/1125\u001B[0m \u001B[32m━━━━━━━━━━━━━━━━━━━━\u001B[0m\u001B[37m\u001B[0m \u001B[1m1s\u001B[0m 961us/step - accuracy: 0.6253 - loss: 0.6953 - val_accuracy: 0.7767 - val_loss: 0.6889\n",
      "Epoch 23/30\n",
      "\u001B[1m1125/1125\u001B[0m \u001B[32m━━━━━━━━━━━━━━━━━━━━\u001B[0m\u001B[37m\u001B[0m \u001B[1m1s\u001B[0m 951us/step - accuracy: 0.6262 - loss: 0.6953 - val_accuracy: 0.7767 - val_loss: 0.6889\n",
      "Epoch 24/30\n",
      "\u001B[1m1125/1125\u001B[0m \u001B[32m━━━━━━━━━━━━━━━━━━━━\u001B[0m\u001B[37m\u001B[0m \u001B[1m1s\u001B[0m 966us/step - accuracy: 0.6262 - loss: 0.6953 - val_accuracy: 0.7767 - val_loss: 0.6889\n",
      "Epoch 25/30\n",
      "\u001B[1m1125/1125\u001B[0m \u001B[32m━━━━━━━━━━━━━━━━━━━━\u001B[0m\u001B[37m\u001B[0m \u001B[1m1s\u001B[0m 950us/step - accuracy: 0.6262 - loss: 0.6953 - val_accuracy: 0.7767 - val_loss: 0.6889\n",
      "Epoch 26/30\n",
      "\u001B[1m1125/1125\u001B[0m \u001B[32m━━━━━━━━━━━━━━━━━━━━\u001B[0m\u001B[37m\u001B[0m \u001B[1m1s\u001B[0m 951us/step - accuracy: 0.6245 - loss: 0.6953 - val_accuracy: 0.7767 - val_loss: 0.6889\n",
      "Epoch 27/30\n",
      "\u001B[1m1125/1125\u001B[0m \u001B[32m━━━━━━━━━━━━━━━━━━━━\u001B[0m\u001B[37m\u001B[0m \u001B[1m1s\u001B[0m 995us/step - accuracy: 0.6262 - loss: 0.6953 - val_accuracy: 0.7767 - val_loss: 0.6889\n",
      "Epoch 28/30\n",
      "\u001B[1m1125/1125\u001B[0m \u001B[32m━━━━━━━━━━━━━━━━━━━━\u001B[0m\u001B[37m\u001B[0m \u001B[1m1s\u001B[0m 968us/step - accuracy: 0.6262 - loss: 0.6953 - val_accuracy: 0.7767 - val_loss: 0.6889\n",
      "Epoch 29/30\n",
      "\u001B[1m1125/1125\u001B[0m \u001B[32m━━━━━━━━━━━━━━━━━━━━\u001B[0m\u001B[37m\u001B[0m \u001B[1m1s\u001B[0m 940us/step - accuracy: 0.6262 - loss: 0.6953 - val_accuracy: 0.7767 - val_loss: 0.6889\n",
      "Epoch 30/30\n",
      "\u001B[1m1125/1125\u001B[0m \u001B[32m━━━━━━━━━━━━━━━━━━━━\u001B[0m\u001B[37m\u001B[0m \u001B[1m1s\u001B[0m 950us/step - accuracy: 0.6263 - loss: 0.6953 - val_accuracy: 0.7767 - val_loss: 0.6890\n"
     ]
    }
   ],
   "execution_count": 40
  },
  {
   "metadata": {},
   "cell_type": "markdown",
   "source": "## Model-6 Predict",
   "id": "a6a1057ab62eb059"
  },
  {
   "metadata": {
    "ExecuteTime": {
     "end_time": "2025-05-17T12:41:28.998284Z",
     "start_time": "2025-05-17T12:41:28.698708Z"
    }
   },
   "cell_type": "code",
   "source": [
    "y_pred_6 = model_6.predict(X_test_scaled)\n",
    "y_pred_6 = (y_pred_6 > 0.5).astype(int)\n",
    "y_pred_6"
   ],
   "id": "3d8140f9b35bc1b2",
   "outputs": [
    {
     "name": "stdout",
     "output_type": "stream",
     "text": [
      "\u001B[1m282/282\u001B[0m \u001B[32m━━━━━━━━━━━━━━━━━━━━\u001B[0m\u001B[37m\u001B[0m \u001B[1m0s\u001B[0m 541us/step\n"
     ]
    },
    {
     "data": {
      "text/plain": [
       "array([[0],\n",
       "       [0],\n",
       "       [0],\n",
       "       ...,\n",
       "       [0],\n",
       "       [0],\n",
       "       [0]])"
      ]
     },
     "execution_count": 41,
     "metadata": {},
     "output_type": "execute_result"
    }
   ],
   "execution_count": 41
  },
  {
   "metadata": {
    "ExecuteTime": {
     "end_time": "2025-05-17T12:41:31.573056Z",
     "start_time": "2025-05-17T12:41:31.450913Z"
    }
   },
   "cell_type": "code",
   "source": "pd.DataFrame(history_6.history).plot(figsize=(8,5))",
   "id": "e8e160541d394e6f",
   "outputs": [
    {
     "data": {
      "text/plain": [
       "<Axes: >"
      ]
     },
     "execution_count": 42,
     "metadata": {},
     "output_type": "execute_result"
    },
    {
     "data": {
      "text/plain": [
       "<Figure size 800x500 with 1 Axes>"
      ],
      "image/png": "[encoded data removed]"
     },
     "metadata": {},
     "output_type": "display_data"
    }
   ],
   "execution_count": 42
  },
  {
   "metadata": {
    "ExecuteTime": {
     "end_time": "2025-05-17T12:41:33.776247Z",
     "start_time": "2025-05-17T12:41:33.681992Z"
    }
   },
   "cell_type": "code",
   "source": "plot_confusion_matrix(y_test,y_pred_6)",
   "id": "8512258f2c55921",
   "outputs": [
    {
     "data": {
      "text/plain": [
       "<Figure size 500x400 with 2 Axes>"
      ],
      "image/png": "[encoded data removed]"
     },
     "metadata": {},
     "output_type": "display_data"
    }
   ],
   "execution_count": 43
  },
  {
   "metadata": {},
   "cell_type": "markdown",
   "source": "### 🧬 seventh Model - Model-7 - Classification",
   "id": "f315a959ba8b52a"
  },
  {
   "metadata": {
    "ExecuteTime": {
     "end_time": "2025-05-17T12:43:26.715504Z",
     "start_time": "2025-05-17T12:42:37.166149Z"
    }
   },
   "cell_type": "code",
   "source": [
    "tf.random.set_seed(42)\n",
    "\n",
    "model_7 = tf.keras.Sequential([\n",
    "    tf.keras.layers.Input(shape=(1,)),\n",
    "    tf.keras.layers.Flatten(),\n",
    "    \n",
    "    tf.keras.layers.Dense(128, activation='relu'),\n",
    "    tf.keras.layers.Dense(64, activation='relu'),\n",
    "    tf.keras.layers.Dense(16, activation='relu'),\n",
    "    tf.keras.layers.Dense(4, activation='relu'),\n",
    "    tf.keras.layers.Dense(1, activation='sigmoid')\n",
    "])\n",
    "\n",
    "\n",
    "model_7.compile(loss=tf.keras.losses.BinaryCrossentropy(),\n",
    "                optimizer=tf.keras.optimizers.Adam(),\n",
    "                metrics=['accuracy'])\n",
    "\n",
    "history_7 = model_7.fit(\n",
    "    X_train_scaled, y_train,\n",
    "    epochs=40,\n",
    "    validation_data=(X_test_scaled, y_test),\n",
    "    class_weight=class_weight_dict\n",
    ")"
   ],
   "id": "b815d4c72dce6ee3",
   "outputs": [
    {
     "name": "stdout",
     "output_type": "stream",
     "text": [
      "Epoch 1/40\n",
      "\u001B[1m1125/1125\u001B[0m \u001B[32m━━━━━━━━━━━━━━━━━━━━\u001B[0m\u001B[37m\u001B[0m \u001B[1m2s\u001B[0m 1ms/step - accuracy: 0.3805 - loss: 0.6955 - val_accuracy: 0.7767 - val_loss: 0.6869\n",
      "Epoch 2/40\n",
      "\u001B[1m1125/1125\u001B[0m \u001B[32m━━━━━━━━━━━━━━━━━━━━\u001B[0m\u001B[37m\u001B[0m \u001B[1m1s\u001B[0m 1ms/step - accuracy: 0.6528 - loss: 0.6953 - val_accuracy: 0.7767 - val_loss: 0.6888\n",
      "Epoch 3/40\n",
      "\u001B[1m1125/1125\u001B[0m \u001B[32m━━━━━━━━━━━━━━━━━━━━\u001B[0m\u001B[37m\u001B[0m \u001B[1m1s\u001B[0m 1ms/step - accuracy: 0.6299 - loss: 0.6953 - val_accuracy: 0.7767 - val_loss: 0.6889\n",
      "Epoch 4/40\n",
      "\u001B[1m1125/1125\u001B[0m \u001B[32m━━━━━━━━━━━━━━━━━━━━\u001B[0m\u001B[37m\u001B[0m \u001B[1m1s\u001B[0m 1ms/step - accuracy: 0.6262 - loss: 0.6953 - val_accuracy: 0.7767 - val_loss: 0.6889\n",
      "Epoch 5/40\n",
      "\u001B[1m1125/1125\u001B[0m \u001B[32m━━━━━━━━━━━━━━━━━━━━\u001B[0m\u001B[37m\u001B[0m \u001B[1m1s\u001B[0m 1ms/step - accuracy: 0.6262 - loss: 0.6953 - val_accuracy: 0.7767 - val_loss: 0.6889\n",
      "Epoch 6/40\n",
      "\u001B[1m1125/1125\u001B[0m \u001B[32m━━━━━━━━━━━━━━━━━━━━\u001B[0m\u001B[37m\u001B[0m \u001B[1m1s\u001B[0m 1ms/step - accuracy: 0.6262 - loss: 0.6953 - val_accuracy: 0.7767 - val_loss: 0.6889\n",
      "Epoch 7/40\n",
      "\u001B[1m1125/1125\u001B[0m \u001B[32m━━━━━━━━━━━━━━━━━━━━\u001B[0m\u001B[37m\u001B[0m \u001B[1m1s\u001B[0m 1ms/step - accuracy: 0.6262 - loss: 0.6953 - val_accuracy: 0.7767 - val_loss: 0.6889\n",
      "Epoch 8/40\n",
      "\u001B[1m1125/1125\u001B[0m \u001B[32m━━━━━━━━━━━━━━━━━━━━\u001B[0m\u001B[37m\u001B[0m \u001B[1m1s\u001B[0m 1ms/step - accuracy: 0.6262 - loss: 0.6953 - val_accuracy: 0.7767 - val_loss: 0.6889\n",
      "Epoch 9/40\n",
      "\u001B[1m1125/1125\u001B[0m \u001B[32m━━━━━━━━━━━━━━━━━━━━\u001B[0m\u001B[37m\u001B[0m \u001B[1m1s\u001B[0m 1ms/step - accuracy: 0.6262 - loss: 0.6953 - val_accuracy: 0.7767 - val_loss: 0.6889\n",
      "Epoch 10/40\n",
      "\u001B[1m1125/1125\u001B[0m \u001B[32m━━━━━━━━━━━━━━━━━━━━\u001B[0m\u001B[37m\u001B[0m \u001B[1m1s\u001B[0m 1ms/step - accuracy: 0.6262 - loss: 0.6953 - val_accuracy: 0.7767 - val_loss: 0.6889\n",
      "Epoch 11/40\n",
      "\u001B[1m1125/1125\u001B[0m \u001B[32m━━━━━━━━━━━━━━━━━━━━\u001B[0m\u001B[37m\u001B[0m \u001B[1m1s\u001B[0m 1ms/step - accuracy: 0.6262 - loss: 0.6953 - val_accuracy: 0.7767 - val_loss: 0.6889\n",
      "Epoch 12/40\n",
      "\u001B[1m1125/1125\u001B[0m \u001B[32m━━━━━━━━━━━━━━━━━━━━\u001B[0m\u001B[37m\u001B[0m \u001B[1m1s\u001B[0m 1ms/step - accuracy: 0.6262 - loss: 0.6953 - val_accuracy: 0.7767 - val_loss: 0.6889\n",
      "Epoch 13/40\n",
      "\u001B[1m1125/1125\u001B[0m \u001B[32m━━━━━━━━━━━━━━━━━━━━\u001B[0m\u001B[37m\u001B[0m \u001B[1m1s\u001B[0m 1ms/step - accuracy: 0.6262 - loss: 0.6953 - val_accuracy: 0.7767 - val_loss: 0.6889\n",
      "Epoch 14/40\n",
      "\u001B[1m1125/1125\u001B[0m \u001B[32m━━━━━━━━━━━━━━━━━━━━\u001B[0m\u001B[37m\u001B[0m \u001B[1m1s\u001B[0m 1ms/step - accuracy: 0.6262 - loss: 0.6953 - val_accuracy: 0.7767 - val_loss: 0.6889\n",
      "Epoch 15/40\n",
      "\u001B[1m1125/1125\u001B[0m \u001B[32m━━━━━━━━━━━━━━━━━━━━\u001B[0m\u001B[37m\u001B[0m \u001B[1m1s\u001B[0m 1ms/step - accuracy: 0.6262 - loss: 0.6953 - val_accuracy: 0.7767 - val_loss: 0.6889\n",
      "Epoch 16/40\n",
      "\u001B[1m1125/1125\u001B[0m \u001B[32m━━━━━━━━━━━━━━━━━━━━\u001B[0m\u001B[37m\u001B[0m \u001B[1m1s\u001B[0m 1ms/step - accuracy: 0.6262 - loss: 0.6953 - val_accuracy: 0.7767 - val_loss: 0.6889\n",
      "Epoch 17/40\n",
      "\u001B[1m1125/1125\u001B[0m \u001B[32m━━━━━━━━━━━━━━━━━━━━\u001B[0m\u001B[37m\u001B[0m \u001B[1m1s\u001B[0m 1ms/step - accuracy: 0.6262 - loss: 0.6953 - val_accuracy: 0.7767 - val_loss: 0.6889\n",
      "Epoch 18/40\n",
      "\u001B[1m1125/1125\u001B[0m \u001B[32m━━━━━━━━━━━━━━━━━━━━\u001B[0m\u001B[37m\u001B[0m \u001B[1m1s\u001B[0m 1ms/step - accuracy: 0.6262 - loss: 0.6953 - val_accuracy: 0.7767 - val_loss: 0.6889\n",
      "Epoch 19/40\n",
      "\u001B[1m1125/1125\u001B[0m \u001B[32m━━━━━━━━━━━━━━━━━━━━\u001B[0m\u001B[37m\u001B[0m \u001B[1m1s\u001B[0m 1ms/step - accuracy: 0.6262 - loss: 0.6953 - val_accuracy: 0.7767 - val_loss: 0.6889\n",
      "Epoch 20/40\n",
      "\u001B[1m1125/1125\u001B[0m \u001B[32m━━━━━━━━━━━━━━━━━━━━\u001B[0m\u001B[37m\u001B[0m \u001B[1m1s\u001B[0m 1ms/step - accuracy: 0.6262 - loss: 0.6953 - val_accuracy: 0.7767 - val_loss: 0.6889\n",
      "Epoch 21/40\n",
      "\u001B[1m1125/1125\u001B[0m \u001B[32m━━━━━━━━━━━━━━━━━━━━\u001B[0m\u001B[37m\u001B[0m \u001B[1m1s\u001B[0m 1ms/step - accuracy: 0.6262 - loss: 0.6953 - val_accuracy: 0.7767 - val_loss: 0.6889\n",
      "Epoch 22/40\n",
      "\u001B[1m1125/1125\u001B[0m \u001B[32m━━━━━━━━━━━━━━━━━━━━\u001B[0m\u001B[37m\u001B[0m \u001B[1m1s\u001B[0m 1ms/step - accuracy: 0.6262 - loss: 0.6953 - val_accuracy: 0.7767 - val_loss: 0.6889\n",
      "Epoch 23/40\n",
      "\u001B[1m1125/1125\u001B[0m \u001B[32m━━━━━━━━━━━━━━━━━━━━\u001B[0m\u001B[37m\u001B[0m \u001B[1m1s\u001B[0m 1ms/step - accuracy: 0.6262 - loss: 0.6953 - val_accuracy: 0.7767 - val_loss: 0.6889\n",
      "Epoch 24/40\n",
      "\u001B[1m1125/1125\u001B[0m \u001B[32m━━━━━━━━━━━━━━━━━━━━\u001B[0m\u001B[37m\u001B[0m \u001B[1m1s\u001B[0m 1ms/step - accuracy: 0.6262 - loss: 0.6953 - val_accuracy: 0.7767 - val_loss: 0.6889\n",
      "Epoch 25/40\n",
      "\u001B[1m1125/1125\u001B[0m \u001B[32m━━━━━━━━━━━━━━━━━━━━\u001B[0m\u001B[37m\u001B[0m \u001B[1m1s\u001B[0m 1ms/step - accuracy: 0.6262 - loss: 0.6953 - val_accuracy: 0.7767 - val_loss: 0.6889\n",
      "Epoch 26/40\n",
      "\u001B[1m1125/1125\u001B[0m \u001B[32m━━━━━━━━━━━━━━━━━━━━\u001B[0m\u001B[37m\u001B[0m \u001B[1m1s\u001B[0m 1ms/step - accuracy: 0.6262 - loss: 0.6953 - val_accuracy: 0.7767 - val_loss: 0.6889\n",
      "Epoch 27/40\n",
      "\u001B[1m1125/1125\u001B[0m \u001B[32m━━━━━━━━━━━━━━━━━━━━\u001B[0m\u001B[37m\u001B[0m \u001B[1m1s\u001B[0m 1ms/step - accuracy: 0.6262 - loss: 0.6953 - val_accuracy: 0.7767 - val_loss: 0.6889\n",
      "Epoch 28/40\n",
      "\u001B[1m1125/1125\u001B[0m \u001B[32m━━━━━━━━━━━━━━━━━━━━\u001B[0m\u001B[37m\u001B[0m \u001B[1m1s\u001B[0m 1ms/step - accuracy: 0.6262 - loss: 0.6953 - val_accuracy: 0.7767 - val_loss: 0.6889\n",
      "Epoch 29/40\n",
      "\u001B[1m1125/1125\u001B[0m \u001B[32m━━━━━━━━━━━━━━━━━━━━\u001B[0m\u001B[37m\u001B[0m \u001B[1m1s\u001B[0m 1ms/step - accuracy: 0.6262 - loss: 0.6953 - val_accuracy: 0.7767 - val_loss: 0.6889\n",
      "Epoch 30/40\n",
      "\u001B[1m1125/1125\u001B[0m \u001B[32m━━━━━━━━━━━━━━━━━━━━\u001B[0m\u001B[37m\u001B[0m \u001B[1m1s\u001B[0m 1ms/step - accuracy: 0.6262 - loss: 0.6953 - val_accuracy: 0.7767 - val_loss: 0.6889\n",
      "Epoch 31/40\n",
      "\u001B[1m1125/1125\u001B[0m \u001B[32m━━━━━━━━━━━━━━━━━━━━\u001B[0m\u001B[37m\u001B[0m \u001B[1m1s\u001B[0m 1ms/step - accuracy: 0.6262 - loss: 0.6953 - val_accuracy: 0.7767 - val_loss: 0.6889\n",
      "Epoch 32/40\n",
      "\u001B[1m1125/1125\u001B[0m \u001B[32m━━━━━━━━━━━━━━━━━━━━\u001B[0m\u001B[37m\u001B[0m \u001B[1m1s\u001B[0m 1ms/step - accuracy: 0.6262 - loss: 0.6953 - val_accuracy: 0.7767 - val_loss: 0.6889\n",
      "Epoch 33/40\n",
      "\u001B[1m1125/1125\u001B[0m \u001B[32m━━━━━━━━━━━━━━━━━━━━\u001B[0m\u001B[37m\u001B[0m \u001B[1m1s\u001B[0m 1ms/step - accuracy: 0.6262 - loss: 0.6953 - val_accuracy: 0.7767 - val_loss: 0.6889\n",
      "Epoch 34/40\n",
      "\u001B[1m1125/1125\u001B[0m \u001B[32m━━━━━━━━━━━━━━━━━━━━\u001B[0m\u001B[37m\u001B[0m \u001B[1m1s\u001B[0m 1ms/step - accuracy: 0.6262 - loss: 0.6953 - val_accuracy: 0.7767 - val_loss: 0.6889\n",
      "Epoch 35/40\n",
      "\u001B[1m1125/1125\u001B[0m \u001B[32m━━━━━━━━━━━━━━━━━━━━\u001B[0m\u001B[37m\u001B[0m \u001B[1m1s\u001B[0m 1ms/step - accuracy: 0.6262 - loss: 0.6953 - val_accuracy: 0.7767 - val_loss: 0.6889\n",
      "Epoch 36/40\n",
      "\u001B[1m1125/1125\u001B[0m \u001B[32m━━━━━━━━━━━━━━━━━━━━\u001B[0m\u001B[37m\u001B[0m \u001B[1m1s\u001B[0m 1ms/step - accuracy: 0.6262 - loss: 0.6953 - val_accuracy: 0.7767 - val_loss: 0.6889\n",
      "Epoch 37/40\n",
      "\u001B[1m1125/1125\u001B[0m \u001B[32m━━━━━━━━━━━━━━━━━━━━\u001B[0m\u001B[37m\u001B[0m \u001B[1m1s\u001B[0m 1ms/step - accuracy: 0.6262 - loss: 0.6953 - val_accuracy: 0.7767 - val_loss: 0.6889\n",
      "Epoch 38/40\n",
      "\u001B[1m1125/1125\u001B[0m \u001B[32m━━━━━━━━━━━━━━━━━━━━\u001B[0m\u001B[37m\u001B[0m \u001B[1m1s\u001B[0m 1ms/step - accuracy: 0.6262 - loss: 0.6953 - val_accuracy: 0.7767 - val_loss: 0.6889\n",
      "Epoch 39/40\n",
      "\u001B[1m1125/1125\u001B[0m \u001B[32m━━━━━━━━━━━━━━━━━━━━\u001B[0m\u001B[37m\u001B[0m \u001B[1m1s\u001B[0m 1ms/step - accuracy: 0.6262 - loss: 0.6953 - val_accuracy: 0.7767 - val_loss: 0.6889\n",
      "Epoch 40/40\n",
      "\u001B[1m1125/1125\u001B[0m \u001B[32m━━━━━━━━━━━━━━━━━━━━\u001B[0m\u001B[37m\u001B[0m \u001B[1m1s\u001B[0m 1ms/step - accuracy: 0.6262 - loss: 0.6953 - val_accuracy: 0.7767 - val_loss: 0.6889\n"
     ]
    }
   ],
   "execution_count": 44
  },
  {
   "metadata": {},
   "cell_type": "markdown",
   "source": "## Model-7 Predict",
   "id": "c71302033f8bf10d"
  },
  {
   "metadata": {
    "ExecuteTime": {
     "end_time": "2025-05-17T12:43:32.949291Z",
     "start_time": "2025-05-17T12:43:32.597937Z"
    }
   },
   "cell_type": "code",
   "source": [
    "y_pred_7 = model_7.predict(X_test_scaled)\n",
    "y_pred_7 = (y_pred_7 > 0.5).astype(int)\n",
    "y_pred_7"
   ],
   "id": "ef5b13e69dc86e82",
   "outputs": [
    {
     "name": "stdout",
     "output_type": "stream",
     "text": [
      "\u001B[1m282/282\u001B[0m \u001B[32m━━━━━━━━━━━━━━━━━━━━\u001B[0m\u001B[37m\u001B[0m \u001B[1m0s\u001B[0m 687us/step\n"
     ]
    },
    {
     "data": {
      "text/plain": [
       "array([[0],\n",
       "       [0],\n",
       "       [0],\n",
       "       ...,\n",
       "       [0],\n",
       "       [0],\n",
       "       [0]])"
      ]
     },
     "execution_count": 45,
     "metadata": {},
     "output_type": "execute_result"
    }
   ],
   "execution_count": 45
  },
  {
   "metadata": {
    "ExecuteTime": {
     "end_time": "2025-05-17T12:43:35.344037Z",
     "start_time": "2025-05-17T12:43:35.253712Z"
    }
   },
   "cell_type": "code",
   "source": "plot_confusion_matrix(y_test,y_pred_7)",
   "id": "188cedc0aadd4209",
   "outputs": [
    {
     "data": {
      "text/plain": [
       "<Figure size 500x400 with 2 Axes>"
      ],
      "image/png": "[encoded data removed]"
     },
     "metadata": {},
     "output_type": "display_data"
    }
   ],
   "execution_count": 46
  },
  {
   "metadata": {},
   "cell_type": "markdown",
   "source": "### 🧬 eighth Model - Model-8 - Classification",
   "id": "a34a7b64d8cd3b7b"
  },
  {
   "metadata": {
    "ExecuteTime": {
     "end_time": "2025-05-17T12:44:35.916021Z",
     "start_time": "2025-05-17T12:44:00.244236Z"
    }
   },
   "cell_type": "code",
   "source": [
    "tf.random.set_seed(42)\n",
    "\n",
    "model_8 = tf.keras.Sequential([\n",
    "    tf.keras.layers.Input(shape=(1,)),\n",
    "    tf.keras.layers.Flatten(),\n",
    "    tf.keras.layers.Dense(4, activation='relu'),\n",
    "    tf.keras.layers.Dense(4, activation='relu'),\n",
    "    tf.keras.layers.Dense(4, activation='relu'),\n",
    "    tf.keras.layers.Dense(1, activation='sigmoid')\n",
    "])\n",
    "\n",
    "\n",
    "model_8.compile(loss=tf.keras.losses.BinaryCrossentropy(),\n",
    "                optimizer=tf.keras.optimizers.Adam(learning_rate=0.0001),\n",
    "                metrics=['accuracy'])\n",
    "\n",
    "history_8 = model_8.fit(\n",
    "    X_train_scaled, y_train,\n",
    "    epochs=30,\n",
    "    validation_data=(X_test_scaled, y_test),\n",
    "    class_weight=class_weight_dict\n",
    ")"
   ],
   "id": "35f04f7f4c8a9d67",
   "outputs": [
    {
     "name": "stdout",
     "output_type": "stream",
     "text": [
      "Epoch 1/30\n",
      "\u001B[1m1125/1125\u001B[0m \u001B[32m━━━━━━━━━━━━━━━━━━━━\u001B[0m\u001B[37m\u001B[0m \u001B[1m2s\u001B[0m 1ms/step - accuracy: 0.7695 - loss: 0.6955 - val_accuracy: 0.7662 - val_loss: 0.6884\n",
      "Epoch 2/30\n",
      "\u001B[1m1125/1125\u001B[0m \u001B[32m━━━━━━━━━━━━━━━━━━━━\u001B[0m\u001B[37m\u001B[0m \u001B[1m1s\u001B[0m 986us/step - accuracy: 0.7059 - loss: 0.6953 - val_accuracy: 0.7313 - val_loss: 0.6903\n",
      "Epoch 3/30\n",
      "\u001B[1m1125/1125\u001B[0m \u001B[32m━━━━━━━━━━━━━━━━━━━━\u001B[0m\u001B[37m\u001B[0m \u001B[1m1s\u001B[0m 989us/step - accuracy: 0.6284 - loss: 0.6953 - val_accuracy: 0.7062 - val_loss: 0.6909\n",
      "Epoch 4/30\n",
      "\u001B[1m1125/1125\u001B[0m \u001B[32m━━━━━━━━━━━━━━━━━━━━\u001B[0m\u001B[37m\u001B[0m \u001B[1m1s\u001B[0m 991us/step - accuracy: 0.5900 - loss: 0.6953 - val_accuracy: 0.6940 - val_loss: 0.6910\n",
      "Epoch 5/30\n",
      "\u001B[1m1125/1125\u001B[0m \u001B[32m━━━━━━━━━━━━━━━━━━━━\u001B[0m\u001B[37m\u001B[0m \u001B[1m1s\u001B[0m 977us/step - accuracy: 0.5764 - loss: 0.6953 - val_accuracy: 0.6903 - val_loss: 0.6911\n",
      "Epoch 6/30\n",
      "\u001B[1m1125/1125\u001B[0m \u001B[32m━━━━━━━━━━━━━━━━━━━━\u001B[0m\u001B[37m\u001B[0m \u001B[1m1s\u001B[0m 986us/step - accuracy: 0.5715 - loss: 0.6953 - val_accuracy: 0.6892 - val_loss: 0.6911\n",
      "Epoch 7/30\n",
      "\u001B[1m1125/1125\u001B[0m \u001B[32m━━━━━━━━━━━━━━━━━━━━\u001B[0m\u001B[37m\u001B[0m \u001B[1m1s\u001B[0m 987us/step - accuracy: 0.5697 - loss: 0.6953 - val_accuracy: 0.6874 - val_loss: 0.6911\n",
      "Epoch 8/30\n",
      "\u001B[1m1125/1125\u001B[0m \u001B[32m━━━━━━━━━━━━━━━━━━━━\u001B[0m\u001B[37m\u001B[0m \u001B[1m1s\u001B[0m 994us/step - accuracy: 0.5684 - loss: 0.6953 - val_accuracy: 0.6864 - val_loss: 0.6911\n",
      "Epoch 9/30\n",
      "\u001B[1m1125/1125\u001B[0m \u001B[32m━━━━━━━━━━━━━━━━━━━━\u001B[0m\u001B[37m\u001B[0m \u001B[1m1s\u001B[0m 1ms/step - accuracy: 0.5684 - loss: 0.6953 - val_accuracy: 0.6864 - val_loss: 0.6911\n",
      "Epoch 10/30\n",
      "\u001B[1m1125/1125\u001B[0m \u001B[32m━━━━━━━━━━━━━━━━━━━━\u001B[0m\u001B[37m\u001B[0m \u001B[1m1s\u001B[0m 992us/step - accuracy: 0.5679 - loss: 0.6953 - val_accuracy: 0.6837 - val_loss: 0.6911\n",
      "Epoch 11/30\n",
      "\u001B[1m1125/1125\u001B[0m \u001B[32m━━━━━━━━━━━━━━━━━━━━\u001B[0m\u001B[37m\u001B[0m \u001B[1m1s\u001B[0m 1ms/step - accuracy: 0.5678 - loss: 0.6953 - val_accuracy: 0.6837 - val_loss: 0.6911\n",
      "Epoch 12/30\n",
      "\u001B[1m1125/1125\u001B[0m \u001B[32m━━━━━━━━━━━━━━━━━━━━\u001B[0m\u001B[37m\u001B[0m \u001B[1m1s\u001B[0m 1ms/step - accuracy: 0.5683 - loss: 0.6953 - val_accuracy: 0.6837 - val_loss: 0.6911\n",
      "Epoch 13/30\n",
      "\u001B[1m1125/1125\u001B[0m \u001B[32m━━━━━━━━━━━━━━━━━━━━\u001B[0m\u001B[37m\u001B[0m \u001B[1m1s\u001B[0m 1ms/step - accuracy: 0.5683 - loss: 0.6953 - val_accuracy: 0.6837 - val_loss: 0.6911\n",
      "Epoch 14/30\n",
      "\u001B[1m1125/1125\u001B[0m \u001B[32m━━━━━━━━━━━━━━━━━━━━\u001B[0m\u001B[37m\u001B[0m \u001B[1m1s\u001B[0m 992us/step - accuracy: 0.5693 - loss: 0.6953 - val_accuracy: 0.6808 - val_loss: 0.6911\n",
      "Epoch 15/30\n",
      "\u001B[1m1125/1125\u001B[0m \u001B[32m━━━━━━━━━━━━━━━━━━━━\u001B[0m\u001B[37m\u001B[0m \u001B[1m1s\u001B[0m 1ms/step - accuracy: 0.5692 - loss: 0.6953 - val_accuracy: 0.6808 - val_loss: 0.6911\n",
      "Epoch 16/30\n",
      "\u001B[1m1125/1125\u001B[0m \u001B[32m━━━━━━━━━━━━━━━━━━━━\u001B[0m\u001B[37m\u001B[0m \u001B[1m1s\u001B[0m 1ms/step - accuracy: 0.5684 - loss: 0.6953 - val_accuracy: 0.6808 - val_loss: 0.6911\n",
      "Epoch 17/30\n",
      "\u001B[1m1125/1125\u001B[0m \u001B[32m━━━━━━━━━━━━━━━━━━━━\u001B[0m\u001B[37m\u001B[0m \u001B[1m1s\u001B[0m 1ms/step - accuracy: 0.5683 - loss: 0.6953 - val_accuracy: 0.6797 - val_loss: 0.6911\n",
      "Epoch 18/30\n",
      "\u001B[1m1125/1125\u001B[0m \u001B[32m━━━━━━━━━━━━━━━━━━━━\u001B[0m\u001B[37m\u001B[0m \u001B[1m1s\u001B[0m 1ms/step - accuracy: 0.5682 - loss: 0.6953 - val_accuracy: 0.6797 - val_loss: 0.6910\n",
      "Epoch 19/30\n",
      "\u001B[1m1125/1125\u001B[0m \u001B[32m━━━━━━━━━━━━━━━━━━━━\u001B[0m\u001B[37m\u001B[0m \u001B[1m1s\u001B[0m 1ms/step - accuracy: 0.5690 - loss: 0.6953 - val_accuracy: 0.6797 - val_loss: 0.6910\n",
      "Epoch 20/30\n",
      "\u001B[1m1125/1125\u001B[0m \u001B[32m━━━━━━━━━━━━━━━━━━━━\u001B[0m\u001B[37m\u001B[0m \u001B[1m1s\u001B[0m 1ms/step - accuracy: 0.5689 - loss: 0.6953 - val_accuracy: 0.6791 - val_loss: 0.6910\n",
      "Epoch 21/30\n",
      "\u001B[1m1125/1125\u001B[0m \u001B[32m━━━━━━━━━━━━━━━━━━━━\u001B[0m\u001B[37m\u001B[0m \u001B[1m1s\u001B[0m 1ms/step - accuracy: 0.5679 - loss: 0.6953 - val_accuracy: 0.6791 - val_loss: 0.6910\n",
      "Epoch 22/30\n",
      "\u001B[1m1125/1125\u001B[0m \u001B[32m━━━━━━━━━━━━━━━━━━━━\u001B[0m\u001B[37m\u001B[0m \u001B[1m1s\u001B[0m 999us/step - accuracy: 0.5680 - loss: 0.6953 - val_accuracy: 0.6791 - val_loss: 0.6910\n",
      "Epoch 23/30\n",
      "\u001B[1m1125/1125\u001B[0m \u001B[32m━━━━━━━━━━━━━━━━━━━━\u001B[0m\u001B[37m\u001B[0m \u001B[1m1s\u001B[0m 1ms/step - accuracy: 0.5679 - loss: 0.6953 - val_accuracy: 0.6791 - val_loss: 0.6910\n",
      "Epoch 24/30\n",
      "\u001B[1m1125/1125\u001B[0m \u001B[32m━━━━━━━━━━━━━━━━━━━━\u001B[0m\u001B[37m\u001B[0m \u001B[1m1s\u001B[0m 1ms/step - accuracy: 0.5676 - loss: 0.6953 - val_accuracy: 0.6762 - val_loss: 0.6910\n",
      "Epoch 25/30\n",
      "\u001B[1m1125/1125\u001B[0m \u001B[32m━━━━━━━━━━━━━━━━━━━━\u001B[0m\u001B[37m\u001B[0m \u001B[1m1s\u001B[0m 1ms/step - accuracy: 0.5671 - loss: 0.6953 - val_accuracy: 0.6762 - val_loss: 0.6910\n",
      "Epoch 26/30\n",
      "\u001B[1m1125/1125\u001B[0m \u001B[32m━━━━━━━━━━━━━━━━━━━━\u001B[0m\u001B[37m\u001B[0m \u001B[1m1s\u001B[0m 1ms/step - accuracy: 0.5673 - loss: 0.6953 - val_accuracy: 0.6762 - val_loss: 0.6910\n",
      "Epoch 27/30\n",
      "\u001B[1m1125/1125\u001B[0m \u001B[32m━━━━━━━━━━━━━━━━━━━━\u001B[0m\u001B[37m\u001B[0m \u001B[1m1s\u001B[0m 1ms/step - accuracy: 0.5671 - loss: 0.6953 - val_accuracy: 0.6732 - val_loss: 0.6910\n",
      "Epoch 28/30\n",
      "\u001B[1m1125/1125\u001B[0m \u001B[32m━━━━━━━━━━━━━━━━━━━━\u001B[0m\u001B[37m\u001B[0m \u001B[1m1s\u001B[0m 1ms/step - accuracy: 0.5668 - loss: 0.6953 - val_accuracy: 0.6732 - val_loss: 0.6910\n",
      "Epoch 29/30\n",
      "\u001B[1m1125/1125\u001B[0m \u001B[32m━━━━━━━━━━━━━━━━━━━━\u001B[0m\u001B[37m\u001B[0m \u001B[1m1s\u001B[0m 1000us/step - accuracy: 0.5663 - loss: 0.6953 - val_accuracy: 0.6732 - val_loss: 0.6910\n",
      "Epoch 30/30\n",
      "\u001B[1m1125/1125\u001B[0m \u001B[32m━━━━━━━━━━━━━━━━━━━━\u001B[0m\u001B[37m\u001B[0m \u001B[1m1s\u001B[0m 997us/step - accuracy: 0.5670 - loss: 0.6953 - val_accuracy: 0.6732 - val_loss: 0.6910\n"
     ]
    }
   ],
   "execution_count": 47
  },
  {
   "metadata": {},
   "cell_type": "markdown",
   "source": "## Model-8 Predict",
   "id": "da6c9e7807694ddb"
  },
  {
   "metadata": {
    "ExecuteTime": {
     "end_time": "2025-05-17T12:44:38.825756Z",
     "start_time": "2025-05-17T12:44:38.507912Z"
    }
   },
   "cell_type": "code",
   "source": [
    "y_preds_8 = model_8.predict(X_test_scaled)\n",
    "y_preds_8 = (y_preds_8 > 0.5).astype(int)\n",
    "y_preds_8"
   ],
   "id": "bd0d3c9fd875a2e9",
   "outputs": [
    {
     "name": "stdout",
     "output_type": "stream",
     "text": [
      "\u001B[1m282/282\u001B[0m \u001B[32m━━━━━━━━━━━━━━━━━━━━\u001B[0m\u001B[37m\u001B[0m \u001B[1m0s\u001B[0m 580us/step\n"
     ]
    },
    {
     "data": {
      "text/plain": [
       "array([[0],\n",
       "       [0],\n",
       "       [0],\n",
       "       ...,\n",
       "       [0],\n",
       "       [0],\n",
       "       [0]])"
      ]
     },
     "execution_count": 48,
     "metadata": {},
     "output_type": "execute_result"
    }
   ],
   "execution_count": 48
  },
  {
   "metadata": {
    "ExecuteTime": {
     "end_time": "2025-05-17T12:44:41.192099Z",
     "start_time": "2025-05-17T12:44:41.074971Z"
    }
   },
   "cell_type": "code",
   "source": "pd.DataFrame(history_8.history).plot(figsize=(8,5))",
   "id": "2e49b496c9076f1b",
   "outputs": [
    {
     "data": {
      "text/plain": [
       "<Axes: >"
      ]
     },
     "execution_count": 49,
     "metadata": {},
     "output_type": "execute_result"
    },
    {
     "data": {
      "text/plain": [
       "<Figure size 800x500 with 1 Axes>"
      ],
      "image/png": "[encoded data removed]"
     },
     "metadata": {},
     "output_type": "display_data"
    }
   ],
   "execution_count": 49
  },
  {
   "metadata": {
    "ExecuteTime": {
     "end_time": "2025-05-17T12:44:43.014486Z",
     "start_time": "2025-05-17T12:44:42.924199Z"
    }
   },
   "cell_type": "code",
   "source": "plot_confusion_matrix(y_test,y_preds_8)",
   "id": "d41f0e4fa7238fd4",
   "outputs": [
    {
     "data": {
      "text/plain": [
       "<Figure size 500x400 with 2 Axes>"
      ],
      "image/png": "[encoded data removed]"
     },
     "metadata": {},
     "output_type": "display_data"
    }
   ],
   "execution_count": 50
  },
  {
   "metadata": {},
   "cell_type": "markdown",
   "source": "### 🧬 ninth Model - Model-9 - Classification",
   "id": "bda2c589f4a106b7"
  },
  {
   "metadata": {
    "ExecuteTime": {
     "end_time": "2025-05-17T12:45:50.223932Z",
     "start_time": "2025-05-17T12:45:19.441371Z"
    }
   },
   "cell_type": "code",
   "source": [
    "tf.random.set_seed(42)\n",
    "\n",
    "model_9 = tf.keras.Sequential([\n",
    "    tf.keras.layers.Input(shape=(1,)),\n",
    "    tf.keras.layers.Flatten(),\n",
    "    #tf.keras.layers.Dense(256, activation='relu'),\n",
    "    tf.keras.layers.Dense(128, activation='relu'),\n",
    "    tf.keras.layers.Dense(64, activation='relu'),\n",
    "    tf.keras.layers.Dense(16, activation='relu'),\n",
    "    tf.keras.layers.Dense(4, activation='relu'),\n",
    "    tf.keras.layers.Dense(1, activation='sigmoid')\n",
    "])\n",
    "\n",
    "\n",
    "model_9.compile(loss=tf.keras.losses.BinaryCrossentropy(),\n",
    "                optimizer=tf.keras.optimizers.Adam(learning_rate=0.001),\n",
    "                metrics=['accuracy'])\n",
    "\n",
    "history_9 = model_9.fit(\n",
    "    X_train_scaled, y_train,\n",
    "    epochs=25,\n",
    "    validation_data=(X_test_scaled, y_test),\n",
    ")"
   ],
   "id": "c1dd6ca98a2e654e",
   "outputs": [
    {
     "name": "stdout",
     "output_type": "stream",
     "text": [
      "Epoch 1/25\n",
      "\u001B[1m1125/1125\u001B[0m \u001B[32m━━━━━━━━━━━━━━━━━━━━\u001B[0m\u001B[37m\u001B[0m \u001B[1m2s\u001B[0m 1ms/step - accuracy: 0.7762 - loss: 0.5432 - val_accuracy: 0.7767 - val_loss: 0.5315\n",
      "Epoch 2/25\n",
      "\u001B[1m1125/1125\u001B[0m \u001B[32m━━━━━━━━━━━━━━━━━━━━\u001B[0m\u001B[37m\u001B[0m \u001B[1m1s\u001B[0m 1ms/step - accuracy: 0.7762 - loss: 0.5332 - val_accuracy: 0.7767 - val_loss: 0.5313\n",
      "Epoch 3/25\n",
      "\u001B[1m1125/1125\u001B[0m \u001B[32m━━━━━━━━━━━━━━━━━━━━\u001B[0m\u001B[37m\u001B[0m \u001B[1m1s\u001B[0m 1ms/step - accuracy: 0.7762 - loss: 0.5328 - val_accuracy: 0.7767 - val_loss: 0.5312\n",
      "Epoch 4/25\n",
      "\u001B[1m1125/1125\u001B[0m \u001B[32m━━━━━━━━━━━━━━━━━━━━\u001B[0m\u001B[37m\u001B[0m \u001B[1m1s\u001B[0m 1ms/step - accuracy: 0.7762 - loss: 0.5326 - val_accuracy: 0.7767 - val_loss: 0.5311\n",
      "Epoch 5/25\n",
      "\u001B[1m1125/1125\u001B[0m \u001B[32m━━━━━━━━━━━━━━━━━━━━\u001B[0m\u001B[37m\u001B[0m \u001B[1m1s\u001B[0m 1ms/step - accuracy: 0.7762 - loss: 0.5324 - val_accuracy: 0.7767 - val_loss: 0.5310\n",
      "Epoch 6/25\n",
      "\u001B[1m1125/1125\u001B[0m \u001B[32m━━━━━━━━━━━━━━━━━━━━\u001B[0m\u001B[37m\u001B[0m \u001B[1m1s\u001B[0m 1ms/step - accuracy: 0.7762 - loss: 0.5323 - val_accuracy: 0.7767 - val_loss: 0.5310\n",
      "Epoch 7/25\n",
      "\u001B[1m1125/1125\u001B[0m \u001B[32m━━━━━━━━━━━━━━━━━━━━\u001B[0m\u001B[37m\u001B[0m \u001B[1m1s\u001B[0m 1ms/step - accuracy: 0.7762 - loss: 0.5323 - val_accuracy: 0.7767 - val_loss: 0.5310\n",
      "Epoch 8/25\n",
      "\u001B[1m1125/1125\u001B[0m \u001B[32m━━━━━━━━━━━━━━━━━━━━\u001B[0m\u001B[37m\u001B[0m \u001B[1m1s\u001B[0m 1ms/step - accuracy: 0.7762 - loss: 0.5322 - val_accuracy: 0.7767 - val_loss: 0.5310\n",
      "Epoch 9/25\n",
      "\u001B[1m1125/1125\u001B[0m \u001B[32m━━━━━━━━━━━━━━━━━━━━\u001B[0m\u001B[37m\u001B[0m \u001B[1m1s\u001B[0m 1ms/step - accuracy: 0.7762 - loss: 0.5322 - val_accuracy: 0.7767 - val_loss: 0.5310\n",
      "Epoch 10/25\n",
      "\u001B[1m1125/1125\u001B[0m \u001B[32m━━━━━━━━━━━━━━━━━━━━\u001B[0m\u001B[37m\u001B[0m \u001B[1m1s\u001B[0m 1ms/step - accuracy: 0.7762 - loss: 0.5321 - val_accuracy: 0.7767 - val_loss: 0.5311\n",
      "Epoch 11/25\n",
      "\u001B[1m1125/1125\u001B[0m \u001B[32m━━━━━━━━━━━━━━━━━━━━\u001B[0m\u001B[37m\u001B[0m \u001B[1m1s\u001B[0m 1ms/step - accuracy: 0.7762 - loss: 0.5321 - val_accuracy: 0.7767 - val_loss: 0.5311\n",
      "Epoch 12/25\n",
      "\u001B[1m1125/1125\u001B[0m \u001B[32m━━━━━━━━━━━━━━━━━━━━\u001B[0m\u001B[37m\u001B[0m \u001B[1m1s\u001B[0m 1ms/step - accuracy: 0.7762 - loss: 0.5321 - val_accuracy: 0.7767 - val_loss: 0.5311\n",
      "Epoch 13/25\n",
      "\u001B[1m1125/1125\u001B[0m \u001B[32m━━━━━━━━━━━━━━━━━━━━\u001B[0m\u001B[37m\u001B[0m \u001B[1m1s\u001B[0m 1ms/step - accuracy: 0.7762 - loss: 0.5320 - val_accuracy: 0.7767 - val_loss: 0.5311\n",
      "Epoch 14/25\n",
      "\u001B[1m1125/1125\u001B[0m \u001B[32m━━━━━━━━━━━━━━━━━━━━\u001B[0m\u001B[37m\u001B[0m \u001B[1m1s\u001B[0m 1ms/step - accuracy: 0.7762 - loss: 0.5320 - val_accuracy: 0.7767 - val_loss: 0.5311\n",
      "Epoch 15/25\n",
      "\u001B[1m1125/1125\u001B[0m \u001B[32m━━━━━━━━━━━━━━━━━━━━\u001B[0m\u001B[37m\u001B[0m \u001B[1m1s\u001B[0m 1ms/step - accuracy: 0.7762 - loss: 0.5320 - val_accuracy: 0.7767 - val_loss: 0.5311\n",
      "Epoch 16/25\n",
      "\u001B[1m1125/1125\u001B[0m \u001B[32m━━━━━━━━━━━━━━━━━━━━\u001B[0m\u001B[37m\u001B[0m \u001B[1m1s\u001B[0m 1ms/step - accuracy: 0.7762 - loss: 0.5320 - val_accuracy: 0.7767 - val_loss: 0.5311\n",
      "Epoch 17/25\n",
      "\u001B[1m1125/1125\u001B[0m \u001B[32m━━━━━━━━━━━━━━━━━━━━\u001B[0m\u001B[37m\u001B[0m \u001B[1m1s\u001B[0m 1ms/step - accuracy: 0.7762 - loss: 0.5320 - val_accuracy: 0.7767 - val_loss: 0.5312\n",
      "Epoch 18/25\n",
      "\u001B[1m1125/1125\u001B[0m \u001B[32m━━━━━━━━━━━━━━━━━━━━\u001B[0m\u001B[37m\u001B[0m \u001B[1m1s\u001B[0m 1ms/step - accuracy: 0.7762 - loss: 0.5320 - val_accuracy: 0.7767 - val_loss: 0.5312\n",
      "Epoch 19/25\n",
      "\u001B[1m1125/1125\u001B[0m \u001B[32m━━━━━━━━━━━━━━━━━━━━\u001B[0m\u001B[37m\u001B[0m \u001B[1m1s\u001B[0m 1ms/step - accuracy: 0.7762 - loss: 0.5320 - val_accuracy: 0.7767 - val_loss: 0.5312\n",
      "Epoch 20/25\n",
      "\u001B[1m1125/1125\u001B[0m \u001B[32m━━━━━━━━━━━━━━━━━━━━\u001B[0m\u001B[37m\u001B[0m \u001B[1m1s\u001B[0m 1ms/step - accuracy: 0.7762 - loss: 0.5320 - val_accuracy: 0.7767 - val_loss: 0.5312\n",
      "Epoch 21/25\n",
      "\u001B[1m1125/1125\u001B[0m \u001B[32m━━━━━━━━━━━━━━━━━━━━\u001B[0m\u001B[37m\u001B[0m \u001B[1m1s\u001B[0m 1ms/step - accuracy: 0.7762 - loss: 0.5320 - val_accuracy: 0.7767 - val_loss: 0.5312\n",
      "Epoch 22/25\n",
      "\u001B[1m1125/1125\u001B[0m \u001B[32m━━━━━━━━━━━━━━━━━━━━\u001B[0m\u001B[37m\u001B[0m \u001B[1m1s\u001B[0m 1ms/step - accuracy: 0.7762 - loss: 0.5319 - val_accuracy: 0.7767 - val_loss: 0.5312\n",
      "Epoch 23/25\n",
      "\u001B[1m1125/1125\u001B[0m \u001B[32m━━━━━━━━━━━━━━━━━━━━\u001B[0m\u001B[37m\u001B[0m \u001B[1m1s\u001B[0m 1ms/step - accuracy: 0.7762 - loss: 0.5319 - val_accuracy: 0.7767 - val_loss: 0.5312\n",
      "Epoch 24/25\n",
      "\u001B[1m1125/1125\u001B[0m \u001B[32m━━━━━━━━━━━━━━━━━━━━\u001B[0m\u001B[37m\u001B[0m \u001B[1m1s\u001B[0m 1ms/step - accuracy: 0.7762 - loss: 0.5319 - val_accuracy: 0.7767 - val_loss: 0.5312\n",
      "Epoch 25/25\n",
      "\u001B[1m1125/1125\u001B[0m \u001B[32m━━━━━━━━━━━━━━━━━━━━\u001B[0m\u001B[37m\u001B[0m \u001B[1m1s\u001B[0m 1ms/step - accuracy: 0.7762 - loss: 0.5319 - val_accuracy: 0.7767 - val_loss: 0.5312\n"
     ]
    }
   ],
   "execution_count": 51
  },
  {
   "metadata": {},
   "cell_type": "markdown",
   "source": "## Model-9 Predict",
   "id": "3e82f1ecb2b91b00"
  },
  {
   "metadata": {
    "ExecuteTime": {
     "end_time": "2025-05-17T12:45:51.577691Z",
     "start_time": "2025-05-17T12:45:51.220990Z"
    }
   },
   "cell_type": "code",
   "source": [
    "y_preds_9 = model_9.predict(X_test_scaled)\n",
    "y_preds_9 = (y_preds_9 > 0.5).astype(int)\n",
    "y_preds_9"
   ],
   "id": "42e57afb5ce4d8e2",
   "outputs": [
    {
     "name": "stdout",
     "output_type": "stream",
     "text": [
      "\u001B[1m282/282\u001B[0m \u001B[32m━━━━━━━━━━━━━━━━━━━━\u001B[0m\u001B[37m\u001B[0m \u001B[1m0s\u001B[0m 662us/step\n"
     ]
    },
    {
     "data": {
      "text/plain": [
       "array([[0],\n",
       "       [0],\n",
       "       [0],\n",
       "       ...,\n",
       "       [0],\n",
       "       [0],\n",
       "       [0]])"
      ]
     },
     "execution_count": 52,
     "metadata": {},
     "output_type": "execute_result"
    }
   ],
   "execution_count": 52
  },
  {
   "metadata": {
    "ExecuteTime": {
     "end_time": "2025-05-17T12:45:53.807062Z",
     "start_time": "2025-05-17T12:45:53.714982Z"
    }
   },
   "cell_type": "code",
   "source": "plot_confusion_matrix(y_test,y_preds_9)",
   "id": "81078f4500789d48",
   "outputs": [
    {
     "data": {
      "text/plain": [
       "<Figure size 500x400 with 2 Axes>"
      ],
      "image/png": "[encoded data removed]"
     },
     "metadata": {},
     "output_type": "display_data"
    }
   ],
   "execution_count": 53
  },
  {
   "metadata": {},
   "cell_type": "markdown",
   "source": "### ⚡ We are adding new features to address the imbalance in the dataset and to better teach the model the values of '1'",
   "id": "d86124edfe1bfab3"
  },
  {
   "metadata": {
    "ExecuteTime": {
     "end_time": "2025-05-17T12:47:07.628607Z",
     "start_time": "2025-05-17T12:47:07.617768Z"
    }
   },
   "cell_type": "code",
   "source": "data.head()",
   "id": "8f361ffe3d61bc1b",
   "outputs": [
    {
     "data": {
      "text/plain": [
       "   person_age person_gender person_education  person_income  person_emp_exp  \\\n",
       "0        22.0        female           Master        71948.0               0   \n",
       "1        21.0        female      High School        12282.0               0   \n",
       "2        25.0        female      High School        12438.0               3   \n",
       "3        23.0        female         Bachelor        79753.0               0   \n",
       "4        24.0          male           Master        66135.0               1   \n",
       "\n",
       "  person_home_ownership  loan_amnt loan_intent  loan_int_rate  \\\n",
       "0                  RENT    35000.0    PERSONAL          16.02   \n",
       "1                   OWN     1000.0   EDUCATION          11.14   \n",
       "2              MORTGAGE     5500.0     MEDICAL          12.87   \n",
       "3                  RENT    35000.0     MEDICAL          15.23   \n",
       "4                  RENT    35000.0     MEDICAL          14.27   \n",
       "\n",
       "   loan_percent_income  cb_person_cred_hist_length  credit_score  \\\n",
       "0                 0.49                         3.0           561   \n",
       "1                 0.08                         2.0           504   \n",
       "2                 0.44                         3.0           635   \n",
       "3                 0.44                         2.0           675   \n",
       "4                 0.53                         4.0           586   \n",
       "\n",
       "  previous_loan_defaults_on_file  loan_status  \n",
       "0                             No            1  \n",
       "1                            Yes            0  \n",
       "2                             No            1  \n",
       "3                             No            1  \n",
       "4                             No            1  "
      ],
      "text/html": [
       "<div>\n",
       "<style scoped>\n",
       "    .dataframe tbody tr th:only-of-type {\n",
       "        vertical-align: middle;\n",
       "    }\n",
       "\n",
       "    .dataframe tbody tr th {\n",
       "        vertical-align: top;\n",
       "    }\n",
       "\n",
       "    .dataframe thead th {\n",
       "        text-align: right;\n",
       "    }\n",
       "</style>\n",
       "<table border=\"1\" class=\"dataframe\">\n",
       "  <thead>\n",
       "    <tr style=\"text-align: right;\">\n",
       "      <th></th>\n",
       "      <th>person_age</th>\n",
       "      <th>person_gender</th>\n",
       "      <th>person_education</th>\n",
       "      <th>person_income</th>\n",
       "      <th>person_emp_exp</th>\n",
       "      <th>person_home_ownership</th>\n",
       "      <th>loan_amnt</th>\n",
       "      <th>loan_intent</th>\n",
       "      <th>loan_int_rate</th>\n",
       "      <th>loan_percent_income</th>\n",
       "      <th>cb_person_cred_hist_length</th>\n",
       "      <th>credit_score</th>\n",
       "      <th>previous_loan_defaults_on_file</th>\n",
       "      <th>loan_status</th>\n",
       "    </tr>\n",
       "  </thead>\n",
       "  <tbody>\n",
       "    <tr>\n",
       "      <th>0</th>\n",
       "      <td>22.0</td>\n",
       "      <td>female</td>\n",
       "      <td>Master</td>\n",
       "      <td>71948.0</td>\n",
       "      <td>0</td>\n",
       "      <td>RENT</td>\n",
       "      <td>35000.0</td>\n",
       "      <td>PERSONAL</td>\n",
       "      <td>16.02</td>\n",
       "      <td>0.49</td>\n",
       "      <td>3.0</td>\n",
       "      <td>561</td>\n",
       "      <td>No</td>\n",
       "      <td>1</td>\n",
       "    </tr>\n",
       "    <tr>\n",
       "      <th>1</th>\n",
       "      <td>21.0</td>\n",
       "      <td>female</td>\n",
       "      <td>High School</td>\n",
       "      <td>12282.0</td>\n",
       "      <td>0</td>\n",
       "      <td>OWN</td>\n",
       "      <td>1000.0</td>\n",
       "      <td>EDUCATION</td>\n",
       "      <td>11.14</td>\n",
       "      <td>0.08</td>\n",
       "      <td>2.0</td>\n",
       "      <td>504</td>\n",
       "      <td>Yes</td>\n",
       "      <td>0</td>\n",
       "    </tr>\n",
       "    <tr>\n",
       "      <th>2</th>\n",
       "      <td>25.0</td>\n",
       "      <td>female</td>\n",
       "      <td>High School</td>\n",
       "      <td>12438.0</td>\n",
       "      <td>3</td>\n",
       "      <td>MORTGAGE</td>\n",
       "      <td>5500.0</td>\n",
       "      <td>MEDICAL</td>\n",
       "      <td>12.87</td>\n",
       "      <td>0.44</td>\n",
       "      <td>3.0</td>\n",
       "      <td>635</td>\n",
       "      <td>No</td>\n",
       "      <td>1</td>\n",
       "    </tr>\n",
       "    <tr>\n",
       "      <th>3</th>\n",
       "      <td>23.0</td>\n",
       "      <td>female</td>\n",
       "      <td>Bachelor</td>\n",
       "      <td>79753.0</td>\n",
       "      <td>0</td>\n",
       "      <td>RENT</td>\n",
       "      <td>35000.0</td>\n",
       "      <td>MEDICAL</td>\n",
       "      <td>15.23</td>\n",
       "      <td>0.44</td>\n",
       "      <td>2.0</td>\n",
       "      <td>675</td>\n",
       "      <td>No</td>\n",
       "      <td>1</td>\n",
       "    </tr>\n",
       "    <tr>\n",
       "      <th>4</th>\n",
       "      <td>24.0</td>\n",
       "      <td>male</td>\n",
       "      <td>Master</td>\n",
       "      <td>66135.0</td>\n",
       "      <td>1</td>\n",
       "      <td>RENT</td>\n",
       "      <td>35000.0</td>\n",
       "      <td>MEDICAL</td>\n",
       "      <td>14.27</td>\n",
       "      <td>0.53</td>\n",
       "      <td>4.0</td>\n",
       "      <td>586</td>\n",
       "      <td>No</td>\n",
       "      <td>1</td>\n",
       "    </tr>\n",
       "  </tbody>\n",
       "</table>\n",
       "</div>"
      ]
     },
     "execution_count": 54,
     "metadata": {},
     "output_type": "execute_result"
    }
   ],
   "execution_count": 54
  },
  {
   "metadata": {
    "ExecuteTime": {
     "end_time": "2025-05-17T12:47:10.325098Z",
     "start_time": "2025-05-17T12:47:10.288135Z"
    }
   },
   "cell_type": "code",
   "source": [
    "data_one_hot = pd.get_dummies(data,dtype=int)\n",
    "data_one_hot.head()"
   ],
   "id": "abd986e178ff0a2",
   "outputs": [
    {
     "data": {
      "text/plain": [
       "   person_age  person_income  person_emp_exp  loan_amnt  loan_int_rate  \\\n",
       "0        22.0        71948.0               0    35000.0          16.02   \n",
       "1        21.0        12282.0               0     1000.0          11.14   \n",
       "2        25.0        12438.0               3     5500.0          12.87   \n",
       "3        23.0        79753.0               0    35000.0          15.23   \n",
       "4        24.0        66135.0               1    35000.0          14.27   \n",
       "\n",
       "   loan_percent_income  cb_person_cred_hist_length  credit_score  loan_status  \\\n",
       "0                 0.49                         3.0           561            1   \n",
       "1                 0.08                         2.0           504            0   \n",
       "2                 0.44                         3.0           635            1   \n",
       "3                 0.44                         2.0           675            1   \n",
       "4                 0.53                         4.0           586            1   \n",
       "\n",
       "   person_gender_female  ...  person_home_ownership_OWN  \\\n",
       "0                     1  ...                          0   \n",
       "1                     1  ...                          1   \n",
       "2                     1  ...                          0   \n",
       "3                     1  ...                          0   \n",
       "4                     0  ...                          0   \n",
       "\n",
       "   person_home_ownership_RENT  loan_intent_DEBTCONSOLIDATION  \\\n",
       "0                           1                              0   \n",
       "1                           0                              0   \n",
       "2                           0                              0   \n",
       "3                           1                              0   \n",
       "4                           1                              0   \n",
       "\n",
       "   loan_intent_EDUCATION  loan_intent_HOMEIMPROVEMENT  loan_intent_MEDICAL  \\\n",
       "0                      0                            0                    0   \n",
       "1                      1                            0                    0   \n",
       "2                      0                            0                    1   \n",
       "3                      0                            0                    1   \n",
       "4                      0                            0                    1   \n",
       "\n",
       "   loan_intent_PERSONAL  loan_intent_VENTURE  \\\n",
       "0                     1                    0   \n",
       "1                     0                    0   \n",
       "2                     0                    0   \n",
       "3                     0                    0   \n",
       "4                     0                    0   \n",
       "\n",
       "   previous_loan_defaults_on_file_No  previous_loan_defaults_on_file_Yes  \n",
       "0                                  1                                   0  \n",
       "1                                  0                                   1  \n",
       "2                                  1                                   0  \n",
       "3                                  1                                   0  \n",
       "4                                  1                                   0  \n",
       "\n",
       "[5 rows x 28 columns]"
      ],
      "text/html": [
       "<div>\n",
       "<style scoped>\n",
       "    .dataframe tbody tr th:only-of-type {\n",
       "        vertical-align: middle;\n",
       "    }\n",
       "\n",
       "    .dataframe tbody tr th {\n",
       "        vertical-align: top;\n",
       "    }\n",
       "\n",
       "    .dataframe thead th {\n",
       "        text-align: right;\n",
       "    }\n",
       "</style>\n",
       "<table border=\"1\" class=\"dataframe\">\n",
       "  <thead>\n",
       "    <tr style=\"text-align: right;\">\n",
       "      <th></th>\n",
       "      <th>person_age</th>\n",
       "      <th>person_income</th>\n",
       "      <th>person_emp_exp</th>\n",
       "      <th>loan_amnt</th>\n",
       "      <th>loan_int_rate</th>\n",
       "      <th>loan_percent_income</th>\n",
       "      <th>cb_person_cred_hist_length</th>\n",
       "      <th>credit_score</th>\n",
       "      <th>loan_status</th>\n",
       "      <th>person_gender_female</th>\n",
       "      <th>...</th>\n",
       "      <th>person_home_ownership_OWN</th>\n",
       "      <th>person_home_ownership_RENT</th>\n",
       "      <th>loan_intent_DEBTCONSOLIDATION</th>\n",
       "      <th>loan_intent_EDUCATION</th>\n",
       "      <th>loan_intent_HOMEIMPROVEMENT</th>\n",
       "      <th>loan_intent_MEDICAL</th>\n",
       "      <th>loan_intent_PERSONAL</th>\n",
       "      <th>loan_intent_VENTURE</th>\n",
       "      <th>previous_loan_defaults_on_file_No</th>\n",
       "      <th>previous_loan_defaults_on_file_Yes</th>\n",
       "    </tr>\n",
       "  </thead>\n",
       "  <tbody>\n",
       "    <tr>\n",
       "      <th>0</th>\n",
       "      <td>22.0</td>\n",
       "      <td>71948.0</td>\n",
       "      <td>0</td>\n",
       "      <td>35000.0</td>\n",
       "      <td>16.02</td>\n",
       "      <td>0.49</td>\n",
       "      <td>3.0</td>\n",
       "      <td>561</td>\n",
       "      <td>1</td>\n",
       "      <td>1</td>\n",
       "      <td>...</td>\n",
       "      <td>0</td>\n",
       "      <td>1</td>\n",
       "      <td>0</td>\n",
       "      <td>0</td>\n",
       "      <td>0</td>\n",
       "      <td>0</td>\n",
       "      <td>1</td>\n",
       "      <td>0</td>\n",
       "      <td>1</td>\n",
       "      <td>0</td>\n",
       "    </tr>\n",
       "    <tr>\n",
       "      <th>1</th>\n",
       "      <td>21.0</td>\n",
       "      <td>12282.0</td>\n",
       "      <td>0</td>\n",
       "      <td>1000.0</td>\n",
       "      <td>11.14</td>\n",
       "      <td>0.08</td>\n",
       "      <td>2.0</td>\n",
       "      <td>504</td>\n",
       "      <td>0</td>\n",
       "      <td>1</td>\n",
       "      <td>...</td>\n",
       "      <td>1</td>\n",
       "      <td>0</td>\n",
       "      <td>0</td>\n",
       "      <td>1</td>\n",
       "      <td>0</td>\n",
       "      <td>0</td>\n",
       "      <td>0</td>\n",
       "      <td>0</td>\n",
       "      <td>0</td>\n",
       "      <td>1</td>\n",
       "    </tr>\n",
       "    <tr>\n",
       "      <th>2</th>\n",
       "      <td>25.0</td>\n",
       "      <td>12438.0</td>\n",
       "      <td>3</td>\n",
       "      <td>5500.0</td>\n",
       "      <td>12.87</td>\n",
       "      <td>0.44</td>\n",
       "      <td>3.0</td>\n",
       "      <td>635</td>\n",
       "      <td>1</td>\n",
       "      <td>1</td>\n",
       "      <td>...</td>\n",
       "      <td>0</td>\n",
       "      <td>0</td>\n",
       "      <td>0</td>\n",
       "      <td>0</td>\n",
       "      <td>0</td>\n",
       "      <td>1</td>\n",
       "      <td>0</td>\n",
       "      <td>0</td>\n",
       "      <td>1</td>\n",
       "      <td>0</td>\n",
       "    </tr>\n",
       "    <tr>\n",
       "      <th>3</th>\n",
       "      <td>23.0</td>\n",
       "      <td>79753.0</td>\n",
       "      <td>0</td>\n",
       "      <td>35000.0</td>\n",
       "      <td>15.23</td>\n",
       "      <td>0.44</td>\n",
       "      <td>2.0</td>\n",
       "      <td>675</td>\n",
       "      <td>1</td>\n",
       "      <td>1</td>\n",
       "      <td>...</td>\n",
       "      <td>0</td>\n",
       "      <td>1</td>\n",
       "      <td>0</td>\n",
       "      <td>0</td>\n",
       "      <td>0</td>\n",
       "      <td>1</td>\n",
       "      <td>0</td>\n",
       "      <td>0</td>\n",
       "      <td>1</td>\n",
       "      <td>0</td>\n",
       "    </tr>\n",
       "    <tr>\n",
       "      <th>4</th>\n",
       "      <td>24.0</td>\n",
       "      <td>66135.0</td>\n",
       "      <td>1</td>\n",
       "      <td>35000.0</td>\n",
       "      <td>14.27</td>\n",
       "      <td>0.53</td>\n",
       "      <td>4.0</td>\n",
       "      <td>586</td>\n",
       "      <td>1</td>\n",
       "      <td>0</td>\n",
       "      <td>...</td>\n",
       "      <td>0</td>\n",
       "      <td>1</td>\n",
       "      <td>0</td>\n",
       "      <td>0</td>\n",
       "      <td>0</td>\n",
       "      <td>1</td>\n",
       "      <td>0</td>\n",
       "      <td>0</td>\n",
       "      <td>1</td>\n",
       "      <td>0</td>\n",
       "    </tr>\n",
       "  </tbody>\n",
       "</table>\n",
       "<p>5 rows × 28 columns</p>\n",
       "</div>"
      ]
     },
     "execution_count": 55,
     "metadata": {},
     "output_type": "execute_result"
    }
   ],
   "execution_count": 55
  },
  {
   "metadata": {
    "ExecuteTime": {
     "end_time": "2025-05-17T12:47:12.461248Z",
     "start_time": "2025-05-17T12:47:12.455165Z"
    }
   },
   "cell_type": "code",
   "source": [
    "X = data_one_hot.drop('loan_status', axis=1)\n",
    "y= data_one_hot['loan_status']"
   ],
   "id": "fea756754307c5ab",
   "outputs": [],
   "execution_count": 56
  },
  {
   "metadata": {
    "ExecuteTime": {
     "end_time": "2025-05-17T12:47:14.959144Z",
     "start_time": "2025-05-17T12:47:14.930132Z"
    }
   },
   "cell_type": "code",
   "source": "X",
   "id": "f49c0bdf0f8c38a5",
   "outputs": [
    {
     "data": {
      "text/plain": [
       "       person_age  person_income  person_emp_exp  loan_amnt  loan_int_rate  \\\n",
       "0            22.0        71948.0               0    35000.0          16.02   \n",
       "1            21.0        12282.0               0     1000.0          11.14   \n",
       "2            25.0        12438.0               3     5500.0          12.87   \n",
       "3            23.0        79753.0               0    35000.0          15.23   \n",
       "4            24.0        66135.0               1    35000.0          14.27   \n",
       "...           ...            ...             ...        ...            ...   \n",
       "44995        27.0        47971.0               6    15000.0          15.66   \n",
       "44996        37.0        65800.0              17     9000.0          14.07   \n",
       "44997        33.0        56942.0               7     2771.0          10.02   \n",
       "44998        29.0        33164.0               4    12000.0          13.23   \n",
       "44999        24.0        51609.0               1     6665.0          17.05   \n",
       "\n",
       "       loan_percent_income  cb_person_cred_hist_length  credit_score  \\\n",
       "0                     0.49                         3.0           561   \n",
       "1                     0.08                         2.0           504   \n",
       "2                     0.44                         3.0           635   \n",
       "3                     0.44                         2.0           675   \n",
       "4                     0.53                         4.0           586   \n",
       "...                    ...                         ...           ...   \n",
       "44995                 0.31                         3.0           645   \n",
       "44996                 0.14                        11.0           621   \n",
       "44997                 0.05                        10.0           668   \n",
       "44998                 0.36                         6.0           604   \n",
       "44999                 0.13                         3.0           628   \n",
       "\n",
       "       person_gender_female  person_gender_male  ...  \\\n",
       "0                         1                   0  ...   \n",
       "1                         1                   0  ...   \n",
       "2                         1                   0  ...   \n",
       "3                         1                   0  ...   \n",
       "4                         0                   1  ...   \n",
       "...                     ...                 ...  ...   \n",
       "44995                     0                   1  ...   \n",
       "44996                     1                   0  ...   \n",
       "44997                     0                   1  ...   \n",
       "44998                     0                   1  ...   \n",
       "44999                     0                   1  ...   \n",
       "\n",
       "       person_home_ownership_OWN  person_home_ownership_RENT  \\\n",
       "0                              0                           1   \n",
       "1                              1                           0   \n",
       "2                              0                           0   \n",
       "3                              0                           1   \n",
       "4                              0                           1   \n",
       "...                          ...                         ...   \n",
       "44995                          0                           1   \n",
       "44996                          0                           1   \n",
       "44997                          0                           1   \n",
       "44998                          0                           1   \n",
       "44999                          0                           1   \n",
       "\n",
       "       loan_intent_DEBTCONSOLIDATION  loan_intent_EDUCATION  \\\n",
       "0                                  0                      0   \n",
       "1                                  0                      1   \n",
       "2                                  0                      0   \n",
       "3                                  0                      0   \n",
       "4                                  0                      0   \n",
       "...                              ...                    ...   \n",
       "44995                              0                      0   \n",
       "44996                              0                      0   \n",
       "44997                              1                      0   \n",
       "44998                              0                      1   \n",
       "44999                              1                      0   \n",
       "\n",
       "       loan_intent_HOMEIMPROVEMENT  loan_intent_MEDICAL  loan_intent_PERSONAL  \\\n",
       "0                                0                    0                     1   \n",
       "1                                0                    0                     0   \n",
       "2                                0                    1                     0   \n",
       "3                                0                    1                     0   \n",
       "4                                0                    1                     0   \n",
       "...                            ...                  ...                   ...   \n",
       "44995                            0                    1                     0   \n",
       "44996                            1                    0                     0   \n",
       "44997                            0                    0                     0   \n",
       "44998                            0                    0                     0   \n",
       "44999                            0                    0                     0   \n",
       "\n",
       "       loan_intent_VENTURE  previous_loan_defaults_on_file_No  \\\n",
       "0                        0                                  1   \n",
       "1                        0                                  0   \n",
       "2                        0                                  1   \n",
       "3                        0                                  1   \n",
       "4                        0                                  1   \n",
       "...                    ...                                ...   \n",
       "44995                    0                                  1   \n",
       "44996                    0                                  1   \n",
       "44997                    0                                  1   \n",
       "44998                    0                                  1   \n",
       "44999                    0                                  1   \n",
       "\n",
       "       previous_loan_defaults_on_file_Yes  \n",
       "0                                       0  \n",
       "1                                       1  \n",
       "2                                       0  \n",
       "3                                       0  \n",
       "4                                       0  \n",
       "...                                   ...  \n",
       "44995                                   0  \n",
       "44996                                   0  \n",
       "44997                                   0  \n",
       "44998                                   0  \n",
       "44999                                   0  \n",
       "\n",
       "[45000 rows x 27 columns]"
      ],
      "text/html": [
       "<div>\n",
       "<style scoped>\n",
       "    .dataframe tbody tr th:only-of-type {\n",
       "        vertical-align: middle;\n",
       "    }\n",
       "\n",
       "    .dataframe tbody tr th {\n",
       "        vertical-align: top;\n",
       "    }\n",
       "\n",
       "    .dataframe thead th {\n",
       "        text-align: right;\n",
       "    }\n",
       "</style>\n",
       "<table border=\"1\" class=\"dataframe\">\n",
       "  <thead>\n",
       "    <tr style=\"text-align: right;\">\n",
       "      <th></th>\n",
       "      <th>person_age</th>\n",
       "      <th>person_income</th>\n",
       "      <th>person_emp_exp</th>\n",
       "      <th>loan_amnt</th>\n",
       "      <th>loan_int_rate</th>\n",
       "      <th>loan_percent_income</th>\n",
       "      <th>cb_person_cred_hist_length</th>\n",
       "      <th>credit_score</th>\n",
       "      <th>person_gender_female</th>\n",
       "      <th>person_gender_male</th>\n",
       "      <th>...</th>\n",
       "      <th>person_home_ownership_OWN</th>\n",
       "      <th>person_home_ownership_RENT</th>\n",
       "      <th>loan_intent_DEBTCONSOLIDATION</th>\n",
       "      <th>loan_intent_EDUCATION</th>\n",
       "      <th>loan_intent_HOMEIMPROVEMENT</th>\n",
       "      <th>loan_intent_MEDICAL</th>\n",
       "      <th>loan_intent_PERSONAL</th>\n",
       "      <th>loan_intent_VENTURE</th>\n",
       "      <th>previous_loan_defaults_on_file_No</th>\n",
       "      <th>previous_loan_defaults_on_file_Yes</th>\n",
       "    </tr>\n",
       "  </thead>\n",
       "  <tbody>\n",
       "    <tr>\n",
       "      <th>0</th>\n",
       "      <td>22.0</td>\n",
       "      <td>71948.0</td>\n",
       "      <td>0</td>\n",
       "      <td>35000.0</td>\n",
       "      <td>16.02</td>\n",
       "      <td>0.49</td>\n",
       "      <td>3.0</td>\n",
       "      <td>561</td>\n",
       "      <td>1</td>\n",
       "      <td>0</td>\n",
       "      <td>...</td>\n",
       "      <td>0</td>\n",
       "      <td>1</td>\n",
       "      <td>0</td>\n",
       "      <td>0</td>\n",
       "      <td>0</td>\n",
       "      <td>0</td>\n",
       "      <td>1</td>\n",
       "      <td>0</td>\n",
       "      <td>1</td>\n",
       "      <td>0</td>\n",
       "    </tr>\n",
       "    <tr>\n",
       "      <th>1</th>\n",
       "      <td>21.0</td>\n",
       "      <td>12282.0</td>\n",
       "      <td>0</td>\n",
       "      <td>1000.0</td>\n",
       "      <td>11.14</td>\n",
       "      <td>0.08</td>\n",
       "      <td>2.0</td>\n",
       "      <td>504</td>\n",
       "      <td>1</td>\n",
       "      <td>0</td>\n",
       "      <td>...</td>\n",
       "      <td>1</td>\n",
       "      <td>0</td>\n",
       "      <td>0</td>\n",
       "      <td>1</td>\n",
       "      <td>0</td>\n",
       "      <td>0</td>\n",
       "      <td>0</td>\n",
       "      <td>0</td>\n",
       "      <td>0</td>\n",
       "      <td>1</td>\n",
       "    </tr>\n",
       "    <tr>\n",
       "      <th>2</th>\n",
       "      <td>25.0</td>\n",
       "      <td>12438.0</td>\n",
       "      <td>3</td>\n",
       "      <td>5500.0</td>\n",
       "      <td>12.87</td>\n",
       "      <td>0.44</td>\n",
       "      <td>3.0</td>\n",
       "      <td>635</td>\n",
       "      <td>1</td>\n",
       "      <td>0</td>\n",
       "      <td>...</td>\n",
       "      <td>0</td>\n",
       "      <td>0</td>\n",
       "      <td>0</td>\n",
       "      <td>0</td>\n",
       "      <td>0</td>\n",
       "      <td>1</td>\n",
       "      <td>0</td>\n",
       "      <td>0</td>\n",
       "      <td>1</td>\n",
       "      <td>0</td>\n",
       "    </tr>\n",
       "    <tr>\n",
       "      <th>3</th>\n",
       "      <td>23.0</td>\n",
       "      <td>79753.0</td>\n",
       "      <td>0</td>\n",
       "      <td>35000.0</td>\n",
       "      <td>15.23</td>\n",
       "      <td>0.44</td>\n",
       "      <td>2.0</td>\n",
       "      <td>675</td>\n",
       "      <td>1</td>\n",
       "      <td>0</td>\n",
       "      <td>...</td>\n",
       "      <td>0</td>\n",
       "      <td>1</td>\n",
       "      <td>0</td>\n",
       "      <td>0</td>\n",
       "      <td>0</td>\n",
       "      <td>1</td>\n",
       "      <td>0</td>\n",
       "      <td>0</td>\n",
       "      <td>1</td>\n",
       "      <td>0</td>\n",
       "    </tr>\n",
       "    <tr>\n",
       "      <th>4</th>\n",
       "      <td>24.0</td>\n",
       "      <td>66135.0</td>\n",
       "      <td>1</td>\n",
       "      <td>35000.0</td>\n",
       "      <td>14.27</td>\n",
       "      <td>0.53</td>\n",
       "      <td>4.0</td>\n",
       "      <td>586</td>\n",
       "      <td>0</td>\n",
       "      <td>1</td>\n",
       "      <td>...</td>\n",
       "      <td>0</td>\n",
       "      <td>1</td>\n",
       "      <td>0</td>\n",
       "      <td>0</td>\n",
       "      <td>0</td>\n",
       "      <td>1</td>\n",
       "      <td>0</td>\n",
       "      <td>0</td>\n",
       "      <td>1</td>\n",
       "      <td>0</td>\n",
       "    </tr>\n",
       "    <tr>\n",
       "      <th>...</th>\n",
       "      <td>...</td>\n",
       "      <td>...</td>\n",
       "      <td>...</td>\n",
       "      <td>...</td>\n",
       "      <td>...</td>\n",
       "      <td>...</td>\n",
       "      <td>...</td>\n",
       "      <td>...</td>\n",
       "      <td>...</td>\n",
       "      <td>...</td>\n",
       "      <td>...</td>\n",
       "      <td>...</td>\n",
       "      <td>...</td>\n",
       "      <td>...</td>\n",
       "      <td>...</td>\n",
       "      <td>...</td>\n",
       "      <td>...</td>\n",
       "      <td>...</td>\n",
       "      <td>...</td>\n",
       "      <td>...</td>\n",
       "      <td>...</td>\n",
       "    </tr>\n",
       "    <tr>\n",
       "      <th>44995</th>\n",
       "      <td>27.0</td>\n",
       "      <td>47971.0</td>\n",
       "      <td>6</td>\n",
       "      <td>15000.0</td>\n",
       "      <td>15.66</td>\n",
       "      <td>0.31</td>\n",
       "      <td>3.0</td>\n",
       "      <td>645</td>\n",
       "      <td>0</td>\n",
       "      <td>1</td>\n",
       "      <td>...</td>\n",
       "      <td>0</td>\n",
       "      <td>1</td>\n",
       "      <td>0</td>\n",
       "      <td>0</td>\n",
       "      <td>0</td>\n",
       "      <td>1</td>\n",
       "      <td>0</td>\n",
       "      <td>0</td>\n",
       "      <td>1</td>\n",
       "      <td>0</td>\n",
       "    </tr>\n",
       "    <tr>\n",
       "      <th>44996</th>\n",
       "      <td>37.0</td>\n",
       "      <td>65800.0</td>\n",
       "      <td>17</td>\n",
       "      <td>9000.0</td>\n",
       "      <td>14.07</td>\n",
       "      <td>0.14</td>\n",
       "      <td>11.0</td>\n",
       "      <td>621</td>\n",
       "      <td>1</td>\n",
       "      <td>0</td>\n",
       "      <td>...</td>\n",
       "      <td>0</td>\n",
       "      <td>1</td>\n",
       "      <td>0</td>\n",
       "      <td>0</td>\n",
       "      <td>1</td>\n",
       "      <td>0</td>\n",
       "      <td>0</td>\n",
       "      <td>0</td>\n",
       "      <td>1</td>\n",
       "      <td>0</td>\n",
       "    </tr>\n",
       "    <tr>\n",
       "      <th>44997</th>\n",
       "      <td>33.0</td>\n",
       "      <td>56942.0</td>\n",
       "      <td>7</td>\n",
       "      <td>2771.0</td>\n",
       "      <td>10.02</td>\n",
       "      <td>0.05</td>\n",
       "      <td>10.0</td>\n",
       "      <td>668</td>\n",
       "      <td>0</td>\n",
       "      <td>1</td>\n",
       "      <td>...</td>\n",
       "      <td>0</td>\n",
       "      <td>1</td>\n",
       "      <td>1</td>\n",
       "      <td>0</td>\n",
       "      <td>0</td>\n",
       "      <td>0</td>\n",
       "      <td>0</td>\n",
       "      <td>0</td>\n",
       "      <td>1</td>\n",
       "      <td>0</td>\n",
       "    </tr>\n",
       "    <tr>\n",
       "      <th>44998</th>\n",
       "      <td>29.0</td>\n",
       "      <td>33164.0</td>\n",
       "      <td>4</td>\n",
       "      <td>12000.0</td>\n",
       "      <td>13.23</td>\n",
       "      <td>0.36</td>\n",
       "      <td>6.0</td>\n",
       "      <td>604</td>\n",
       "      <td>0</td>\n",
       "      <td>1</td>\n",
       "      <td>...</td>\n",
       "      <td>0</td>\n",
       "      <td>1</td>\n",
       "      <td>0</td>\n",
       "      <td>1</td>\n",
       "      <td>0</td>\n",
       "      <td>0</td>\n",
       "      <td>0</td>\n",
       "      <td>0</td>\n",
       "      <td>1</td>\n",
       "      <td>0</td>\n",
       "    </tr>\n",
       "    <tr>\n",
       "      <th>44999</th>\n",
       "      <td>24.0</td>\n",
       "      <td>51609.0</td>\n",
       "      <td>1</td>\n",
       "      <td>6665.0</td>\n",
       "      <td>17.05</td>\n",
       "      <td>0.13</td>\n",
       "      <td>3.0</td>\n",
       "      <td>628</td>\n",
       "      <td>0</td>\n",
       "      <td>1</td>\n",
       "      <td>...</td>\n",
       "      <td>0</td>\n",
       "      <td>1</td>\n",
       "      <td>1</td>\n",
       "      <td>0</td>\n",
       "      <td>0</td>\n",
       "      <td>0</td>\n",
       "      <td>0</td>\n",
       "      <td>0</td>\n",
       "      <td>1</td>\n",
       "      <td>0</td>\n",
       "    </tr>\n",
       "  </tbody>\n",
       "</table>\n",
       "<p>45000 rows × 27 columns</p>\n",
       "</div>"
      ]
     },
     "execution_count": 57,
     "metadata": {},
     "output_type": "execute_result"
    }
   ],
   "execution_count": 57
  },
  {
   "metadata": {
    "ExecuteTime": {
     "end_time": "2025-05-17T12:47:17.542054Z",
     "start_time": "2025-05-17T12:47:17.538101Z"
    }
   },
   "cell_type": "code",
   "source": "y",
   "id": "bbc7eb966a320794",
   "outputs": [
    {
     "data": {
      "text/plain": [
       "0        1\n",
       "1        0\n",
       "2        1\n",
       "3        1\n",
       "4        1\n",
       "        ..\n",
       "44995    1\n",
       "44996    1\n",
       "44997    1\n",
       "44998    1\n",
       "44999    1\n",
       "Name: loan_status, Length: 45000, dtype: int64"
      ]
     },
     "execution_count": 58,
     "metadata": {},
     "output_type": "execute_result"
    }
   ],
   "execution_count": 58
  },
  {
   "metadata": {
    "ExecuteTime": {
     "end_time": "2025-05-17T12:47:24.210351Z",
     "start_time": "2025-05-17T12:47:24.198047Z"
    }
   },
   "cell_type": "code",
   "source": [
    "#create new training and test data\n",
    "from sklearn.model_selection import train_test_split\n",
    "X_train1,X_test1,y_train1,y_test1 = train_test_split(X,y,test_size=0.2,random_state=42)"
   ],
   "id": "1942470153130b75",
   "outputs": [],
   "execution_count": 59
  },
  {
   "metadata": {
    "ExecuteTime": {
     "end_time": "2025-05-17T12:47:26.798010Z",
     "start_time": "2025-05-17T12:47:26.794081Z"
    }
   },
   "cell_type": "code",
   "source": [
    "print(f\"X_train1 shape: {X_train1.shape}\")\n",
    "print(f\"y_train1 shape: {y_train1.shape}\")\n",
    "print(f\"X_test1 shape: {X_test1.shape}\")\n",
    "print(f\"y_test1 shape: {y_test1.shape}\")"
   ],
   "id": "a5d1b7424153eaf5",
   "outputs": [
    {
     "name": "stdout",
     "output_type": "stream",
     "text": [
      "X_train1 shape: (36000, 27)\n",
      "y_train1 shape: (36000,)\n",
      "X_test1 shape: (9000, 27)\n",
      "y_test1 shape: (9000,)\n"
     ]
    }
   ],
   "execution_count": 60
  },
  {
   "metadata": {},
   "cell_type": "markdown",
   "source": "### 🧬 first - Model_new_1 - Classification",
   "id": "5cd088d378b9384c"
  },
  {
   "metadata": {
    "ExecuteTime": {
     "end_time": "2025-05-17T12:48:49.656007Z",
     "start_time": "2025-05-17T12:48:22.809649Z"
    }
   },
   "cell_type": "code",
   "source": [
    "tf.random.set_seed(42)\n",
    "\n",
    "model_new_1 = tf.keras.Sequential([\n",
    "    tf.keras.layers.Input(shape=(27,)),\n",
    "    tf.keras.layers.Flatten(),\n",
    "    \n",
    "    tf.keras.layers.Dense(4, activation='relu'),\n",
    "    tf.keras.layers.Dense(4, activation='relu'),\n",
    "    tf.keras.layers.Dense(1, activation='sigmoid')\n",
    "])\n",
    "\n",
    "model_new_1.compile(loss=tf.keras.losses.BinaryCrossentropy(),\n",
    "                    optimizer=tf.keras.optimizers.Adam(),\n",
    "                    metrics=['accuracy'])\n",
    "\n",
    "history_new_1 = model_new_1.fit(X_train1,y_train1,epochs=30)"
   ],
   "id": "b8f5b8253f019147",
   "outputs": [
    {
     "name": "stdout",
     "output_type": "stream",
     "text": [
      "Epoch 1/30\n",
      "\u001B[1m1125/1125\u001B[0m \u001B[32m━━━━━━━━━━━━━━━━━━━━\u001B[0m\u001B[37m\u001B[0m \u001B[1m2s\u001B[0m 810us/step - accuracy: 0.7000 - loss: 15.7446\n",
      "Epoch 2/30\n",
      "\u001B[1m1125/1125\u001B[0m \u001B[32m━━━━━━━━━━━━━━━━━━━━\u001B[0m\u001B[37m\u001B[0m \u001B[1m1s\u001B[0m 755us/step - accuracy: 0.7762 - loss: 0.5418\n",
      "Epoch 3/30\n",
      "\u001B[1m1125/1125\u001B[0m \u001B[32m━━━━━━━━━━━━━━━━━━━━\u001B[0m\u001B[37m\u001B[0m \u001B[1m1s\u001B[0m 746us/step - accuracy: 0.7762 - loss: 0.5320\n",
      "Epoch 4/30\n",
      "\u001B[1m1125/1125\u001B[0m \u001B[32m━━━━━━━━━━━━━━━━━━━━\u001B[0m\u001B[37m\u001B[0m \u001B[1m1s\u001B[0m 759us/step - accuracy: 0.7762 - loss: 0.5317\n",
      "Epoch 5/30\n",
      "\u001B[1m1125/1125\u001B[0m \u001B[32m━━━━━━━━━━━━━━━━━━━━\u001B[0m\u001B[37m\u001B[0m \u001B[1m1s\u001B[0m 743us/step - accuracy: 0.7762 - loss: 0.5318\n",
      "Epoch 6/30\n",
      "\u001B[1m1125/1125\u001B[0m \u001B[32m━━━━━━━━━━━━━━━━━━━━\u001B[0m\u001B[37m\u001B[0m \u001B[1m1s\u001B[0m 742us/step - accuracy: 0.7762 - loss: 0.5318\n",
      "Epoch 7/30\n",
      "\u001B[1m1125/1125\u001B[0m \u001B[32m━━━━━━━━━━━━━━━━━━━━\u001B[0m\u001B[37m\u001B[0m \u001B[1m1s\u001B[0m 738us/step - accuracy: 0.7762 - loss: 0.5318\n",
      "Epoch 8/30\n",
      "\u001B[1m1125/1125\u001B[0m \u001B[32m━━━━━━━━━━━━━━━━━━━━\u001B[0m\u001B[37m\u001B[0m \u001B[1m1s\u001B[0m 739us/step - accuracy: 0.7762 - loss: 0.5318\n",
      "Epoch 9/30\n",
      "\u001B[1m1125/1125\u001B[0m \u001B[32m━━━━━━━━━━━━━━━━━━━━\u001B[0m\u001B[37m\u001B[0m \u001B[1m1s\u001B[0m 751us/step - accuracy: 0.7762 - loss: 0.5318\n",
      "Epoch 10/30\n",
      "\u001B[1m1125/1125\u001B[0m \u001B[32m━━━━━━━━━━━━━━━━━━━━\u001B[0m\u001B[37m\u001B[0m \u001B[1m1s\u001B[0m 748us/step - accuracy: 0.7762 - loss: 0.5318\n",
      "Epoch 11/30\n",
      "\u001B[1m1125/1125\u001B[0m \u001B[32m━━━━━━━━━━━━━━━━━━━━\u001B[0m\u001B[37m\u001B[0m \u001B[1m1s\u001B[0m 752us/step - accuracy: 0.7762 - loss: 0.5318\n",
      "Epoch 12/30\n",
      "\u001B[1m1125/1125\u001B[0m \u001B[32m━━━━━━━━━━━━━━━━━━━━\u001B[0m\u001B[37m\u001B[0m \u001B[1m1s\u001B[0m 754us/step - accuracy: 0.7762 - loss: 0.5318\n",
      "Epoch 13/30\n",
      "\u001B[1m1125/1125\u001B[0m \u001B[32m━━━━━━━━━━━━━━━━━━━━\u001B[0m\u001B[37m\u001B[0m \u001B[1m1s\u001B[0m 742us/step - accuracy: 0.7762 - loss: 0.5318\n",
      "Epoch 14/30\n",
      "\u001B[1m1125/1125\u001B[0m \u001B[32m━━━━━━━━━━━━━━━━━━━━\u001B[0m\u001B[37m\u001B[0m \u001B[1m1s\u001B[0m 750us/step - accuracy: 0.7762 - loss: 0.5318\n",
      "Epoch 15/30\n",
      "\u001B[1m1125/1125\u001B[0m \u001B[32m━━━━━━━━━━━━━━━━━━━━\u001B[0m\u001B[37m\u001B[0m \u001B[1m1s\u001B[0m 748us/step - accuracy: 0.7762 - loss: 0.5318\n",
      "Epoch 16/30\n",
      "\u001B[1m1125/1125\u001B[0m \u001B[32m━━━━━━━━━━━━━━━━━━━━\u001B[0m\u001B[37m\u001B[0m \u001B[1m1s\u001B[0m 746us/step - accuracy: 0.7762 - loss: 0.5318\n",
      "Epoch 17/30\n",
      "\u001B[1m1125/1125\u001B[0m \u001B[32m━━━━━━━━━━━━━━━━━━━━\u001B[0m\u001B[37m\u001B[0m \u001B[1m1s\u001B[0m 755us/step - accuracy: 0.7762 - loss: 0.5318\n",
      "Epoch 18/30\n",
      "\u001B[1m1125/1125\u001B[0m \u001B[32m━━━━━━━━━━━━━━━━━━━━\u001B[0m\u001B[37m\u001B[0m \u001B[1m1s\u001B[0m 745us/step - accuracy: 0.7762 - loss: 0.5318\n",
      "Epoch 19/30\n",
      "\u001B[1m1125/1125\u001B[0m \u001B[32m━━━━━━━━━━━━━━━━━━━━\u001B[0m\u001B[37m\u001B[0m \u001B[1m1s\u001B[0m 747us/step - accuracy: 0.7762 - loss: 0.5318\n",
      "Epoch 20/30\n",
      "\u001B[1m1125/1125\u001B[0m \u001B[32m━━━━━━━━━━━━━━━━━━━━\u001B[0m\u001B[37m\u001B[0m \u001B[1m1s\u001B[0m 751us/step - accuracy: 0.7762 - loss: 0.5318\n",
      "Epoch 21/30\n",
      "\u001B[1m1125/1125\u001B[0m \u001B[32m━━━━━━━━━━━━━━━━━━━━\u001B[0m\u001B[37m\u001B[0m \u001B[1m1s\u001B[0m 756us/step - accuracy: 0.7762 - loss: 0.5318\n",
      "Epoch 22/30\n",
      "\u001B[1m1125/1125\u001B[0m \u001B[32m━━━━━━━━━━━━━━━━━━━━\u001B[0m\u001B[37m\u001B[0m \u001B[1m1s\u001B[0m 762us/step - accuracy: 0.7762 - loss: 0.5318\n",
      "Epoch 23/30\n",
      "\u001B[1m1125/1125\u001B[0m \u001B[32m━━━━━━━━━━━━━━━━━━━━\u001B[0m\u001B[37m\u001B[0m \u001B[1m1s\u001B[0m 756us/step - accuracy: 0.7762 - loss: 0.5318\n",
      "Epoch 24/30\n",
      "\u001B[1m1125/1125\u001B[0m \u001B[32m━━━━━━━━━━━━━━━━━━━━\u001B[0m\u001B[37m\u001B[0m \u001B[1m1s\u001B[0m 756us/step - accuracy: 0.7762 - loss: 0.5318\n",
      "Epoch 25/30\n",
      "\u001B[1m1125/1125\u001B[0m \u001B[32m━━━━━━━━━━━━━━━━━━━━\u001B[0m\u001B[37m\u001B[0m \u001B[1m1s\u001B[0m 749us/step - accuracy: 0.7762 - loss: 0.5318\n",
      "Epoch 26/30\n",
      "\u001B[1m1125/1125\u001B[0m \u001B[32m━━━━━━━━━━━━━━━━━━━━\u001B[0m\u001B[37m\u001B[0m \u001B[1m1s\u001B[0m 781us/step - accuracy: 0.7762 - loss: 0.5318\n",
      "Epoch 27/30\n",
      "\u001B[1m1125/1125\u001B[0m \u001B[32m━━━━━━━━━━━━━━━━━━━━\u001B[0m\u001B[37m\u001B[0m \u001B[1m1s\u001B[0m 754us/step - accuracy: 0.7762 - loss: 0.5318\n",
      "Epoch 28/30\n",
      "\u001B[1m1125/1125\u001B[0m \u001B[32m━━━━━━━━━━━━━━━━━━━━\u001B[0m\u001B[37m\u001B[0m \u001B[1m1s\u001B[0m 751us/step - accuracy: 0.7762 - loss: 0.5318\n",
      "Epoch 29/30\n",
      "\u001B[1m1125/1125\u001B[0m \u001B[32m━━━━━━━━━━━━━━━━━━━━\u001B[0m\u001B[37m\u001B[0m \u001B[1m1s\u001B[0m 736us/step - accuracy: 0.7762 - loss: 0.5318\n",
      "Epoch 30/30\n",
      "\u001B[1m1125/1125\u001B[0m \u001B[32m━━━━━━━━━━━━━━━━━━━━\u001B[0m\u001B[37m\u001B[0m \u001B[1m1s\u001B[0m 733us/step - accuracy: 0.7762 - loss: 0.5318\n"
     ]
    }
   ],
   "execution_count": 61
  },
  {
   "metadata": {
    "ExecuteTime": {
     "end_time": "2025-05-17T12:55:38.037170Z",
     "start_time": "2025-05-17T12:55:37.927379Z"
    }
   },
   "cell_type": "code",
   "source": "pd.DataFrame(history_new_1.history).plot(figsize=(8,5))",
   "id": "fc45c6610019d82d",
   "outputs": [
    {
     "data": {
      "text/plain": [
       "<Axes: >"
      ]
     },
     "execution_count": 62,
     "metadata": {},
     "output_type": "execute_result"
    },
    {
     "data": {
      "text/plain": [
       "<Figure size 800x500 with 1 Axes>"
      ],
      "image/png": "[encoded data removed]"
     },
     "metadata": {},
     "output_type": "display_data"
    }
   ],
   "execution_count": 62
  },
  {
   "metadata": {},
   "cell_type": "markdown",
   "source": "### Model_new_1 Predict",
   "id": "19a7283f72af5f37"
  },
  {
   "metadata": {
    "ExecuteTime": {
     "end_time": "2025-05-17T12:56:02.000070Z",
     "start_time": "2025-05-17T12:56:01.701872Z"
    }
   },
   "cell_type": "code",
   "source": [
    "y_preds_new_1 = model_new_1.predict(X_test1)\n",
    "y_preds_new_1 = (y_preds_new_1 > 0.5).astype(int)\n",
    "y_preds_new_1"
   ],
   "id": "6893f065a814687a",
   "outputs": [
    {
     "name": "stdout",
     "output_type": "stream",
     "text": [
      "\u001B[1m282/282\u001B[0m \u001B[32m━━━━━━━━━━━━━━━━━━━━\u001B[0m\u001B[37m\u001B[0m \u001B[1m0s\u001B[0m 541us/step\n"
     ]
    },
    {
     "data": {
      "text/plain": [
       "array([[0],\n",
       "       [0],\n",
       "       [0],\n",
       "       ...,\n",
       "       [0],\n",
       "       [0],\n",
       "       [0]])"
      ]
     },
     "execution_count": 63,
     "metadata": {},
     "output_type": "execute_result"
    }
   ],
   "execution_count": 63
  },
  {
   "metadata": {
    "ExecuteTime": {
     "end_time": "2025-05-17T12:56:04.455097Z",
     "start_time": "2025-05-17T12:56:04.364326Z"
    }
   },
   "cell_type": "code",
   "source": "plot_confusion_matrix(y_test1,y_preds_new_1)",
   "id": "341bbbb23f04074b",
   "outputs": [
    {
     "data": {
      "text/plain": [
       "<Figure size 500x400 with 2 Axes>"
      ],
      "image/png": "[encoded data removed]"
     },
     "metadata": {},
     "output_type": "display_data"
    }
   ],
   "execution_count": 64
  },
  {
   "metadata": {},
   "cell_type": "markdown",
   "source": "## Preprocessing data (normalization and standardization)\n",
   "id": "5630d5807d59d82b"
  },
  {
   "metadata": {
    "ExecuteTime": {
     "end_time": "2025-05-17T12:56:40.435125Z",
     "start_time": "2025-05-17T12:56:40.411658Z"
    }
   },
   "cell_type": "code",
   "source": [
    "from sklearn.preprocessing import StandardScaler\n",
    "scaler      = StandardScaler()\n",
    "X_train_new_sc  = scaler.fit_transform(X_train1)\n",
    "X_test_new_sc   = scaler.transform(X_test1)"
   ],
   "id": "f4f4b0ea5f2017d7",
   "outputs": [],
   "execution_count": 65
  },
  {
   "metadata": {},
   "cell_type": "markdown",
   "source": "## Weight",
   "id": "4bc6d913342d2470"
  },
  {
   "metadata": {
    "ExecuteTime": {
     "end_time": "2025-05-17T12:56:59.713988Z",
     "start_time": "2025-05-17T12:56:59.706999Z"
    }
   },
   "cell_type": "code",
   "source": [
    "from sklearn.utils.class_weight import compute_class_weight\n",
    "\n",
    "classes = np.array([0,1])\n",
    "class_weights = compute_class_weight(\n",
    "    class_weight='balanced',\n",
    "    classes=classes,\n",
    "    y=y_train1.astype(int)\n",
    ")\n",
    "\n",
    "class_weight_dict = dict(zip(classes,class_weights))\n",
    "print(class_weight_dict)"
   ],
   "id": "a823d637fe7effec",
   "outputs": [
    {
     "name": "stdout",
     "output_type": "stream",
     "text": [
      "{np.int64(0): np.float64(0.6426276329882185), np.int64(1): np.float64(2.252816020025031)}\n"
     ]
    }
   ],
   "execution_count": 66
  },
  {
   "metadata": {},
   "cell_type": "markdown",
   "source": "### 🧬 Second - Model_new_2 - Classification\n",
   "id": "bdd931116ca1d17d"
  },
  {
   "metadata": {
    "ExecuteTime": {
     "end_time": "2025-05-17T12:59:03.256774Z",
     "start_time": "2025-05-17T12:57:34.728755Z"
    }
   },
   "cell_type": "code",
   "source": [
    "tf.random.set_seed(42)\n",
    "\n",
    "model_new_2 = tf.keras.Sequential([\n",
    "  tf.keras.layers.Input(shape=(27,)),\n",
    "  tf.keras.layers.Flatten(),\n",
    "    \n",
    "  tf.keras.layers.Dense(256, activation='relu'),\n",
    "  tf.keras.layers.Dense(128, activation='relu'),\n",
    "  tf.keras.layers.Dense(64, activation='relu'),\n",
    "  tf.keras.layers.Dense(32, activation='relu'),\n",
    "  tf.keras.layers.Dense(16, activation='relu'),\n",
    "  tf.keras.layers.Dropout(0.2),\n",
    "  tf.keras.layers.Dense(8, activation='relu'),\n",
    "  tf.keras.layers.Dense(4, activation='relu'),\n",
    "  tf.keras.layers.Dense(1, activation='sigmoid'),\n",
    "])\n",
    "\n",
    "model_new_2.compile(loss=tf.keras.losses.BinaryCrossentropy(),\n",
    "                optimizer=tf.keras.optimizers.Adam(learning_rate=1e-3),\n",
    "                metrics=[\"accuracy\"])\n",
    "\n",
    "history_new_2 = model_new_2.fit(X_train_new_sc,y_train,epochs=70,class_weight=class_weight_dict)"
   ],
   "id": "12919d2be8360a59",
   "outputs": [
    {
     "name": "stdout",
     "output_type": "stream",
     "text": [
      "Epoch 1/70\n",
      "\u001B[1m1125/1125\u001B[0m \u001B[32m━━━━━━━━━━━━━━━━━━━━\u001B[0m\u001B[37m\u001B[0m \u001B[1m3s\u001B[0m 1ms/step - accuracy: 0.8028 - loss: 0.3407\n",
      "Epoch 2/70\n",
      "\u001B[1m1125/1125\u001B[0m \u001B[32m━━━━━━━━━━━━━━━━━━━━\u001B[0m\u001B[37m\u001B[0m \u001B[1m1s\u001B[0m 1ms/step - accuracy: 0.8728 - loss: 0.2361\n",
      "Epoch 3/70\n",
      "\u001B[1m1125/1125\u001B[0m \u001B[32m━━━━━━━━━━━━━━━━━━━━\u001B[0m\u001B[37m\u001B[0m \u001B[1m1s\u001B[0m 1ms/step - accuracy: 0.8777 - loss: 0.2256\n",
      "Epoch 4/70\n",
      "\u001B[1m1125/1125\u001B[0m \u001B[32m━━━━━━━━━━━━━━━━━━━━\u001B[0m\u001B[37m\u001B[0m \u001B[1m1s\u001B[0m 1ms/step - accuracy: 0.8806 - loss: 0.2200\n",
      "Epoch 5/70\n",
      "\u001B[1m1125/1125\u001B[0m \u001B[32m━━━━━━━━━━━━━━━━━━━━\u001B[0m\u001B[37m\u001B[0m \u001B[1m1s\u001B[0m 1ms/step - accuracy: 0.8832 - loss: 0.2154\n",
      "Epoch 6/70\n",
      "\u001B[1m1125/1125\u001B[0m \u001B[32m━━━━━━━━━━━━━━━━━━━━\u001B[0m\u001B[37m\u001B[0m \u001B[1m1s\u001B[0m 1ms/step - accuracy: 0.8823 - loss: 0.2130\n",
      "Epoch 7/70\n",
      "\u001B[1m1125/1125\u001B[0m \u001B[32m━━━━━━━━━━━━━━━━━━━━\u001B[0m\u001B[37m\u001B[0m \u001B[1m1s\u001B[0m 1ms/step - accuracy: 0.8846 - loss: 0.2103\n",
      "Epoch 8/70\n",
      "\u001B[1m1125/1125\u001B[0m \u001B[32m━━━━━━━━━━━━━━━━━━━━\u001B[0m\u001B[37m\u001B[0m \u001B[1m1s\u001B[0m 1ms/step - accuracy: 0.8843 - loss: 0.2104\n",
      "Epoch 9/70\n",
      "\u001B[1m1125/1125\u001B[0m \u001B[32m━━━━━━━━━━━━━━━━━━━━\u001B[0m\u001B[37m\u001B[0m \u001B[1m1s\u001B[0m 1ms/step - accuracy: 0.8832 - loss: 0.2070\n",
      "Epoch 10/70\n",
      "\u001B[1m1125/1125\u001B[0m \u001B[32m━━━━━━━━━━━━━━━━━━━━\u001B[0m\u001B[37m\u001B[0m \u001B[1m1s\u001B[0m 1ms/step - accuracy: 0.8898 - loss: 0.2027\n",
      "Epoch 11/70\n",
      "\u001B[1m1125/1125\u001B[0m \u001B[32m━━━━━━━━━━━━━━━━━━━━\u001B[0m\u001B[37m\u001B[0m \u001B[1m1s\u001B[0m 1ms/step - accuracy: 0.8887 - loss: 0.2010\n",
      "Epoch 12/70\n",
      "\u001B[1m1125/1125\u001B[0m \u001B[32m━━━━━━━━━━━━━━━━━━━━\u001B[0m\u001B[37m\u001B[0m \u001B[1m1s\u001B[0m 1ms/step - accuracy: 0.8893 - loss: 0.1964\n",
      "Epoch 13/70\n",
      "\u001B[1m1125/1125\u001B[0m \u001B[32m━━━━━━━━━━━━━━━━━━━━\u001B[0m\u001B[37m\u001B[0m \u001B[1m1s\u001B[0m 1ms/step - accuracy: 0.8900 - loss: 0.1997\n",
      "Epoch 14/70\n",
      "\u001B[1m1125/1125\u001B[0m \u001B[32m━━━━━━━━━━━━━━━━━━━━\u001B[0m\u001B[37m\u001B[0m \u001B[1m1s\u001B[0m 1ms/step - accuracy: 0.8950 - loss: 0.1920\n",
      "Epoch 15/70\n",
      "\u001B[1m1125/1125\u001B[0m \u001B[32m━━━━━━━━━━━━━━━━━━━━\u001B[0m\u001B[37m\u001B[0m \u001B[1m1s\u001B[0m 1ms/step - accuracy: 0.8947 - loss: 0.1925\n",
      "Epoch 16/70\n",
      "\u001B[1m1125/1125\u001B[0m \u001B[32m━━━━━━━━━━━━━━━━━━━━\u001B[0m\u001B[37m\u001B[0m \u001B[1m1s\u001B[0m 1ms/step - accuracy: 0.8992 - loss: 0.1896\n",
      "Epoch 17/70\n",
      "\u001B[1m1125/1125\u001B[0m \u001B[32m━━━━━━━━━━━━━━━━━━━━\u001B[0m\u001B[37m\u001B[0m \u001B[1m1s\u001B[0m 1ms/step - accuracy: 0.8961 - loss: 0.1908\n",
      "Epoch 18/70\n",
      "\u001B[1m1125/1125\u001B[0m \u001B[32m━━━━━━━━━━━━━━━━━━━━\u001B[0m\u001B[37m\u001B[0m \u001B[1m1s\u001B[0m 1ms/step - accuracy: 0.9005 - loss: 0.1848\n",
      "Epoch 19/70\n",
      "\u001B[1m1125/1125\u001B[0m \u001B[32m━━━━━━━━━━━━━━━━━━━━\u001B[0m\u001B[37m\u001B[0m \u001B[1m1s\u001B[0m 1ms/step - accuracy: 0.9008 - loss: 0.1807\n",
      "Epoch 20/70\n",
      "\u001B[1m1125/1125\u001B[0m \u001B[32m━━━━━━━━━━━━━━━━━━━━\u001B[0m\u001B[37m\u001B[0m \u001B[1m1s\u001B[0m 1ms/step - accuracy: 0.9020 - loss: 0.1812\n",
      "Epoch 21/70\n",
      "\u001B[1m1125/1125\u001B[0m \u001B[32m━━━━━━━━━━━━━━━━━━━━\u001B[0m\u001B[37m\u001B[0m \u001B[1m1s\u001B[0m 1ms/step - accuracy: 0.9030 - loss: 0.1775\n",
      "Epoch 22/70\n",
      "\u001B[1m1125/1125\u001B[0m \u001B[32m━━━━━━━━━━━━━━━━━━━━\u001B[0m\u001B[37m\u001B[0m \u001B[1m1s\u001B[0m 1ms/step - accuracy: 0.9055 - loss: 0.1758\n",
      "Epoch 23/70\n",
      "\u001B[1m1125/1125\u001B[0m \u001B[32m━━━━━━━━━━━━━━━━━━━━\u001B[0m\u001B[37m\u001B[0m \u001B[1m1s\u001B[0m 1ms/step - accuracy: 0.9011 - loss: 0.1759\n",
      "Epoch 24/70\n",
      "\u001B[1m1125/1125\u001B[0m \u001B[32m━━━━━━━━━━━━━━━━━━━━\u001B[0m\u001B[37m\u001B[0m \u001B[1m1s\u001B[0m 1ms/step - accuracy: 0.9094 - loss: 0.1670\n",
      "Epoch 25/70\n",
      "\u001B[1m1125/1125\u001B[0m \u001B[32m━━━━━━━━━━━━━━━━━━━━\u001B[0m\u001B[37m\u001B[0m \u001B[1m1s\u001B[0m 1ms/step - accuracy: 0.9050 - loss: 0.1742\n",
      "Epoch 26/70\n",
      "\u001B[1m1125/1125\u001B[0m \u001B[32m━━━━━━━━━━━━━━━━━━━━\u001B[0m\u001B[37m\u001B[0m \u001B[1m1s\u001B[0m 1ms/step - accuracy: 0.9046 - loss: 0.1748\n",
      "Epoch 27/70\n",
      "\u001B[1m1125/1125\u001B[0m \u001B[32m━━━━━━━━━━━━━━━━━━━━\u001B[0m\u001B[37m\u001B[0m \u001B[1m1s\u001B[0m 1ms/step - accuracy: 0.9104 - loss: 0.1648\n",
      "Epoch 28/70\n",
      "\u001B[1m1125/1125\u001B[0m \u001B[32m━━━━━━━━━━━━━━━━━━━━\u001B[0m\u001B[37m\u001B[0m \u001B[1m1s\u001B[0m 1ms/step - accuracy: 0.9087 - loss: 0.1630\n",
      "Epoch 29/70\n",
      "\u001B[1m1125/1125\u001B[0m \u001B[32m━━━━━━━━━━━━━━━━━━━━\u001B[0m\u001B[37m\u001B[0m \u001B[1m1s\u001B[0m 1ms/step - accuracy: 0.9104 - loss: 0.1619\n",
      "Epoch 30/70\n",
      "\u001B[1m1125/1125\u001B[0m \u001B[32m━━━━━━━━━━━━━━━━━━━━\u001B[0m\u001B[37m\u001B[0m \u001B[1m1s\u001B[0m 1ms/step - accuracy: 0.9162 - loss: 0.1547\n",
      "Epoch 31/70\n",
      "\u001B[1m1125/1125\u001B[0m \u001B[32m━━━━━━━━━━━━━━━━━━━━\u001B[0m\u001B[37m\u001B[0m \u001B[1m1s\u001B[0m 1ms/step - accuracy: 0.9125 - loss: 0.1624\n",
      "Epoch 32/70\n",
      "\u001B[1m1125/1125\u001B[0m \u001B[32m━━━━━━━━━━━━━━━━━━━━\u001B[0m\u001B[37m\u001B[0m \u001B[1m1s\u001B[0m 1ms/step - accuracy: 0.9151 - loss: 0.1535\n",
      "Epoch 33/70\n",
      "\u001B[1m1125/1125\u001B[0m \u001B[32m━━━━━━━━━━━━━━━━━━━━\u001B[0m\u001B[37m\u001B[0m \u001B[1m1s\u001B[0m 1ms/step - accuracy: 0.9160 - loss: 0.1542\n",
      "Epoch 34/70\n",
      "\u001B[1m1125/1125\u001B[0m \u001B[32m━━━━━━━━━━━━━━━━━━━━\u001B[0m\u001B[37m\u001B[0m \u001B[1m1s\u001B[0m 1ms/step - accuracy: 0.9154 - loss: 0.1538\n",
      "Epoch 35/70\n",
      "\u001B[1m1125/1125\u001B[0m \u001B[32m━━━━━━━━━━━━━━━━━━━━\u001B[0m\u001B[37m\u001B[0m \u001B[1m1s\u001B[0m 1ms/step - accuracy: 0.9201 - loss: 0.1490\n",
      "Epoch 36/70\n",
      "\u001B[1m1125/1125\u001B[0m \u001B[32m━━━━━━━━━━━━━━━━━━━━\u001B[0m\u001B[37m\u001B[0m \u001B[1m1s\u001B[0m 1ms/step - accuracy: 0.9163 - loss: 0.1586\n",
      "Epoch 37/70\n",
      "\u001B[1m1125/1125\u001B[0m \u001B[32m━━━━━━━━━━━━━━━━━━━━\u001B[0m\u001B[37m\u001B[0m \u001B[1m1s\u001B[0m 1ms/step - accuracy: 0.9205 - loss: 0.1464\n",
      "Epoch 38/70\n",
      "\u001B[1m1125/1125\u001B[0m \u001B[32m━━━━━━━━━━━━━━━━━━━━\u001B[0m\u001B[37m\u001B[0m \u001B[1m1s\u001B[0m 1ms/step - accuracy: 0.9219 - loss: 0.1420\n",
      "Epoch 39/70\n",
      "\u001B[1m1125/1125\u001B[0m \u001B[32m━━━━━━━━━━━━━━━━━━━━\u001B[0m\u001B[37m\u001B[0m \u001B[1m1s\u001B[0m 1ms/step - accuracy: 0.9286 - loss: 0.1351\n",
      "Epoch 40/70\n",
      "\u001B[1m1125/1125\u001B[0m \u001B[32m━━━━━━━━━━━━━━━━━━━━\u001B[0m\u001B[37m\u001B[0m \u001B[1m1s\u001B[0m 1ms/step - accuracy: 0.9278 - loss: 0.1377\n",
      "Epoch 41/70\n",
      "\u001B[1m1125/1125\u001B[0m \u001B[32m━━━━━━━━━━━━━━━━━━━━\u001B[0m\u001B[37m\u001B[0m \u001B[1m1s\u001B[0m 1ms/step - accuracy: 0.9297 - loss: 0.1368\n",
      "Epoch 42/70\n",
      "\u001B[1m1125/1125\u001B[0m \u001B[32m━━━━━━━━━━━━━━━━━━━━\u001B[0m\u001B[37m\u001B[0m \u001B[1m1s\u001B[0m 1ms/step - accuracy: 0.9275 - loss: 0.1391\n",
      "Epoch 43/70\n",
      "\u001B[1m1125/1125\u001B[0m \u001B[32m━━━━━━━━━━━━━━━━━━━━\u001B[0m\u001B[37m\u001B[0m \u001B[1m1s\u001B[0m 1ms/step - accuracy: 0.9281 - loss: 0.1326\n",
      "Epoch 44/70\n",
      "\u001B[1m1125/1125\u001B[0m \u001B[32m━━━━━━━━━━━━━━━━━━━━\u001B[0m\u001B[37m\u001B[0m \u001B[1m1s\u001B[0m 1ms/step - accuracy: 0.9282 - loss: 0.1402\n",
      "Epoch 45/70\n",
      "\u001B[1m1125/1125\u001B[0m \u001B[32m━━━━━━━━━━━━━━━━━━━━\u001B[0m\u001B[37m\u001B[0m \u001B[1m1s\u001B[0m 1ms/step - accuracy: 0.9296 - loss: 0.1302\n",
      "Epoch 46/70\n",
      "\u001B[1m1125/1125\u001B[0m \u001B[32m━━━━━━━━━━━━━━━━━━━━\u001B[0m\u001B[37m\u001B[0m \u001B[1m1s\u001B[0m 1ms/step - accuracy: 0.9311 - loss: 0.1285\n",
      "Epoch 47/70\n",
      "\u001B[1m1125/1125\u001B[0m \u001B[32m━━━━━━━━━━━━━━━━━━━━\u001B[0m\u001B[37m\u001B[0m \u001B[1m1s\u001B[0m 1ms/step - accuracy: 0.9321 - loss: 0.1288\n",
      "Epoch 48/70\n",
      "\u001B[1m1125/1125\u001B[0m \u001B[32m━━━━━━━━━━━━━━━━━━━━\u001B[0m\u001B[37m\u001B[0m \u001B[1m1s\u001B[0m 1ms/step - accuracy: 0.9330 - loss: 0.1261\n",
      "Epoch 49/70\n",
      "\u001B[1m1125/1125\u001B[0m \u001B[32m━━━━━━━━━━━━━━━━━━━━\u001B[0m\u001B[37m\u001B[0m \u001B[1m1s\u001B[0m 1ms/step - accuracy: 0.9341 - loss: 0.1231\n",
      "Epoch 50/70\n",
      "\u001B[1m1125/1125\u001B[0m \u001B[32m━━━━━━━━━━━━━━━━━━━━\u001B[0m\u001B[37m\u001B[0m \u001B[1m1s\u001B[0m 1ms/step - accuracy: 0.9379 - loss: 0.1212\n",
      "Epoch 51/70\n",
      "\u001B[1m1125/1125\u001B[0m \u001B[32m━━━━━━━━━━━━━━━━━━━━\u001B[0m\u001B[37m\u001B[0m \u001B[1m1s\u001B[0m 1ms/step - accuracy: 0.9403 - loss: 0.1174\n",
      "Epoch 52/70\n",
      "\u001B[1m1125/1125\u001B[0m \u001B[32m━━━━━━━━━━━━━━━━━━━━\u001B[0m\u001B[37m\u001B[0m \u001B[1m1s\u001B[0m 1ms/step - accuracy: 0.9359 - loss: 0.1230\n",
      "Epoch 53/70\n",
      "\u001B[1m1125/1125\u001B[0m \u001B[32m━━━━━━━━━━━━━━━━━━━━\u001B[0m\u001B[37m\u001B[0m \u001B[1m1s\u001B[0m 1ms/step - accuracy: 0.9388 - loss: 0.1185\n",
      "Epoch 54/70\n",
      "\u001B[1m1125/1125\u001B[0m \u001B[32m━━━━━━━━━━━━━━━━━━━━\u001B[0m\u001B[37m\u001B[0m \u001B[1m1s\u001B[0m 1ms/step - accuracy: 0.9388 - loss: 0.1154\n",
      "Epoch 55/70\n",
      "\u001B[1m1125/1125\u001B[0m \u001B[32m━━━━━━━━━━━━━━━━━━━━\u001B[0m\u001B[37m\u001B[0m \u001B[1m1s\u001B[0m 1ms/step - accuracy: 0.9398 - loss: 0.1171\n",
      "Epoch 56/70\n",
      "\u001B[1m1125/1125\u001B[0m \u001B[32m━━━━━━━━━━━━━━━━━━━━\u001B[0m\u001B[37m\u001B[0m \u001B[1m1s\u001B[0m 1ms/step - accuracy: 0.9418 - loss: 0.1109\n",
      "Epoch 57/70\n",
      "\u001B[1m1125/1125\u001B[0m \u001B[32m━━━━━━━━━━━━━━━━━━━━\u001B[0m\u001B[37m\u001B[0m \u001B[1m1s\u001B[0m 1ms/step - accuracy: 0.9419 - loss: 0.1126\n",
      "Epoch 58/70\n",
      "\u001B[1m1125/1125\u001B[0m \u001B[32m━━━━━━━━━━━━━━━━━━━━\u001B[0m\u001B[37m\u001B[0m \u001B[1m1s\u001B[0m 1ms/step - accuracy: 0.9451 - loss: 0.1086\n",
      "Epoch 59/70\n",
      "\u001B[1m1125/1125\u001B[0m \u001B[32m━━━━━━━━━━━━━━━━━━━━\u001B[0m\u001B[37m\u001B[0m \u001B[1m1s\u001B[0m 1ms/step - accuracy: 0.9471 - loss: 0.1086\n",
      "Epoch 60/70\n",
      "\u001B[1m1125/1125\u001B[0m \u001B[32m━━━━━━━━━━━━━━━━━━━━\u001B[0m\u001B[37m\u001B[0m \u001B[1m1s\u001B[0m 1ms/step - accuracy: 0.9447 - loss: 0.1107\n",
      "Epoch 61/70\n",
      "\u001B[1m1125/1125\u001B[0m \u001B[32m━━━━━━━━━━━━━━━━━━━━\u001B[0m\u001B[37m\u001B[0m \u001B[1m1s\u001B[0m 1ms/step - accuracy: 0.9495 - loss: 0.1005\n",
      "Epoch 62/70\n",
      "\u001B[1m1125/1125\u001B[0m \u001B[32m━━━━━━━━━━━━━━━━━━━━\u001B[0m\u001B[37m\u001B[0m \u001B[1m1s\u001B[0m 1ms/step - accuracy: 0.9509 - loss: 0.1006\n",
      "Epoch 63/70\n",
      "\u001B[1m1125/1125\u001B[0m \u001B[32m━━━━━━━━━━━━━━━━━━━━\u001B[0m\u001B[37m\u001B[0m \u001B[1m1s\u001B[0m 1ms/step - accuracy: 0.9517 - loss: 0.0999\n",
      "Epoch 64/70\n",
      "\u001B[1m1125/1125\u001B[0m \u001B[32m━━━━━━━━━━━━━━━━━━━━\u001B[0m\u001B[37m\u001B[0m \u001B[1m1s\u001B[0m 1ms/step - accuracy: 0.9510 - loss: 0.0998\n",
      "Epoch 65/70\n",
      "\u001B[1m1125/1125\u001B[0m \u001B[32m━━━━━━━━━━━━━━━━━━━━\u001B[0m\u001B[37m\u001B[0m \u001B[1m1s\u001B[0m 1ms/step - accuracy: 0.9482 - loss: 0.1064\n",
      "Epoch 66/70\n",
      "\u001B[1m1125/1125\u001B[0m \u001B[32m━━━━━━━━━━━━━━━━━━━━\u001B[0m\u001B[37m\u001B[0m \u001B[1m1s\u001B[0m 1ms/step - accuracy: 0.9518 - loss: 0.1003\n",
      "Epoch 67/70\n",
      "\u001B[1m1125/1125\u001B[0m \u001B[32m━━━━━━━━━━━━━━━━━━━━\u001B[0m\u001B[37m\u001B[0m \u001B[1m1s\u001B[0m 1ms/step - accuracy: 0.9483 - loss: 0.1076\n",
      "Epoch 68/70\n",
      "\u001B[1m1125/1125\u001B[0m \u001B[32m━━━━━━━━━━━━━━━━━━━━\u001B[0m\u001B[37m\u001B[0m \u001B[1m1s\u001B[0m 1ms/step - accuracy: 0.9553 - loss: 0.0941\n",
      "Epoch 69/70\n",
      "\u001B[1m1125/1125\u001B[0m \u001B[32m━━━━━━━━━━━━━━━━━━━━\u001B[0m\u001B[37m\u001B[0m \u001B[1m1s\u001B[0m 1ms/step - accuracy: 0.9543 - loss: 0.0980\n",
      "Epoch 70/70\n",
      "\u001B[1m1125/1125\u001B[0m \u001B[32m━━━━━━━━━━━━━━━━━━━━\u001B[0m\u001B[37m\u001B[0m \u001B[1m1s\u001B[0m 1ms/step - accuracy: 0.9563 - loss: 0.0908\n"
     ]
    }
   ],
   "execution_count": 67
  },
  {
   "metadata": {
    "ExecuteTime": {
     "end_time": "2025-05-17T12:59:13.368237Z",
     "start_time": "2025-05-17T12:59:12.977026Z"
    }
   },
   "cell_type": "code",
   "source": "model_new_2.evaluate(X_test_new_sc,y_test)",
   "id": "1d0ee55020998fb8",
   "outputs": [
    {
     "name": "stdout",
     "output_type": "stream",
     "text": [
      "\u001B[1m282/282\u001B[0m \u001B[32m━━━━━━━━━━━━━━━━━━━━\u001B[0m\u001B[37m\u001B[0m \u001B[1m0s\u001B[0m 836us/step - accuracy: 0.8902 - loss: 0.3959\n"
     ]
    },
    {
     "data": {
      "text/plain": [
       "[0.41722309589385986, 0.8874444365501404]"
      ]
     },
     "execution_count": 68,
     "metadata": {},
     "output_type": "execute_result"
    }
   ],
   "execution_count": 68
  },
  {
   "metadata": {},
   "cell_type": "markdown",
   "source": "## model_new_2 Predict",
   "id": "973d181b25a632a2"
  },
  {
   "metadata": {
    "ExecuteTime": {
     "end_time": "2025-05-17T12:59:16.248914Z",
     "start_time": "2025-05-17T12:59:15.826946Z"
    }
   },
   "cell_type": "code",
   "source": [
    "y_preds_new_2 = model_new_2.predict(X_test_new_sc)\n",
    "y_preds_new_2 = (y_preds_new_2 > 0.5).astype(int)\n",
    "y_preds_new_2"
   ],
   "id": "d894ea83f129020d",
   "outputs": [
    {
     "name": "stdout",
     "output_type": "stream",
     "text": [
      "\u001B[1m282/282\u001B[0m \u001B[32m━━━━━━━━━━━━━━━━━━━━\u001B[0m\u001B[37m\u001B[0m \u001B[1m0s\u001B[0m 840us/step\n"
     ]
    },
    {
     "data": {
      "text/plain": [
       "array([[0],\n",
       "       [0],\n",
       "       [1],\n",
       "       ...,\n",
       "       [0],\n",
       "       [1],\n",
       "       [1]])"
      ]
     },
     "execution_count": 69,
     "metadata": {},
     "output_type": "execute_result"
    }
   ],
   "execution_count": 69
  },
  {
   "metadata": {
    "ExecuteTime": {
     "end_time": "2025-05-17T12:59:18.732593Z",
     "start_time": "2025-05-17T12:59:18.631039Z"
    }
   },
   "cell_type": "code",
   "source": "pd.DataFrame(history_new_2.history).plot(figsize=(8,5))",
   "id": "90d4ac46fe05a441",
   "outputs": [
    {
     "data": {
      "text/plain": [
       "<Axes: >"
      ]
     },
     "execution_count": 70,
     "metadata": {},
     "output_type": "execute_result"
    },
    {
     "data": {
      "text/plain": [
       "<Figure size 800x500 with 1 Axes>"
      ],
      "image/png": "[encoded data removed]"
     },
     "metadata": {},
     "output_type": "display_data"
    }
   ],
   "execution_count": 70
  },
  {
   "metadata": {
    "ExecuteTime": {
     "end_time": "2025-05-17T12:59:20.757397Z",
     "start_time": "2025-05-17T12:59:20.665958Z"
    }
   },
   "cell_type": "code",
   "source": "plot_confusion_matrix(y_test1,y_preds_new_2)",
   "id": "69cbfd56b44b966e",
   "outputs": [
    {
     "data": {
      "text/plain": [
       "<Figure size 500x400 with 2 Axes>"
      ],
      "image/png": "[encoded data removed]"
     },
     "metadata": {},
     "output_type": "display_data"
    }
   ],
   "execution_count": 71
  },
  {
   "metadata": {
    "ExecuteTime": {
     "end_time": "2025-05-17T12:59:24.625318Z",
     "start_time": "2025-05-17T12:59:24.612996Z"
    }
   },
   "cell_type": "code",
   "source": "X_train1.head()",
   "id": "ad22aab2250472c1",
   "outputs": [
    {
     "data": {
      "text/plain": [
       "       person_age  person_income  person_emp_exp  loan_amnt  loan_int_rate  \\\n",
       "25180        34.0        97265.0              11    15000.0          12.73   \n",
       "12555        25.0        72953.0               3    12000.0          11.86   \n",
       "29153        41.0       322597.0              18    24000.0          10.37   \n",
       "23838        27.0        94232.0               4     9600.0          17.14   \n",
       "35686        27.0        84873.0               7     7059.0          12.97   \n",
       "\n",
       "       loan_percent_income  cb_person_cred_hist_length  credit_score  \\\n",
       "25180                 0.15                         9.0           631   \n",
       "12555                 0.16                         4.0           659   \n",
       "29153                 0.07                        11.0           683   \n",
       "23838                 0.10                         7.0           641   \n",
       "35686                 0.08                         3.0           706   \n",
       "\n",
       "       person_gender_female  person_gender_male  ...  \\\n",
       "25180                     1                   0  ...   \n",
       "12555                     0                   1  ...   \n",
       "29153                     1                   0  ...   \n",
       "23838                     0                   1  ...   \n",
       "35686                     0                   1  ...   \n",
       "\n",
       "       person_home_ownership_OWN  person_home_ownership_RENT  \\\n",
       "25180                          0                           0   \n",
       "12555                          0                           1   \n",
       "29153                          0                           0   \n",
       "23838                          0                           1   \n",
       "35686                          0                           1   \n",
       "\n",
       "       loan_intent_DEBTCONSOLIDATION  loan_intent_EDUCATION  \\\n",
       "25180                              0                      0   \n",
       "12555                              0                      0   \n",
       "29153                              0                      0   \n",
       "23838                              0                      1   \n",
       "35686                              0                      0   \n",
       "\n",
       "       loan_intent_HOMEIMPROVEMENT  loan_intent_MEDICAL  loan_intent_PERSONAL  \\\n",
       "25180                            0                    0                     1   \n",
       "12555                            0                    0                     0   \n",
       "29153                            0                    0                     1   \n",
       "23838                            0                    0                     0   \n",
       "35686                            1                    0                     0   \n",
       "\n",
       "       loan_intent_VENTURE  previous_loan_defaults_on_file_No  \\\n",
       "25180                    0                                  1   \n",
       "12555                    1                                  0   \n",
       "29153                    0                                  0   \n",
       "23838                    0                                  1   \n",
       "35686                    0                                  0   \n",
       "\n",
       "       previous_loan_defaults_on_file_Yes  \n",
       "25180                                   0  \n",
       "12555                                   1  \n",
       "29153                                   1  \n",
       "23838                                   0  \n",
       "35686                                   1  \n",
       "\n",
       "[5 rows x 27 columns]"
      ],
      "text/html": [
       "<div>\n",
       "<style scoped>\n",
       "    .dataframe tbody tr th:only-of-type {\n",
       "        vertical-align: middle;\n",
       "    }\n",
       "\n",
       "    .dataframe tbody tr th {\n",
       "        vertical-align: top;\n",
       "    }\n",
       "\n",
       "    .dataframe thead th {\n",
       "        text-align: right;\n",
       "    }\n",
       "</style>\n",
       "<table border=\"1\" class=\"dataframe\">\n",
       "  <thead>\n",
       "    <tr style=\"text-align: right;\">\n",
       "      <th></th>\n",
       "      <th>person_age</th>\n",
       "      <th>person_income</th>\n",
       "      <th>person_emp_exp</th>\n",
       "      <th>loan_amnt</th>\n",
       "      <th>loan_int_rate</th>\n",
       "      <th>loan_percent_income</th>\n",
       "      <th>cb_person_cred_hist_length</th>\n",
       "      <th>credit_score</th>\n",
       "      <th>person_gender_female</th>\n",
       "      <th>person_gender_male</th>\n",
       "      <th>...</th>\n",
       "      <th>person_home_ownership_OWN</th>\n",
       "      <th>person_home_ownership_RENT</th>\n",
       "      <th>loan_intent_DEBTCONSOLIDATION</th>\n",
       "      <th>loan_intent_EDUCATION</th>\n",
       "      <th>loan_intent_HOMEIMPROVEMENT</th>\n",
       "      <th>loan_intent_MEDICAL</th>\n",
       "      <th>loan_intent_PERSONAL</th>\n",
       "      <th>loan_intent_VENTURE</th>\n",
       "      <th>previous_loan_defaults_on_file_No</th>\n",
       "      <th>previous_loan_defaults_on_file_Yes</th>\n",
       "    </tr>\n",
       "  </thead>\n",
       "  <tbody>\n",
       "    <tr>\n",
       "      <th>25180</th>\n",
       "      <td>34.0</td>\n",
       "      <td>97265.0</td>\n",
       "      <td>11</td>\n",
       "      <td>15000.0</td>\n",
       "      <td>12.73</td>\n",
       "      <td>0.15</td>\n",
       "      <td>9.0</td>\n",
       "      <td>631</td>\n",
       "      <td>1</td>\n",
       "      <td>0</td>\n",
       "      <td>...</td>\n",
       "      <td>0</td>\n",
       "      <td>0</td>\n",
       "      <td>0</td>\n",
       "      <td>0</td>\n",
       "      <td>0</td>\n",
       "      <td>0</td>\n",
       "      <td>1</td>\n",
       "      <td>0</td>\n",
       "      <td>1</td>\n",
       "      <td>0</td>\n",
       "    </tr>\n",
       "    <tr>\n",
       "      <th>12555</th>\n",
       "      <td>25.0</td>\n",
       "      <td>72953.0</td>\n",
       "      <td>3</td>\n",
       "      <td>12000.0</td>\n",
       "      <td>11.86</td>\n",
       "      <td>0.16</td>\n",
       "      <td>4.0</td>\n",
       "      <td>659</td>\n",
       "      <td>0</td>\n",
       "      <td>1</td>\n",
       "      <td>...</td>\n",
       "      <td>0</td>\n",
       "      <td>1</td>\n",
       "      <td>0</td>\n",
       "      <td>0</td>\n",
       "      <td>0</td>\n",
       "      <td>0</td>\n",
       "      <td>0</td>\n",
       "      <td>1</td>\n",
       "      <td>0</td>\n",
       "      <td>1</td>\n",
       "    </tr>\n",
       "    <tr>\n",
       "      <th>29153</th>\n",
       "      <td>41.0</td>\n",
       "      <td>322597.0</td>\n",
       "      <td>18</td>\n",
       "      <td>24000.0</td>\n",
       "      <td>10.37</td>\n",
       "      <td>0.07</td>\n",
       "      <td>11.0</td>\n",
       "      <td>683</td>\n",
       "      <td>1</td>\n",
       "      <td>0</td>\n",
       "      <td>...</td>\n",
       "      <td>0</td>\n",
       "      <td>0</td>\n",
       "      <td>0</td>\n",
       "      <td>0</td>\n",
       "      <td>0</td>\n",
       "      <td>0</td>\n",
       "      <td>1</td>\n",
       "      <td>0</td>\n",
       "      <td>0</td>\n",
       "      <td>1</td>\n",
       "    </tr>\n",
       "    <tr>\n",
       "      <th>23838</th>\n",
       "      <td>27.0</td>\n",
       "      <td>94232.0</td>\n",
       "      <td>4</td>\n",
       "      <td>9600.0</td>\n",
       "      <td>17.14</td>\n",
       "      <td>0.10</td>\n",
       "      <td>7.0</td>\n",
       "      <td>641</td>\n",
       "      <td>0</td>\n",
       "      <td>1</td>\n",
       "      <td>...</td>\n",
       "      <td>0</td>\n",
       "      <td>1</td>\n",
       "      <td>0</td>\n",
       "      <td>1</td>\n",
       "      <td>0</td>\n",
       "      <td>0</td>\n",
       "      <td>0</td>\n",
       "      <td>0</td>\n",
       "      <td>1</td>\n",
       "      <td>0</td>\n",
       "    </tr>\n",
       "    <tr>\n",
       "      <th>35686</th>\n",
       "      <td>27.0</td>\n",
       "      <td>84873.0</td>\n",
       "      <td>7</td>\n",
       "      <td>7059.0</td>\n",
       "      <td>12.97</td>\n",
       "      <td>0.08</td>\n",
       "      <td>3.0</td>\n",
       "      <td>706</td>\n",
       "      <td>0</td>\n",
       "      <td>1</td>\n",
       "      <td>...</td>\n",
       "      <td>0</td>\n",
       "      <td>1</td>\n",
       "      <td>0</td>\n",
       "      <td>0</td>\n",
       "      <td>1</td>\n",
       "      <td>0</td>\n",
       "      <td>0</td>\n",
       "      <td>0</td>\n",
       "      <td>0</td>\n",
       "      <td>1</td>\n",
       "    </tr>\n",
       "  </tbody>\n",
       "</table>\n",
       "<p>5 rows × 27 columns</p>\n",
       "</div>"
      ]
     },
     "execution_count": 72,
     "metadata": {},
     "output_type": "execute_result"
    }
   ],
   "execution_count": 72
  },
  {
   "metadata": {
    "ExecuteTime": {
     "end_time": "2025-05-17T12:59:26.472194Z",
     "start_time": "2025-05-17T12:59:26.468969Z"
    }
   },
   "cell_type": "code",
   "source": "print(X_train1.columns.tolist())\n",
   "id": "e7c5c39b3ed88920",
   "outputs": [
    {
     "name": "stdout",
     "output_type": "stream",
     "text": [
      "['person_age', 'person_income', 'person_emp_exp', 'loan_amnt', 'loan_int_rate', 'loan_percent_income', 'cb_person_cred_hist_length', 'credit_score', 'person_gender_female', 'person_gender_male', 'person_education_Associate', 'person_education_Bachelor', 'person_education_Doctorate', 'person_education_High School', 'person_education_Master', 'person_home_ownership_MORTGAGE', 'person_home_ownership_OTHER', 'person_home_ownership_OWN', 'person_home_ownership_RENT', 'loan_intent_DEBTCONSOLIDATION', 'loan_intent_EDUCATION', 'loan_intent_HOMEIMPROVEMENT', 'loan_intent_MEDICAL', 'loan_intent_PERSONAL', 'loan_intent_VENTURE', 'previous_loan_defaults_on_file_No', 'previous_loan_defaults_on_file_Yes']\n"
     ]
    }
   ],
   "execution_count": 73
  },
  {
   "metadata": {
    "ExecuteTime": {
     "end_time": "2025-05-17T12:59:28.014033Z",
     "start_time": "2025-05-17T12:59:28.008723Z"
    }
   },
   "cell_type": "code",
   "source": "X_test1.iloc[25]",
   "id": "5a6aa737927420bd",
   "outputs": [
    {
     "data": {
      "text/plain": [
       "person_age                               29.00\n",
       "person_income                         60991.00\n",
       "person_emp_exp                            6.00\n",
       "loan_amnt                             13650.00\n",
       "loan_int_rate                            10.99\n",
       "loan_percent_income                       0.22\n",
       "cb_person_cred_hist_length                9.00\n",
       "credit_score                            626.00\n",
       "person_gender_female                      1.00\n",
       "person_gender_male                        0.00\n",
       "person_education_Associate                0.00\n",
       "person_education_Bachelor                 0.00\n",
       "person_education_Doctorate                0.00\n",
       "person_education_High School              0.00\n",
       "person_education_Master                   1.00\n",
       "person_home_ownership_MORTGAGE            1.00\n",
       "person_home_ownership_OTHER               0.00\n",
       "person_home_ownership_OWN                 0.00\n",
       "person_home_ownership_RENT                0.00\n",
       "loan_intent_DEBTCONSOLIDATION             0.00\n",
       "loan_intent_EDUCATION                     0.00\n",
       "loan_intent_HOMEIMPROVEMENT               0.00\n",
       "loan_intent_MEDICAL                       1.00\n",
       "loan_intent_PERSONAL                      0.00\n",
       "loan_intent_VENTURE                       0.00\n",
       "previous_loan_defaults_on_file_No         0.00\n",
       "previous_loan_defaults_on_file_Yes        1.00\n",
       "Name: 21716, dtype: float64"
      ]
     },
     "execution_count": 74,
     "metadata": {},
     "output_type": "execute_result"
    }
   ],
   "execution_count": 74
  },
  {
   "metadata": {
    "ExecuteTime": {
     "end_time": "2025-05-17T12:59:29.932153Z",
     "start_time": "2025-05-17T12:59:29.928569Z"
    }
   },
   "cell_type": "code",
   "source": "y_test1.iloc[25]",
   "id": "dbb36a0c74ae8b1c",
   "outputs": [
    {
     "data": {
      "text/plain": [
       "np.int64(0)"
      ]
     },
     "execution_count": 75,
     "metadata": {},
     "output_type": "execute_result"
    }
   ],
   "execution_count": 75
  },
  {
   "metadata": {
    "ExecuteTime": {
     "end_time": "2025-05-17T12:59:31.357209Z",
     "start_time": "2025-05-17T12:59:31.344184Z"
    }
   },
   "cell_type": "code",
   "source": "data",
   "id": "85550a131ab62f85",
   "outputs": [
    {
     "data": {
      "text/plain": [
       "       person_age person_gender person_education  person_income  \\\n",
       "0            22.0        female           Master        71948.0   \n",
       "1            21.0        female      High School        12282.0   \n",
       "2            25.0        female      High School        12438.0   \n",
       "3            23.0        female         Bachelor        79753.0   \n",
       "4            24.0          male           Master        66135.0   \n",
       "...           ...           ...              ...            ...   \n",
       "44995        27.0          male        Associate        47971.0   \n",
       "44996        37.0        female        Associate        65800.0   \n",
       "44997        33.0          male        Associate        56942.0   \n",
       "44998        29.0          male         Bachelor        33164.0   \n",
       "44999        24.0          male      High School        51609.0   \n",
       "\n",
       "       person_emp_exp person_home_ownership  loan_amnt        loan_intent  \\\n",
       "0                   0                  RENT    35000.0           PERSONAL   \n",
       "1                   0                   OWN     1000.0          EDUCATION   \n",
       "2                   3              MORTGAGE     5500.0            MEDICAL   \n",
       "3                   0                  RENT    35000.0            MEDICAL   \n",
       "4                   1                  RENT    35000.0            MEDICAL   \n",
       "...               ...                   ...        ...                ...   \n",
       "44995               6                  RENT    15000.0            MEDICAL   \n",
       "44996              17                  RENT     9000.0    HOMEIMPROVEMENT   \n",
       "44997               7                  RENT     2771.0  DEBTCONSOLIDATION   \n",
       "44998               4                  RENT    12000.0          EDUCATION   \n",
       "44999               1                  RENT     6665.0  DEBTCONSOLIDATION   \n",
       "\n",
       "       loan_int_rate  loan_percent_income  cb_person_cred_hist_length  \\\n",
       "0              16.02                 0.49                         3.0   \n",
       "1              11.14                 0.08                         2.0   \n",
       "2              12.87                 0.44                         3.0   \n",
       "3              15.23                 0.44                         2.0   \n",
       "4              14.27                 0.53                         4.0   \n",
       "...              ...                  ...                         ...   \n",
       "44995          15.66                 0.31                         3.0   \n",
       "44996          14.07                 0.14                        11.0   \n",
       "44997          10.02                 0.05                        10.0   \n",
       "44998          13.23                 0.36                         6.0   \n",
       "44999          17.05                 0.13                         3.0   \n",
       "\n",
       "       credit_score previous_loan_defaults_on_file  loan_status  \n",
       "0               561                             No            1  \n",
       "1               504                            Yes            0  \n",
       "2               635                             No            1  \n",
       "3               675                             No            1  \n",
       "4               586                             No            1  \n",
       "...             ...                            ...          ...  \n",
       "44995           645                             No            1  \n",
       "44996           621                             No            1  \n",
       "44997           668                             No            1  \n",
       "44998           604                             No            1  \n",
       "44999           628                             No            1  \n",
       "\n",
       "[45000 rows x 14 columns]"
      ],
      "text/html": [
       "<div>\n",
       "<style scoped>\n",
       "    .dataframe tbody tr th:only-of-type {\n",
       "        vertical-align: middle;\n",
       "    }\n",
       "\n",
       "    .dataframe tbody tr th {\n",
       "        vertical-align: top;\n",
       "    }\n",
       "\n",
       "    .dataframe thead th {\n",
       "        text-align: right;\n",
       "    }\n",
       "</style>\n",
       "<table border=\"1\" class=\"dataframe\">\n",
       "  <thead>\n",
       "    <tr style=\"text-align: right;\">\n",
       "      <th></th>\n",
       "      <th>person_age</th>\n",
       "      <th>person_gender</th>\n",
       "      <th>person_education</th>\n",
       "      <th>person_income</th>\n",
       "      <th>person_emp_exp</th>\n",
       "      <th>person_home_ownership</th>\n",
       "      <th>loan_amnt</th>\n",
       "      <th>loan_intent</th>\n",
       "      <th>loan_int_rate</th>\n",
       "      <th>loan_percent_income</th>\n",
       "      <th>cb_person_cred_hist_length</th>\n",
       "      <th>credit_score</th>\n",
       "      <th>previous_loan_defaults_on_file</th>\n",
       "      <th>loan_status</th>\n",
       "    </tr>\n",
       "  </thead>\n",
       "  <tbody>\n",
       "    <tr>\n",
       "      <th>0</th>\n",
       "      <td>22.0</td>\n",
       "      <td>female</td>\n",
       "      <td>Master</td>\n",
       "      <td>71948.0</td>\n",
       "      <td>0</td>\n",
       "      <td>RENT</td>\n",
       "      <td>35000.0</td>\n",
       "      <td>PERSONAL</td>\n",
       "      <td>16.02</td>\n",
       "      <td>0.49</td>\n",
       "      <td>3.0</td>\n",
       "      <td>561</td>\n",
       "      <td>No</td>\n",
       "      <td>1</td>\n",
       "    </tr>\n",
       "    <tr>\n",
       "      <th>1</th>\n",
       "      <td>21.0</td>\n",
       "      <td>female</td>\n",
       "      <td>High School</td>\n",
       "      <td>12282.0</td>\n",
       "      <td>0</td>\n",
       "      <td>OWN</td>\n",
       "      <td>1000.0</td>\n",
       "      <td>EDUCATION</td>\n",
       "      <td>11.14</td>\n",
       "      <td>0.08</td>\n",
       "      <td>2.0</td>\n",
       "      <td>504</td>\n",
       "      <td>Yes</td>\n",
       "      <td>0</td>\n",
       "    </tr>\n",
       "    <tr>\n",
       "      <th>2</th>\n",
       "      <td>25.0</td>\n",
       "      <td>female</td>\n",
       "      <td>High School</td>\n",
       "      <td>12438.0</td>\n",
       "      <td>3</td>\n",
       "      <td>MORTGAGE</td>\n",
       "      <td>5500.0</td>\n",
       "      <td>MEDICAL</td>\n",
       "      <td>12.87</td>\n",
       "      <td>0.44</td>\n",
       "      <td>3.0</td>\n",
       "      <td>635</td>\n",
       "      <td>No</td>\n",
       "      <td>1</td>\n",
       "    </tr>\n",
       "    <tr>\n",
       "      <th>3</th>\n",
       "      <td>23.0</td>\n",
       "      <td>female</td>\n",
       "      <td>Bachelor</td>\n",
       "      <td>79753.0</td>\n",
       "      <td>0</td>\n",
       "      <td>RENT</td>\n",
       "      <td>35000.0</td>\n",
       "      <td>MEDICAL</td>\n",
       "      <td>15.23</td>\n",
       "      <td>0.44</td>\n",
       "      <td>2.0</td>\n",
       "      <td>675</td>\n",
       "      <td>No</td>\n",
       "      <td>1</td>\n",
       "    </tr>\n",
       "    <tr>\n",
       "      <th>4</th>\n",
       "      <td>24.0</td>\n",
       "      <td>male</td>\n",
       "      <td>Master</td>\n",
       "      <td>66135.0</td>\n",
       "      <td>1</td>\n",
       "      <td>RENT</td>\n",
       "      <td>35000.0</td>\n",
       "      <td>MEDICAL</td>\n",
       "      <td>14.27</td>\n",
       "      <td>0.53</td>\n",
       "      <td>4.0</td>\n",
       "      <td>586</td>\n",
       "      <td>No</td>\n",
       "      <td>1</td>\n",
       "    </tr>\n",
       "    <tr>\n",
       "      <th>...</th>\n",
       "      <td>...</td>\n",
       "      <td>...</td>\n",
       "      <td>...</td>\n",
       "      <td>...</td>\n",
       "      <td>...</td>\n",
       "      <td>...</td>\n",
       "      <td>...</td>\n",
       "      <td>...</td>\n",
       "      <td>...</td>\n",
       "      <td>...</td>\n",
       "      <td>...</td>\n",
       "      <td>...</td>\n",
       "      <td>...</td>\n",
       "      <td>...</td>\n",
       "    </tr>\n",
       "    <tr>\n",
       "      <th>44995</th>\n",
       "      <td>27.0</td>\n",
       "      <td>male</td>\n",
       "      <td>Associate</td>\n",
       "      <td>47971.0</td>\n",
       "      <td>6</td>\n",
       "      <td>RENT</td>\n",
       "      <td>15000.0</td>\n",
       "      <td>MEDICAL</td>\n",
       "      <td>15.66</td>\n",
       "      <td>0.31</td>\n",
       "      <td>3.0</td>\n",
       "      <td>645</td>\n",
       "      <td>No</td>\n",
       "      <td>1</td>\n",
       "    </tr>\n",
       "    <tr>\n",
       "      <th>44996</th>\n",
       "      <td>37.0</td>\n",
       "      <td>female</td>\n",
       "      <td>Associate</td>\n",
       "      <td>65800.0</td>\n",
       "      <td>17</td>\n",
       "      <td>RENT</td>\n",
       "      <td>9000.0</td>\n",
       "      <td>HOMEIMPROVEMENT</td>\n",
       "      <td>14.07</td>\n",
       "      <td>0.14</td>\n",
       "      <td>11.0</td>\n",
       "      <td>621</td>\n",
       "      <td>No</td>\n",
       "      <td>1</td>\n",
       "    </tr>\n",
       "    <tr>\n",
       "      <th>44997</th>\n",
       "      <td>33.0</td>\n",
       "      <td>male</td>\n",
       "      <td>Associate</td>\n",
       "      <td>56942.0</td>\n",
       "      <td>7</td>\n",
       "      <td>RENT</td>\n",
       "      <td>2771.0</td>\n",
       "      <td>DEBTCONSOLIDATION</td>\n",
       "      <td>10.02</td>\n",
       "      <td>0.05</td>\n",
       "      <td>10.0</td>\n",
       "      <td>668</td>\n",
       "      <td>No</td>\n",
       "      <td>1</td>\n",
       "    </tr>\n",
       "    <tr>\n",
       "      <th>44998</th>\n",
       "      <td>29.0</td>\n",
       "      <td>male</td>\n",
       "      <td>Bachelor</td>\n",
       "      <td>33164.0</td>\n",
       "      <td>4</td>\n",
       "      <td>RENT</td>\n",
       "      <td>12000.0</td>\n",
       "      <td>EDUCATION</td>\n",
       "      <td>13.23</td>\n",
       "      <td>0.36</td>\n",
       "      <td>6.0</td>\n",
       "      <td>604</td>\n",
       "      <td>No</td>\n",
       "      <td>1</td>\n",
       "    </tr>\n",
       "    <tr>\n",
       "      <th>44999</th>\n",
       "      <td>24.0</td>\n",
       "      <td>male</td>\n",
       "      <td>High School</td>\n",
       "      <td>51609.0</td>\n",
       "      <td>1</td>\n",
       "      <td>RENT</td>\n",
       "      <td>6665.0</td>\n",
       "      <td>DEBTCONSOLIDATION</td>\n",
       "      <td>17.05</td>\n",
       "      <td>0.13</td>\n",
       "      <td>3.0</td>\n",
       "      <td>628</td>\n",
       "      <td>No</td>\n",
       "      <td>1</td>\n",
       "    </tr>\n",
       "  </tbody>\n",
       "</table>\n",
       "<p>45000 rows × 14 columns</p>\n",
       "</div>"
      ]
     },
     "execution_count": 76,
     "metadata": {},
     "output_type": "execute_result"
    }
   ],
   "execution_count": 76
  },
  {
   "metadata": {
    "ExecuteTime": {
     "end_time": "2025-05-17T12:59:37.555558Z",
     "start_time": "2025-05-17T12:59:37.465067Z"
    }
   },
   "cell_type": "code",
   "source": [
    "from sklearn.compose import ColumnTransformer, make_column_transformer\n",
    "from sklearn.preprocessing import MinMaxScaler, OneHotEncoder\n",
    "from sklearn.model_selection import train_test_split\n",
    "\n",
    "ct = make_column_transformer(\n",
    "    # Sayısal özellikler\n",
    "    (MinMaxScaler(), [\n",
    "        \"person_age\",\n",
    "        \"person_income\",\n",
    "        \"person_emp_exp\",\n",
    "        \"loan_amnt\",\n",
    "        \"loan_int_rate\",\n",
    "        \"loan_percent_income\",\n",
    "        \"cb_person_cred_hist_length\",\n",
    "        \"credit_score\"\n",
    "    ]),\n",
    "    # Kategorik özellikler\n",
    "    (OneHotEncoder(handle_unknown=\"ignore\"), [\n",
    "        \"person_gender\",\n",
    "        \"person_education\",\n",
    "        \"person_home_ownership\",\n",
    "        \"loan_intent\",\n",
    "        \"previous_loan_defaults_on_file\"\n",
    "    ])\n",
    ")\n",
    "\n",
    "# create X & y\n",
    "X = data.drop(\"loan_status\", axis=1)\n",
    "y = data[\"loan_status\"]\n",
    "\n",
    "#build our train and test sets\n",
    "X_train2, X_test2, y_train2, y_test2 = train_test_split(X, y, test_size=0.2, random_state=42)\n",
    "\n",
    "#Fit column transformer on the training data only\n",
    "ct.fit(X_train2)\n",
    "\n",
    "X_train_normalized = ct.transform(X_train2)\n",
    "X_test_normalized = ct.transform(X_test2)"
   ],
   "id": "ee6d994b8ee017b1",
   "outputs": [],
   "execution_count": 77
  },
  {
   "metadata": {
    "ExecuteTime": {
     "end_time": "2025-05-17T12:59:41.252672Z",
     "start_time": "2025-05-17T12:59:41.247844Z"
    }
   },
   "cell_type": "code",
   "source": "X_train2.loc[0]\n",
   "id": "30f9babf36ee0c6f",
   "outputs": [
    {
     "data": {
      "text/plain": [
       "person_age                            22.0\n",
       "person_gender                       female\n",
       "person_education                    Master\n",
       "person_income                      71948.0\n",
       "person_emp_exp                           0\n",
       "person_home_ownership                 RENT\n",
       "loan_amnt                          35000.0\n",
       "loan_intent                       PERSONAL\n",
       "loan_int_rate                        16.02\n",
       "loan_percent_income                   0.49\n",
       "cb_person_cred_hist_length             3.0\n",
       "credit_score                           561\n",
       "previous_loan_defaults_on_file          No\n",
       "Name: 0, dtype: object"
      ]
     },
     "execution_count": 78,
     "metadata": {},
     "output_type": "execute_result"
    }
   ],
   "execution_count": 78
  },
  {
   "metadata": {
    "ExecuteTime": {
     "end_time": "2025-05-17T12:59:42.953325Z",
     "start_time": "2025-05-17T12:59:42.949291Z"
    }
   },
   "cell_type": "code",
   "source": "X_train_normalized[0]\n",
   "id": "abc29d40e4856c5a",
   "outputs": [
    {
     "data": {
      "text/plain": [
       "array([0.11290323, 0.01241039, 0.088     , 0.42028986, 0.50137174,\n",
       "       0.23809524, 0.25      , 0.52391304, 1.        , 0.        ,\n",
       "       0.        , 1.        , 0.        , 0.        , 0.        ,\n",
       "       1.        , 0.        , 0.        , 0.        , 0.        ,\n",
       "       0.        , 0.        , 0.        , 1.        , 0.        ,\n",
       "       1.        , 0.        ])"
      ]
     },
     "execution_count": 79,
     "metadata": {},
     "output_type": "execute_result"
    }
   ],
   "execution_count": 79
  },
  {
   "metadata": {
    "ExecuteTime": {
     "end_time": "2025-05-17T12:59:45.116678Z",
     "start_time": "2025-05-17T12:59:45.113404Z"
    }
   },
   "cell_type": "code",
   "source": "X_train_normalized.shape,X_train2.shape\n",
   "id": "b4094c1e71c64947",
   "outputs": [
    {
     "data": {
      "text/plain": [
       "((36000, 27), (36000, 13))"
      ]
     },
     "execution_count": 80,
     "metadata": {},
     "output_type": "execute_result"
    }
   ],
   "execution_count": 80
  },
  {
   "metadata": {},
   "cell_type": "markdown",
   "source": "### 🧬 Third - Model_new_3 - Classification",
   "id": "70e425e782c58291"
  },
  {
   "metadata": {
    "ExecuteTime": {
     "end_time": "2025-05-17T13:01:55.460127Z",
     "start_time": "2025-05-17T13:00:28.675533Z"
    }
   },
   "cell_type": "code",
   "source": [
    "tf.random.set_seed(42)\n",
    "\n",
    "model_new_3 = tf.keras.Sequential([\n",
    "  tf.keras.layers.Input(shape=(27,)),\n",
    "  tf.keras.layers.Flatten(),\n",
    "    \n",
    "  tf.keras.layers.Dense(256, activation='relu'),\n",
    "  tf.keras.layers.Dense(128, activation='relu'),\n",
    "  tf.keras.layers.Dense(64, activation='relu'),\n",
    "  tf.keras.layers.Dense(32, activation='relu'),\n",
    "  tf.keras.layers.Dense(16, activation='relu'),\n",
    "  tf.keras.layers.Dropout(0.2),\n",
    "  tf.keras.layers.Dense(8, activation='relu'),\n",
    "  tf.keras.layers.Dense(4, activation='relu'),\n",
    "  tf.keras.layers.Dense(1, activation='sigmoid'),\n",
    "])\n",
    "\n",
    "model_new_3.compile(loss=tf.keras.losses.BinaryCrossentropy(),\n",
    "                optimizer=tf.keras.optimizers.Adam(learning_rate=1e-3),\n",
    "                metrics=[\"accuracy\"])\n",
    "\n",
    "history_new_3 = model_new_3.fit(X_train_normalized,y_train2,epochs=70,class_weight=class_weight_dict)"
   ],
   "id": "8dc975e026096740",
   "outputs": [
    {
     "name": "stdout",
     "output_type": "stream",
     "text": [
      "Epoch 1/70\n",
      "\u001B[1m1125/1125\u001B[0m \u001B[32m━━━━━━━━━━━━━━━━━━━━\u001B[0m\u001B[37m\u001B[0m \u001B[1m3s\u001B[0m 1ms/step - accuracy: 0.7782 - loss: 0.5150\n",
      "Epoch 2/70\n",
      "\u001B[1m1125/1125\u001B[0m \u001B[32m━━━━━━━━━━━━━━━━━━━━\u001B[0m\u001B[37m\u001B[0m \u001B[1m1s\u001B[0m 1ms/step - accuracy: 0.8635 - loss: 0.3608\n",
      "Epoch 3/70\n",
      "\u001B[1m1125/1125\u001B[0m \u001B[32m━━━━━━━━━━━━━━━━━━━━\u001B[0m\u001B[37m\u001B[0m \u001B[1m1s\u001B[0m 1ms/step - accuracy: 0.8669 - loss: 0.3060\n",
      "Epoch 4/70\n",
      "\u001B[1m1125/1125\u001B[0m \u001B[32m━━━━━━━━━━━━━━━━━━━━\u001B[0m\u001B[37m\u001B[0m \u001B[1m1s\u001B[0m 1ms/step - accuracy: 0.8745 - loss: 0.2768\n",
      "Epoch 5/70\n",
      "\u001B[1m1125/1125\u001B[0m \u001B[32m━━━━━━━━━━━━━━━━━━━━\u001B[0m\u001B[37m\u001B[0m \u001B[1m1s\u001B[0m 1ms/step - accuracy: 0.8790 - loss: 0.2593\n",
      "Epoch 6/70\n",
      "\u001B[1m1125/1125\u001B[0m \u001B[32m━━━━━━━━━━━━━━━━━━━━\u001B[0m\u001B[37m\u001B[0m \u001B[1m1s\u001B[0m 1ms/step - accuracy: 0.8835 - loss: 0.2487\n",
      "Epoch 7/70\n",
      "\u001B[1m1125/1125\u001B[0m \u001B[32m━━━━━━━━━━━━━━━━━━━━\u001B[0m\u001B[37m\u001B[0m \u001B[1m1s\u001B[0m 1ms/step - accuracy: 0.8851 - loss: 0.2396\n",
      "Epoch 8/70\n",
      "\u001B[1m1125/1125\u001B[0m \u001B[32m━━━━━━━━━━━━━━━━━━━━\u001B[0m\u001B[37m\u001B[0m \u001B[1m1s\u001B[0m 1ms/step - accuracy: 0.8871 - loss: 0.2368\n",
      "Epoch 9/70\n",
      "\u001B[1m1125/1125\u001B[0m \u001B[32m━━━━━━━━━━━━━━━━━━━━\u001B[0m\u001B[37m\u001B[0m \u001B[1m1s\u001B[0m 1ms/step - accuracy: 0.8868 - loss: 0.2312\n",
      "Epoch 10/70\n",
      "\u001B[1m1125/1125\u001B[0m \u001B[32m━━━━━━━━━━━━━━━━━━━━\u001B[0m\u001B[37m\u001B[0m \u001B[1m1s\u001B[0m 1ms/step - accuracy: 0.8888 - loss: 0.2278\n",
      "Epoch 11/70\n",
      "\u001B[1m1125/1125\u001B[0m \u001B[32m━━━━━━━━━━━━━━━━━━━━\u001B[0m\u001B[37m\u001B[0m \u001B[1m1s\u001B[0m 1ms/step - accuracy: 0.8886 - loss: 0.2254\n",
      "Epoch 12/70\n",
      "\u001B[1m1125/1125\u001B[0m \u001B[32m━━━━━━━━━━━━━━━━━━━━\u001B[0m\u001B[37m\u001B[0m \u001B[1m1s\u001B[0m 1ms/step - accuracy: 0.8917 - loss: 0.2228\n",
      "Epoch 13/70\n",
      "\u001B[1m1125/1125\u001B[0m \u001B[32m━━━━━━━━━━━━━━━━━━━━\u001B[0m\u001B[37m\u001B[0m \u001B[1m1s\u001B[0m 1ms/step - accuracy: 0.8916 - loss: 0.2208\n",
      "Epoch 14/70\n",
      "\u001B[1m1125/1125\u001B[0m \u001B[32m━━━━━━━━━━━━━━━━━━━━\u001B[0m\u001B[37m\u001B[0m \u001B[1m1s\u001B[0m 1ms/step - accuracy: 0.8923 - loss: 0.2206  \n",
      "Epoch 15/70\n",
      "\u001B[1m1125/1125\u001B[0m \u001B[32m━━━━━━━━━━━━━━━━━━━━\u001B[0m\u001B[37m\u001B[0m \u001B[1m1s\u001B[0m 1ms/step - accuracy: 0.8948 - loss: 0.2163\n",
      "Epoch 16/70\n",
      "\u001B[1m1125/1125\u001B[0m \u001B[32m━━━━━━━━━━━━━━━━━━━━\u001B[0m\u001B[37m\u001B[0m \u001B[1m1s\u001B[0m 1ms/step - accuracy: 0.8942 - loss: 0.2169\n",
      "Epoch 17/70\n",
      "\u001B[1m1125/1125\u001B[0m \u001B[32m━━━━━━━━━━━━━━━━━━━━\u001B[0m\u001B[37m\u001B[0m \u001B[1m1s\u001B[0m 1ms/step - accuracy: 0.8957 - loss: 0.2127\n",
      "Epoch 18/70\n",
      "\u001B[1m1125/1125\u001B[0m \u001B[32m━━━━━━━━━━━━━━━━━━━━\u001B[0m\u001B[37m\u001B[0m \u001B[1m1s\u001B[0m 1ms/step - accuracy: 0.8965 - loss: 0.2112\n",
      "Epoch 19/70\n",
      "\u001B[1m1125/1125\u001B[0m \u001B[32m━━━━━━━━━━━━━━━━━━━━\u001B[0m\u001B[37m\u001B[0m \u001B[1m1s\u001B[0m 1ms/step - accuracy: 0.8971 - loss: 0.2078\n",
      "Epoch 20/70\n",
      "\u001B[1m1125/1125\u001B[0m \u001B[32m━━━━━━━━━━━━━━━━━━━━\u001B[0m\u001B[37m\u001B[0m \u001B[1m1s\u001B[0m 1ms/step - accuracy: 0.8972 - loss: 0.2081\n",
      "Epoch 21/70\n",
      "\u001B[1m1125/1125\u001B[0m \u001B[32m━━━━━━━━━━━━━━━━━━━━\u001B[0m\u001B[37m\u001B[0m \u001B[1m1s\u001B[0m 1ms/step - accuracy: 0.8970 - loss: 0.2063\n",
      "Epoch 22/70\n",
      "\u001B[1m1125/1125\u001B[0m \u001B[32m━━━━━━━━━━━━━━━━━━━━\u001B[0m\u001B[37m\u001B[0m \u001B[1m1s\u001B[0m 1ms/step - accuracy: 0.8948 - loss: 0.2058\n",
      "Epoch 23/70\n",
      "\u001B[1m1125/1125\u001B[0m \u001B[32m━━━━━━━━━━━━━━━━━━━━\u001B[0m\u001B[37m\u001B[0m \u001B[1m1s\u001B[0m 1ms/step - accuracy: 0.8984 - loss: 0.2018\n",
      "Epoch 24/70\n",
      "\u001B[1m1125/1125\u001B[0m \u001B[32m━━━━━━━━━━━━━━━━━━━━\u001B[0m\u001B[37m\u001B[0m \u001B[1m1s\u001B[0m 1ms/step - accuracy: 0.8980 - loss: 0.2022\n",
      "Epoch 25/70\n",
      "\u001B[1m1125/1125\u001B[0m \u001B[32m━━━━━━━━━━━━━━━━━━━━\u001B[0m\u001B[37m\u001B[0m \u001B[1m1s\u001B[0m 1ms/step - accuracy: 0.8989 - loss: 0.2018\n",
      "Epoch 26/70\n",
      "\u001B[1m1125/1125\u001B[0m \u001B[32m━━━━━━━━━━━━━━━━━━━━\u001B[0m\u001B[37m\u001B[0m \u001B[1m1s\u001B[0m 1ms/step - accuracy: 0.9009 - loss: 0.1982\n",
      "Epoch 27/70\n",
      "\u001B[1m1125/1125\u001B[0m \u001B[32m━━━━━━━━━━━━━━━━━━━━\u001B[0m\u001B[37m\u001B[0m \u001B[1m1s\u001B[0m 1ms/step - accuracy: 0.9014 - loss: 0.1952\n",
      "Epoch 28/70\n",
      "\u001B[1m1125/1125\u001B[0m \u001B[32m━━━━━━━━━━━━━━━━━━━━\u001B[0m\u001B[37m\u001B[0m \u001B[1m1s\u001B[0m 1ms/step - accuracy: 0.9010 - loss: 0.1957\n",
      "Epoch 29/70\n",
      "\u001B[1m1125/1125\u001B[0m \u001B[32m━━━━━━━━━━━━━━━━━━━━\u001B[0m\u001B[37m\u001B[0m \u001B[1m1s\u001B[0m 1ms/step - accuracy: 0.9020 - loss: 0.1923\n",
      "Epoch 30/70\n",
      "\u001B[1m1125/1125\u001B[0m \u001B[32m━━━━━━━━━━━━━━━━━━━━\u001B[0m\u001B[37m\u001B[0m \u001B[1m1s\u001B[0m 1ms/step - accuracy: 0.8994 - loss: 0.1970\n",
      "Epoch 31/70\n",
      "\u001B[1m1125/1125\u001B[0m \u001B[32m━━━━━━━━━━━━━━━━━━━━\u001B[0m\u001B[37m\u001B[0m \u001B[1m1s\u001B[0m 1ms/step - accuracy: 0.9008 - loss: 0.1975\n",
      "Epoch 32/70\n",
      "\u001B[1m1125/1125\u001B[0m \u001B[32m━━━━━━━━━━━━━━━━━━━━\u001B[0m\u001B[37m\u001B[0m \u001B[1m1s\u001B[0m 1ms/step - accuracy: 0.9034 - loss: 0.1889\n",
      "Epoch 33/70\n",
      "\u001B[1m1125/1125\u001B[0m \u001B[32m━━━━━━━━━━━━━━━━━━━━\u001B[0m\u001B[37m\u001B[0m \u001B[1m1s\u001B[0m 1ms/step - accuracy: 0.9044 - loss: 0.1867\n",
      "Epoch 34/70\n",
      "\u001B[1m1125/1125\u001B[0m \u001B[32m━━━━━━━━━━━━━━━━━━━━\u001B[0m\u001B[37m\u001B[0m \u001B[1m1s\u001B[0m 1ms/step - accuracy: 0.9026 - loss: 0.1882\n",
      "Epoch 35/70\n",
      "\u001B[1m1125/1125\u001B[0m \u001B[32m━━━━━━━━━━━━━━━━━━━━\u001B[0m\u001B[37m\u001B[0m \u001B[1m1s\u001B[0m 1ms/step - accuracy: 0.9026 - loss: 0.1890\n",
      "Epoch 36/70\n",
      "\u001B[1m1125/1125\u001B[0m \u001B[32m━━━━━━━━━━━━━━━━━━━━\u001B[0m\u001B[37m\u001B[0m \u001B[1m1s\u001B[0m 1ms/step - accuracy: 0.9035 - loss: 0.1862\n",
      "Epoch 37/70\n",
      "\u001B[1m1125/1125\u001B[0m \u001B[32m━━━━━━━━━━━━━━━━━━━━\u001B[0m\u001B[37m\u001B[0m \u001B[1m1s\u001B[0m 1ms/step - accuracy: 0.9066 - loss: 0.1829\n",
      "Epoch 38/70\n",
      "\u001B[1m1125/1125\u001B[0m \u001B[32m━━━━━━━━━━━━━━━━━━━━\u001B[0m\u001B[37m\u001B[0m \u001B[1m1s\u001B[0m 1ms/step - accuracy: 0.9074 - loss: 0.1813\n",
      "Epoch 39/70\n",
      "\u001B[1m1125/1125\u001B[0m \u001B[32m━━━━━━━━━━━━━━━━━━━━\u001B[0m\u001B[37m\u001B[0m \u001B[1m1s\u001B[0m 1ms/step - accuracy: 0.9042 - loss: 0.1842\n",
      "Epoch 40/70\n",
      "\u001B[1m1125/1125\u001B[0m \u001B[32m━━━━━━━━━━━━━━━━━━━━\u001B[0m\u001B[37m\u001B[0m \u001B[1m1s\u001B[0m 1ms/step - accuracy: 0.9075 - loss: 0.1785\n",
      "Epoch 41/70\n",
      "\u001B[1m1125/1125\u001B[0m \u001B[32m━━━━━━━━━━━━━━━━━━━━\u001B[0m\u001B[37m\u001B[0m \u001B[1m1s\u001B[0m 1ms/step - accuracy: 0.9074 - loss: 0.1789\n",
      "Epoch 42/70\n",
      "\u001B[1m1125/1125\u001B[0m \u001B[32m━━━━━━━━━━━━━━━━━━━━\u001B[0m\u001B[37m\u001B[0m \u001B[1m1s\u001B[0m 1ms/step - accuracy: 0.9058 - loss: 0.1804\n",
      "Epoch 43/70\n",
      "\u001B[1m1125/1125\u001B[0m \u001B[32m━━━━━━━━━━━━━━━━━━━━\u001B[0m\u001B[37m\u001B[0m \u001B[1m1s\u001B[0m 1ms/step - accuracy: 0.9071 - loss: 0.1814\n",
      "Epoch 44/70\n",
      "\u001B[1m1125/1125\u001B[0m \u001B[32m━━━━━━━━━━━━━━━━━━━━\u001B[0m\u001B[37m\u001B[0m \u001B[1m1s\u001B[0m 1ms/step - accuracy: 0.9080 - loss: 0.1747\n",
      "Epoch 45/70\n",
      "\u001B[1m1125/1125\u001B[0m \u001B[32m━━━━━━━━━━━━━━━━━━━━\u001B[0m\u001B[37m\u001B[0m \u001B[1m1s\u001B[0m 1ms/step - accuracy: 0.9081 - loss: 0.1742\n",
      "Epoch 46/70\n",
      "\u001B[1m1125/1125\u001B[0m \u001B[32m━━━━━━━━━━━━━━━━━━━━\u001B[0m\u001B[37m\u001B[0m \u001B[1m1s\u001B[0m 1ms/step - accuracy: 0.9085 - loss: 0.1746\n",
      "Epoch 47/70\n",
      "\u001B[1m1125/1125\u001B[0m \u001B[32m━━━━━━━━━━━━━━━━━━━━\u001B[0m\u001B[37m\u001B[0m \u001B[1m1s\u001B[0m 1ms/step - accuracy: 0.9088 - loss: 0.1768\n",
      "Epoch 48/70\n",
      "\u001B[1m1125/1125\u001B[0m \u001B[32m━━━━━━━━━━━━━━━━━━━━\u001B[0m\u001B[37m\u001B[0m \u001B[1m1s\u001B[0m 1ms/step - accuracy: 0.9091 - loss: 0.1717\n",
      "Epoch 49/70\n",
      "\u001B[1m1125/1125\u001B[0m \u001B[32m━━━━━━━━━━━━━━━━━━━━\u001B[0m\u001B[37m\u001B[0m \u001B[1m1s\u001B[0m 1ms/step - accuracy: 0.9098 - loss: 0.1686\n",
      "Epoch 50/70\n",
      "\u001B[1m1125/1125\u001B[0m \u001B[32m━━━━━━━━━━━━━━━━━━━━\u001B[0m\u001B[37m\u001B[0m \u001B[1m1s\u001B[0m 1ms/step - accuracy: 0.9121 - loss: 0.1677\n",
      "Epoch 51/70\n",
      "\u001B[1m1125/1125\u001B[0m \u001B[32m━━━━━━━━━━━━━━━━━━━━\u001B[0m\u001B[37m\u001B[0m \u001B[1m1s\u001B[0m 1ms/step - accuracy: 0.9112 - loss: 0.1701\n",
      "Epoch 52/70\n",
      "\u001B[1m1125/1125\u001B[0m \u001B[32m━━━━━━━━━━━━━━━━━━━━\u001B[0m\u001B[37m\u001B[0m \u001B[1m1s\u001B[0m 1ms/step - accuracy: 0.9113 - loss: 0.1652\n",
      "Epoch 53/70\n",
      "\u001B[1m1125/1125\u001B[0m \u001B[32m━━━━━━━━━━━━━━━━━━━━\u001B[0m\u001B[37m\u001B[0m \u001B[1m1s\u001B[0m 1ms/step - accuracy: 0.9117 - loss: 0.1648\n",
      "Epoch 54/70\n",
      "\u001B[1m1125/1125\u001B[0m \u001B[32m━━━━━━━━━━━━━━━━━━━━\u001B[0m\u001B[37m\u001B[0m \u001B[1m1s\u001B[0m 1ms/step - accuracy: 0.9104 - loss: 0.1674\n",
      "Epoch 55/70\n",
      "\u001B[1m1125/1125\u001B[0m \u001B[32m━━━━━━━━━━━━━━━━━━━━\u001B[0m\u001B[37m\u001B[0m \u001B[1m1s\u001B[0m 1ms/step - accuracy: 0.9131 - loss: 0.1634\n",
      "Epoch 56/70\n",
      "\u001B[1m1125/1125\u001B[0m \u001B[32m━━━━━━━━━━━━━━━━━━━━\u001B[0m\u001B[37m\u001B[0m \u001B[1m1s\u001B[0m 1ms/step - accuracy: 0.9109 - loss: 0.1659\n",
      "Epoch 57/70\n",
      "\u001B[1m1125/1125\u001B[0m \u001B[32m━━━━━━━━━━━━━━━━━━━━\u001B[0m\u001B[37m\u001B[0m \u001B[1m1s\u001B[0m 1ms/step - accuracy: 0.9124 - loss: 0.1671\n",
      "Epoch 58/70\n",
      "\u001B[1m1125/1125\u001B[0m \u001B[32m━━━━━━━━━━━━━━━━━━━━\u001B[0m\u001B[37m\u001B[0m \u001B[1m1s\u001B[0m 1ms/step - accuracy: 0.9163 - loss: 0.1597\n",
      "Epoch 59/70\n",
      "\u001B[1m1125/1125\u001B[0m \u001B[32m━━━━━━━━━━━━━━━━━━━━\u001B[0m\u001B[37m\u001B[0m \u001B[1m1s\u001B[0m 1ms/step - accuracy: 0.9120 - loss: 0.1656\n",
      "Epoch 60/70\n",
      "\u001B[1m1125/1125\u001B[0m \u001B[32m━━━━━━━━━━━━━━━━━━━━\u001B[0m\u001B[37m\u001B[0m \u001B[1m1s\u001B[0m 1ms/step - accuracy: 0.9130 - loss: 0.1688\n",
      "Epoch 61/70\n",
      "\u001B[1m1125/1125\u001B[0m \u001B[32m━━━━━━━━━━━━━━━━━━━━\u001B[0m\u001B[37m\u001B[0m \u001B[1m1s\u001B[0m 1ms/step - accuracy: 0.9134 - loss: 0.1617\n",
      "Epoch 62/70\n",
      "\u001B[1m1125/1125\u001B[0m \u001B[32m━━━━━━━━━━━━━━━━━━━━\u001B[0m\u001B[37m\u001B[0m \u001B[1m1s\u001B[0m 1ms/step - accuracy: 0.9123 - loss: 0.1635\n",
      "Epoch 63/70\n",
      "\u001B[1m1125/1125\u001B[0m \u001B[32m━━━━━━━━━━━━━━━━━━━━\u001B[0m\u001B[37m\u001B[0m \u001B[1m1s\u001B[0m 1ms/step - accuracy: 0.9122 - loss: 0.1665\n",
      "Epoch 64/70\n",
      "\u001B[1m1125/1125\u001B[0m \u001B[32m━━━━━━━━━━━━━━━━━━━━\u001B[0m\u001B[37m\u001B[0m \u001B[1m1s\u001B[0m 1ms/step - accuracy: 0.9138 - loss: 0.1605\n",
      "Epoch 65/70\n",
      "\u001B[1m1125/1125\u001B[0m \u001B[32m━━━━━━━━━━━━━━━━━━━━\u001B[0m\u001B[37m\u001B[0m \u001B[1m1s\u001B[0m 1ms/step - accuracy: 0.9131 - loss: 0.1613\n",
      "Epoch 66/70\n",
      "\u001B[1m1125/1125\u001B[0m \u001B[32m━━━━━━━━━━━━━━━━━━━━\u001B[0m\u001B[37m\u001B[0m \u001B[1m1s\u001B[0m 1ms/step - accuracy: 0.9134 - loss: 0.1606\n",
      "Epoch 67/70\n",
      "\u001B[1m1125/1125\u001B[0m \u001B[32m━━━━━━━━━━━━━━━━━━━━\u001B[0m\u001B[37m\u001B[0m \u001B[1m1s\u001B[0m 1ms/step - accuracy: 0.9118 - loss: 0.1636\n",
      "Epoch 68/70\n",
      "\u001B[1m1125/1125\u001B[0m \u001B[32m━━━━━━━━━━━━━━━━━━━━\u001B[0m\u001B[37m\u001B[0m \u001B[1m1s\u001B[0m 1ms/step - accuracy: 0.9135 - loss: 0.1594\n",
      "Epoch 69/70\n",
      "\u001B[1m1125/1125\u001B[0m \u001B[32m━━━━━━━━━━━━━━━━━━━━\u001B[0m\u001B[37m\u001B[0m \u001B[1m1s\u001B[0m 1ms/step - accuracy: 0.9149 - loss: 0.1594\n",
      "Epoch 70/70\n",
      "\u001B[1m1125/1125\u001B[0m \u001B[32m━━━━━━━━━━━━━━━━━━━━\u001B[0m\u001B[37m\u001B[0m \u001B[1m1s\u001B[0m 1ms/step - accuracy: 0.9132 - loss: 0.1592\n"
     ]
    }
   ],
   "execution_count": 81
  },
  {
   "metadata": {
    "ExecuteTime": {
     "end_time": "2025-05-17T13:02:10.634722Z",
     "start_time": "2025-05-17T13:02:10.244820Z"
    }
   },
   "cell_type": "code",
   "source": "model_new_3.evaluate(X_test_normalized,y_test2)",
   "id": "5f4e1f94e4956d5",
   "outputs": [
    {
     "name": "stdout",
     "output_type": "stream",
     "text": [
      "\u001B[1m282/282\u001B[0m \u001B[32m━━━━━━━━━━━━━━━━━━━━\u001B[0m\u001B[37m\u001B[0m \u001B[1m0s\u001B[0m 829us/step - accuracy: 0.8903 - loss: 0.2357\n"
     ]
    },
    {
     "data": {
      "text/plain": [
       "[0.24440063536167145, 0.8915555477142334]"
      ]
     },
     "execution_count": 82,
     "metadata": {},
     "output_type": "execute_result"
    }
   ],
   "execution_count": 82
  },
  {
   "metadata": {
    "ExecuteTime": {
     "end_time": "2025-05-17T13:02:12.711766Z",
     "start_time": "2025-05-17T13:02:12.594072Z"
    }
   },
   "cell_type": "code",
   "source": "pd.DataFrame(history_new_3.history).plot(figsize=(8,5))",
   "id": "dbe0f75e1a336b62",
   "outputs": [
    {
     "data": {
      "text/plain": [
       "<Axes: >"
      ]
     },
     "execution_count": 83,
     "metadata": {},
     "output_type": "execute_result"
    },
    {
     "data": {
      "text/plain": [
       "<Figure size 800x500 with 1 Axes>"
      ],
      "image/png": "[encoded data removed]"
     },
     "metadata": {},
     "output_type": "display_data"
    }
   ],
   "execution_count": 83
  },
  {
   "metadata": {},
   "cell_type": "markdown",
   "source": "## Model_new_3 Predict",
   "id": "69a5d451100f5f60"
  },
  {
   "metadata": {
    "ExecuteTime": {
     "end_time": "2025-05-17T13:02:16.222906Z",
     "start_time": "2025-05-17T13:02:15.855978Z"
    }
   },
   "cell_type": "code",
   "source": [
    "y_preds_new_3 = model_new_3.predict(X_test_normalized)\n",
    "y_preds_new_3 = (y_preds_new_3 > 0.5).astype(int)\n",
    "y_preds_new_3"
   ],
   "id": "d8dd37ab8424741e",
   "outputs": [
    {
     "name": "stdout",
     "output_type": "stream",
     "text": [
      "\u001B[1m282/282\u001B[0m \u001B[32m━━━━━━━━━━━━━━━━━━━━\u001B[0m\u001B[37m\u001B[0m \u001B[1m0s\u001B[0m 719us/step\n"
     ]
    },
    {
     "data": {
      "text/plain": [
       "array([[0],\n",
       "       [0],\n",
       "       [1],\n",
       "       ...,\n",
       "       [0],\n",
       "       [0],\n",
       "       [1]])"
      ]
     },
     "execution_count": 84,
     "metadata": {},
     "output_type": "execute_result"
    }
   ],
   "execution_count": 84
  },
  {
   "metadata": {
    "ExecuteTime": {
     "end_time": "2025-05-17T13:02:18.754772Z",
     "start_time": "2025-05-17T13:02:18.663697Z"
    }
   },
   "cell_type": "code",
   "source": "plot_confusion_matrix(y_test2,y_preds_new_3)",
   "id": "34601e32d2d41230",
   "outputs": [
    {
     "data": {
      "text/plain": [
       "<Figure size 500x400 with 2 Axes>"
      ],
      "image/png": "[encoded data removed]"
     },
     "metadata": {},
     "output_type": "display_data"
    }
   ],
   "execution_count": 85
  },
  {
   "metadata": {
    "ExecuteTime": {
     "end_time": "2025-05-17T13:02:21.932249Z",
     "start_time": "2025-05-17T13:02:21.869579Z"
    }
   },
   "cell_type": "code",
   "source": [
    "idx = X_test2.index[2]   # örneğin test set’ten 7. örnek\n",
    "\n",
    "# 3) O satırı ham haliyle alın:\n",
    "row_raw    = X_test2.loc[[idx]]            # DataFrame, shape (1, n_features)\n",
    "actual     = y_test2.loc[idx]                  # gerçek credit_score\n",
    "\n",
    "# 4) Transformer ile dönüştürün:\n",
    "row_transf = ct.transform(row_raw)            # shape (1, n_transformed_features)\n",
    "\n",
    "# 5) Modelden tahmin alın:\n",
    "predicted  = model_new_3.predict(row_transf).squeeze()\n",
    "predicted  = (predicted > 0.5).astype(int)\n",
    "\n",
    "# 6) Karşılaştırın:\n",
    "print(f\"Seçilen indeks: {idx}\")\n",
    "print(f\"Gerçek credit_score:    {actual}\")\n",
    "print(f\"Tahmin edilen credit_score: {predicted:.2f}\")\n",
    "print(f\"Hata (pred–real):       {predicted - actual:+.2f}\")"
   ],
   "id": "da86925db0a6dddf",
   "outputs": [
    {
     "name": "stdout",
     "output_type": "stream",
     "text": [
      "\u001B[1m1/1\u001B[0m \u001B[32m━━━━━━━━━━━━━━━━━━━━\u001B[0m\u001B[37m\u001B[0m \u001B[1m0s\u001B[0m 26ms/step\n",
      "Seçilen indeks: 43386\n",
      "Gerçek credit_score:    1\n",
      "Tahmin edilen credit_score: 1.00\n",
      "Hata (pred–real):       +0.00\n"
     ]
    }
   ],
   "execution_count": 86
  },
  {
   "metadata": {},
   "cell_type": "markdown",
   "source": "### ✔ Save Model",
   "id": "32ab968a2560f649"
  },
  {
   "metadata": {
    "ExecuteTime": {
     "end_time": "2025-05-17T13:02:39.942527Z",
     "start_time": "2025-05-17T13:02:39.887553Z"
    }
   },
   "cell_type": "code",
   "source": "tf.keras.models.save_model(model_new_3, \"loan_status_model.h5\",overwrite=True)",
   "id": "67b3f0301cb65278",
   "outputs": [
    {
     "name": "stderr",
     "output_type": "stream",
     "text": [
      "WARNING:absl:You are saving your model as an HDF5 file via `model.save()` or `keras.saving.save_model(model)`. This file format is considered legacy. We recommend using instead the native Keras format, e.g. `model.save('my_model.keras')` or `keras.saving.save_model(model, 'my_model.keras')`. \n"
     ]
    }
   ],
   "execution_count": 87
  },
  {
   "metadata": {
    "ExecuteTime": {
     "end_time": "2025-05-17T13:02:42.269176Z",
     "start_time": "2025-05-17T13:02:42.233116Z"
    }
   },
   "cell_type": "code",
   "source": "tf.keras.models.save_model(model_new_3, \"loan_status_model.keras\",overwrite=True)",
   "id": "c7ff7e66c1ef2b74",
   "outputs": [],
   "execution_count": 88
  }
 ],
 "metadata": {
  "kernelspec": {
   "display_name": "Python 3",
   "language": "python",
   "name": "python3"
  },
  "language_info": {
   "codemirror_mode": {
    "name": "ipython",
    "version": 2
   },
   "file_extension": ".py",
   "mimetype": "text/x-python",
   "name": "python",
   "nbconvert_exporter": "python",
   "pygments_lexer": "ipython2",
   "version": "2.7.6"
  }
 },
 "nbformat": 4,
 "nbformat_minor": 5
}
